{
 "cells": [
  {
   "cell_type": "code",
   "execution_count": 1,
   "id": "e184c830",
   "metadata": {},
   "outputs": [],
   "source": [
    "import pandas as pd\n",
    "import numpy as np\n",
    "import math\n",
    "import datetime as dt\n",
    "import matplotlib.pyplot as plt\n",
    "import seaborn as sns"
   ]
  },
  {
   "cell_type": "code",
   "execution_count": 2,
   "id": "9f65d56f",
   "metadata": {},
   "outputs": [],
   "source": [
    "df=pd.read_csv('D:\\\\PGP IN DATA SCIENCE with Careerera\\\\Files\\\\flipkart_com-ecommerce_sample.csv')"
   ]
  },
  {
   "cell_type": "code",
   "execution_count": 3,
   "id": "f9853d04",
   "metadata": {
    "scrolled": true
   },
   "outputs": [
    {
     "data": {
      "text/html": [
       "<div>\n",
       "<style scoped>\n",
       "    .dataframe tbody tr th:only-of-type {\n",
       "        vertical-align: middle;\n",
       "    }\n",
       "\n",
       "    .dataframe tbody tr th {\n",
       "        vertical-align: top;\n",
       "    }\n",
       "\n",
       "    .dataframe thead th {\n",
       "        text-align: right;\n",
       "    }\n",
       "</style>\n",
       "<table border=\"1\" class=\"dataframe\">\n",
       "  <thead>\n",
       "    <tr style=\"text-align: right;\">\n",
       "      <th></th>\n",
       "      <th>uniq_id</th>\n",
       "      <th>crawl_timestamp</th>\n",
       "      <th>product_url</th>\n",
       "      <th>product_name</th>\n",
       "      <th>product_category_tree</th>\n",
       "      <th>pid</th>\n",
       "      <th>retail_price</th>\n",
       "      <th>discounted_price</th>\n",
       "      <th>image</th>\n",
       "      <th>is_FK_Advantage_product</th>\n",
       "      <th>description</th>\n",
       "      <th>product_rating</th>\n",
       "      <th>overall_rating</th>\n",
       "      <th>brand</th>\n",
       "      <th>product_specifications</th>\n",
       "    </tr>\n",
       "  </thead>\n",
       "  <tbody>\n",
       "    <tr>\n",
       "      <th>0</th>\n",
       "      <td>c2d766ca982eca8304150849735ffef9</td>\n",
       "      <td>2016-03-25 22:59:23 +0000</td>\n",
       "      <td>http://www.flipkart.com/alisha-solid-women-s-c...</td>\n",
       "      <td>Alisha Solid Women's Cycling Shorts</td>\n",
       "      <td>[\"Clothing &gt;&gt; Women's Clothing &gt;&gt; Lingerie, Sl...</td>\n",
       "      <td>SRTEH2FF9KEDEFGF</td>\n",
       "      <td>999.0</td>\n",
       "      <td>379.0</td>\n",
       "      <td>[\"http://img5a.flixcart.com/image/short/u/4/a/...</td>\n",
       "      <td>False</td>\n",
       "      <td>Key Features of Alisha Solid Women's Cycling S...</td>\n",
       "      <td>No rating available</td>\n",
       "      <td>No rating available</td>\n",
       "      <td>Alisha</td>\n",
       "      <td>{\"product_specification\"=&gt;[{\"key\"=&gt;\"Number of ...</td>\n",
       "    </tr>\n",
       "    <tr>\n",
       "      <th>1</th>\n",
       "      <td>7f7036a6d550aaa89d34c77bd39a5e48</td>\n",
       "      <td>2016-03-25 22:59:23 +0000</td>\n",
       "      <td>http://www.flipkart.com/fabhomedecor-fabric-do...</td>\n",
       "      <td>FabHomeDecor Fabric Double Sofa Bed</td>\n",
       "      <td>[\"Furniture &gt;&gt; Living Room Furniture &gt;&gt; Sofa B...</td>\n",
       "      <td>SBEEH3QGU7MFYJFY</td>\n",
       "      <td>32157.0</td>\n",
       "      <td>22646.0</td>\n",
       "      <td>[\"http://img6a.flixcart.com/image/sofa-bed/j/f...</td>\n",
       "      <td>False</td>\n",
       "      <td>FabHomeDecor Fabric Double Sofa Bed (Finish Co...</td>\n",
       "      <td>No rating available</td>\n",
       "      <td>No rating available</td>\n",
       "      <td>FabHomeDecor</td>\n",
       "      <td>{\"product_specification\"=&gt;[{\"key\"=&gt;\"Installati...</td>\n",
       "    </tr>\n",
       "    <tr>\n",
       "      <th>2</th>\n",
       "      <td>f449ec65dcbc041b6ae5e6a32717d01b</td>\n",
       "      <td>2016-03-25 22:59:23 +0000</td>\n",
       "      <td>http://www.flipkart.com/aw-bellies/p/itmeh4grg...</td>\n",
       "      <td>AW Bellies</td>\n",
       "      <td>[\"Footwear &gt;&gt; Women's Footwear &gt;&gt; Ballerinas &gt;...</td>\n",
       "      <td>SHOEH4GRSUBJGZXE</td>\n",
       "      <td>999.0</td>\n",
       "      <td>499.0</td>\n",
       "      <td>[\"http://img5a.flixcart.com/image/shoe/7/z/z/r...</td>\n",
       "      <td>False</td>\n",
       "      <td>Key Features of AW Bellies Sandals Wedges Heel...</td>\n",
       "      <td>No rating available</td>\n",
       "      <td>No rating available</td>\n",
       "      <td>AW</td>\n",
       "      <td>{\"product_specification\"=&gt;[{\"key\"=&gt;\"Ideal For\"...</td>\n",
       "    </tr>\n",
       "    <tr>\n",
       "      <th>3</th>\n",
       "      <td>0973b37acd0c664e3de26e97e5571454</td>\n",
       "      <td>2016-03-25 22:59:23 +0000</td>\n",
       "      <td>http://www.flipkart.com/alisha-solid-women-s-c...</td>\n",
       "      <td>Alisha Solid Women's Cycling Shorts</td>\n",
       "      <td>[\"Clothing &gt;&gt; Women's Clothing &gt;&gt; Lingerie, Sl...</td>\n",
       "      <td>SRTEH2F6HUZMQ6SJ</td>\n",
       "      <td>699.0</td>\n",
       "      <td>267.0</td>\n",
       "      <td>[\"http://img5a.flixcart.com/image/short/6/2/h/...</td>\n",
       "      <td>False</td>\n",
       "      <td>Key Features of Alisha Solid Women's Cycling S...</td>\n",
       "      <td>No rating available</td>\n",
       "      <td>No rating available</td>\n",
       "      <td>Alisha</td>\n",
       "      <td>{\"product_specification\"=&gt;[{\"key\"=&gt;\"Number of ...</td>\n",
       "    </tr>\n",
       "    <tr>\n",
       "      <th>4</th>\n",
       "      <td>bc940ea42ee6bef5ac7cea3fb5cfbee7</td>\n",
       "      <td>2016-03-25 22:59:23 +0000</td>\n",
       "      <td>http://www.flipkart.com/sicons-all-purpose-arn...</td>\n",
       "      <td>Sicons All Purpose Arnica Dog Shampoo</td>\n",
       "      <td>[\"Pet Supplies &gt;&gt; Grooming &gt;&gt; Skin &amp; Coat Care...</td>\n",
       "      <td>PSOEH3ZYDMSYARJ5</td>\n",
       "      <td>220.0</td>\n",
       "      <td>210.0</td>\n",
       "      <td>[\"http://img5a.flixcart.com/image/pet-shampoo/...</td>\n",
       "      <td>False</td>\n",
       "      <td>Specifications of Sicons All Purpose Arnica Do...</td>\n",
       "      <td>No rating available</td>\n",
       "      <td>No rating available</td>\n",
       "      <td>Sicons</td>\n",
       "      <td>{\"product_specification\"=&gt;[{\"key\"=&gt;\"Pet Type\",...</td>\n",
       "    </tr>\n",
       "    <tr>\n",
       "      <th>...</th>\n",
       "      <td>...</td>\n",
       "      <td>...</td>\n",
       "      <td>...</td>\n",
       "      <td>...</td>\n",
       "      <td>...</td>\n",
       "      <td>...</td>\n",
       "      <td>...</td>\n",
       "      <td>...</td>\n",
       "      <td>...</td>\n",
       "      <td>...</td>\n",
       "      <td>...</td>\n",
       "      <td>...</td>\n",
       "      <td>...</td>\n",
       "      <td>...</td>\n",
       "      <td>...</td>\n",
       "    </tr>\n",
       "    <tr>\n",
       "      <th>19995</th>\n",
       "      <td>7179d2f6c4ad50a17d014ca1d2815156</td>\n",
       "      <td>2015-12-01 10:15:43 +0000</td>\n",
       "      <td>http://www.flipkart.com/walldesign-small-vinyl...</td>\n",
       "      <td>WallDesign Small Vinyl Sticker</td>\n",
       "      <td>[\"Baby Care &gt;&gt; Baby &amp; Kids Gifts &gt;&gt; Stickers &gt;...</td>\n",
       "      <td>STIE7KFJAKSTDY9G</td>\n",
       "      <td>1500.0</td>\n",
       "      <td>730.0</td>\n",
       "      <td>[\"http://img6a.flixcart.com/image/wall-decorat...</td>\n",
       "      <td>False</td>\n",
       "      <td>Buy WallDesign Small Vinyl Sticker for Rs.730 ...</td>\n",
       "      <td>No rating available</td>\n",
       "      <td>No rating available</td>\n",
       "      <td>WallDesign</td>\n",
       "      <td>{\"product_specification\"=&gt;[{\"key\"=&gt;\"Number of ...</td>\n",
       "    </tr>\n",
       "    <tr>\n",
       "      <th>19996</th>\n",
       "      <td>71ac419198359d37b8fe5e3fffdfee09</td>\n",
       "      <td>2015-12-01 10:15:43 +0000</td>\n",
       "      <td>http://www.flipkart.com/wallmantra-large-vinyl...</td>\n",
       "      <td>Wallmantra Large Vinyl Stickers Sticker</td>\n",
       "      <td>[\"Baby Care &gt;&gt; Baby &amp; Kids Gifts &gt;&gt; Stickers &gt;...</td>\n",
       "      <td>STIE9F5URNQGJCGH</td>\n",
       "      <td>1429.0</td>\n",
       "      <td>1143.0</td>\n",
       "      <td>[\"http://img6a.flixcart.com/image/sticker/z/g/...</td>\n",
       "      <td>False</td>\n",
       "      <td>Buy Wallmantra Large Vinyl Stickers Sticker fo...</td>\n",
       "      <td>No rating available</td>\n",
       "      <td>No rating available</td>\n",
       "      <td>Wallmantra</td>\n",
       "      <td>{\"product_specification\"=&gt;[{\"key\"=&gt;\"Number of ...</td>\n",
       "    </tr>\n",
       "    <tr>\n",
       "      <th>19997</th>\n",
       "      <td>93e9d343837400ce0d7980874ece471c</td>\n",
       "      <td>2015-12-01 10:15:43 +0000</td>\n",
       "      <td>http://www.flipkart.com/elite-collection-mediu...</td>\n",
       "      <td>Elite Collection Medium Acrylic Sticker</td>\n",
       "      <td>[\"Baby Care &gt;&gt; Baby &amp; Kids Gifts &gt;&gt; Stickers &gt;...</td>\n",
       "      <td>STIE7VAYDKQZEBSD</td>\n",
       "      <td>1299.0</td>\n",
       "      <td>999.0</td>\n",
       "      <td>[\"http://img5a.flixcart.com/image/sticker/b/s/...</td>\n",
       "      <td>False</td>\n",
       "      <td>Buy Elite Collection Medium Acrylic Sticker fo...</td>\n",
       "      <td>No rating available</td>\n",
       "      <td>No rating available</td>\n",
       "      <td>Elite Collection</td>\n",
       "      <td>{\"product_specification\"=&gt;[{\"key\"=&gt;\"Number of ...</td>\n",
       "    </tr>\n",
       "    <tr>\n",
       "      <th>19998</th>\n",
       "      <td>669e79b8fa5d9ae020841c0c97d5e935</td>\n",
       "      <td>2015-12-01 10:15:43 +0000</td>\n",
       "      <td>http://www.flipkart.com/elite-collection-mediu...</td>\n",
       "      <td>Elite Collection Medium Acrylic Sticker</td>\n",
       "      <td>[\"Baby Care &gt;&gt; Baby &amp; Kids Gifts &gt;&gt; Stickers &gt;...</td>\n",
       "      <td>STIE8YSVEPPCZ42Y</td>\n",
       "      <td>1499.0</td>\n",
       "      <td>1199.0</td>\n",
       "      <td>[\"http://img5a.flixcart.com/image/sticker/4/2/...</td>\n",
       "      <td>False</td>\n",
       "      <td>Buy Elite Collection Medium Acrylic Sticker fo...</td>\n",
       "      <td>No rating available</td>\n",
       "      <td>No rating available</td>\n",
       "      <td>Elite Collection</td>\n",
       "      <td>{\"product_specification\"=&gt;[{\"key\"=&gt;\"Number of ...</td>\n",
       "    </tr>\n",
       "    <tr>\n",
       "      <th>19999</th>\n",
       "      <td>cb4fa87a874f715fff567f7b7b3be79c</td>\n",
       "      <td>2015-12-01 10:15:43 +0000</td>\n",
       "      <td>http://www.flipkart.com/elite-collection-mediu...</td>\n",
       "      <td>Elite Collection Medium Acrylic Sticker</td>\n",
       "      <td>[\"Baby Care &gt;&gt; Baby &amp; Kids Gifts &gt;&gt; Stickers &gt;...</td>\n",
       "      <td>STIE88KN9ZDSGZKY</td>\n",
       "      <td>1499.0</td>\n",
       "      <td>999.0</td>\n",
       "      <td>[\"http://img6a.flixcart.com/image/sticker/z/k/...</td>\n",
       "      <td>False</td>\n",
       "      <td>Buy Elite Collection Medium Acrylic Sticker fo...</td>\n",
       "      <td>No rating available</td>\n",
       "      <td>No rating available</td>\n",
       "      <td>Elite Collection</td>\n",
       "      <td>{\"product_specification\"=&gt;[{\"key\"=&gt;\"Number of ...</td>\n",
       "    </tr>\n",
       "  </tbody>\n",
       "</table>\n",
       "<p>20000 rows × 15 columns</p>\n",
       "</div>"
      ],
      "text/plain": [
       "                                uniq_id            crawl_timestamp  \\\n",
       "0      c2d766ca982eca8304150849735ffef9  2016-03-25 22:59:23 +0000   \n",
       "1      7f7036a6d550aaa89d34c77bd39a5e48  2016-03-25 22:59:23 +0000   \n",
       "2      f449ec65dcbc041b6ae5e6a32717d01b  2016-03-25 22:59:23 +0000   \n",
       "3      0973b37acd0c664e3de26e97e5571454  2016-03-25 22:59:23 +0000   \n",
       "4      bc940ea42ee6bef5ac7cea3fb5cfbee7  2016-03-25 22:59:23 +0000   \n",
       "...                                 ...                        ...   \n",
       "19995  7179d2f6c4ad50a17d014ca1d2815156  2015-12-01 10:15:43 +0000   \n",
       "19996  71ac419198359d37b8fe5e3fffdfee09  2015-12-01 10:15:43 +0000   \n",
       "19997  93e9d343837400ce0d7980874ece471c  2015-12-01 10:15:43 +0000   \n",
       "19998  669e79b8fa5d9ae020841c0c97d5e935  2015-12-01 10:15:43 +0000   \n",
       "19999  cb4fa87a874f715fff567f7b7b3be79c  2015-12-01 10:15:43 +0000   \n",
       "\n",
       "                                             product_url  \\\n",
       "0      http://www.flipkart.com/alisha-solid-women-s-c...   \n",
       "1      http://www.flipkart.com/fabhomedecor-fabric-do...   \n",
       "2      http://www.flipkart.com/aw-bellies/p/itmeh4grg...   \n",
       "3      http://www.flipkart.com/alisha-solid-women-s-c...   \n",
       "4      http://www.flipkart.com/sicons-all-purpose-arn...   \n",
       "...                                                  ...   \n",
       "19995  http://www.flipkart.com/walldesign-small-vinyl...   \n",
       "19996  http://www.flipkart.com/wallmantra-large-vinyl...   \n",
       "19997  http://www.flipkart.com/elite-collection-mediu...   \n",
       "19998  http://www.flipkart.com/elite-collection-mediu...   \n",
       "19999  http://www.flipkart.com/elite-collection-mediu...   \n",
       "\n",
       "                                  product_name  \\\n",
       "0          Alisha Solid Women's Cycling Shorts   \n",
       "1          FabHomeDecor Fabric Double Sofa Bed   \n",
       "2                                   AW Bellies   \n",
       "3          Alisha Solid Women's Cycling Shorts   \n",
       "4        Sicons All Purpose Arnica Dog Shampoo   \n",
       "...                                        ...   \n",
       "19995           WallDesign Small Vinyl Sticker   \n",
       "19996  Wallmantra Large Vinyl Stickers Sticker   \n",
       "19997  Elite Collection Medium Acrylic Sticker   \n",
       "19998  Elite Collection Medium Acrylic Sticker   \n",
       "19999  Elite Collection Medium Acrylic Sticker   \n",
       "\n",
       "                                   product_category_tree               pid  \\\n",
       "0      [\"Clothing >> Women's Clothing >> Lingerie, Sl...  SRTEH2FF9KEDEFGF   \n",
       "1      [\"Furniture >> Living Room Furniture >> Sofa B...  SBEEH3QGU7MFYJFY   \n",
       "2      [\"Footwear >> Women's Footwear >> Ballerinas >...  SHOEH4GRSUBJGZXE   \n",
       "3      [\"Clothing >> Women's Clothing >> Lingerie, Sl...  SRTEH2F6HUZMQ6SJ   \n",
       "4      [\"Pet Supplies >> Grooming >> Skin & Coat Care...  PSOEH3ZYDMSYARJ5   \n",
       "...                                                  ...               ...   \n",
       "19995  [\"Baby Care >> Baby & Kids Gifts >> Stickers >...  STIE7KFJAKSTDY9G   \n",
       "19996  [\"Baby Care >> Baby & Kids Gifts >> Stickers >...  STIE9F5URNQGJCGH   \n",
       "19997  [\"Baby Care >> Baby & Kids Gifts >> Stickers >...  STIE7VAYDKQZEBSD   \n",
       "19998  [\"Baby Care >> Baby & Kids Gifts >> Stickers >...  STIE8YSVEPPCZ42Y   \n",
       "19999  [\"Baby Care >> Baby & Kids Gifts >> Stickers >...  STIE88KN9ZDSGZKY   \n",
       "\n",
       "       retail_price  discounted_price  \\\n",
       "0             999.0             379.0   \n",
       "1           32157.0           22646.0   \n",
       "2             999.0             499.0   \n",
       "3             699.0             267.0   \n",
       "4             220.0             210.0   \n",
       "...             ...               ...   \n",
       "19995        1500.0             730.0   \n",
       "19996        1429.0            1143.0   \n",
       "19997        1299.0             999.0   \n",
       "19998        1499.0            1199.0   \n",
       "19999        1499.0             999.0   \n",
       "\n",
       "                                                   image  \\\n",
       "0      [\"http://img5a.flixcart.com/image/short/u/4/a/...   \n",
       "1      [\"http://img6a.flixcart.com/image/sofa-bed/j/f...   \n",
       "2      [\"http://img5a.flixcart.com/image/shoe/7/z/z/r...   \n",
       "3      [\"http://img5a.flixcart.com/image/short/6/2/h/...   \n",
       "4      [\"http://img5a.flixcart.com/image/pet-shampoo/...   \n",
       "...                                                  ...   \n",
       "19995  [\"http://img6a.flixcart.com/image/wall-decorat...   \n",
       "19996  [\"http://img6a.flixcart.com/image/sticker/z/g/...   \n",
       "19997  [\"http://img5a.flixcart.com/image/sticker/b/s/...   \n",
       "19998  [\"http://img5a.flixcart.com/image/sticker/4/2/...   \n",
       "19999  [\"http://img6a.flixcart.com/image/sticker/z/k/...   \n",
       "\n",
       "       is_FK_Advantage_product  \\\n",
       "0                        False   \n",
       "1                        False   \n",
       "2                        False   \n",
       "3                        False   \n",
       "4                        False   \n",
       "...                        ...   \n",
       "19995                    False   \n",
       "19996                    False   \n",
       "19997                    False   \n",
       "19998                    False   \n",
       "19999                    False   \n",
       "\n",
       "                                             description       product_rating  \\\n",
       "0      Key Features of Alisha Solid Women's Cycling S...  No rating available   \n",
       "1      FabHomeDecor Fabric Double Sofa Bed (Finish Co...  No rating available   \n",
       "2      Key Features of AW Bellies Sandals Wedges Heel...  No rating available   \n",
       "3      Key Features of Alisha Solid Women's Cycling S...  No rating available   \n",
       "4      Specifications of Sicons All Purpose Arnica Do...  No rating available   \n",
       "...                                                  ...                  ...   \n",
       "19995  Buy WallDesign Small Vinyl Sticker for Rs.730 ...  No rating available   \n",
       "19996  Buy Wallmantra Large Vinyl Stickers Sticker fo...  No rating available   \n",
       "19997  Buy Elite Collection Medium Acrylic Sticker fo...  No rating available   \n",
       "19998  Buy Elite Collection Medium Acrylic Sticker fo...  No rating available   \n",
       "19999  Buy Elite Collection Medium Acrylic Sticker fo...  No rating available   \n",
       "\n",
       "            overall_rating             brand  \\\n",
       "0      No rating available            Alisha   \n",
       "1      No rating available      FabHomeDecor   \n",
       "2      No rating available                AW   \n",
       "3      No rating available            Alisha   \n",
       "4      No rating available            Sicons   \n",
       "...                    ...               ...   \n",
       "19995  No rating available        WallDesign   \n",
       "19996  No rating available        Wallmantra   \n",
       "19997  No rating available  Elite Collection   \n",
       "19998  No rating available  Elite Collection   \n",
       "19999  No rating available  Elite Collection   \n",
       "\n",
       "                                  product_specifications  \n",
       "0      {\"product_specification\"=>[{\"key\"=>\"Number of ...  \n",
       "1      {\"product_specification\"=>[{\"key\"=>\"Installati...  \n",
       "2      {\"product_specification\"=>[{\"key\"=>\"Ideal For\"...  \n",
       "3      {\"product_specification\"=>[{\"key\"=>\"Number of ...  \n",
       "4      {\"product_specification\"=>[{\"key\"=>\"Pet Type\",...  \n",
       "...                                                  ...  \n",
       "19995  {\"product_specification\"=>[{\"key\"=>\"Number of ...  \n",
       "19996  {\"product_specification\"=>[{\"key\"=>\"Number of ...  \n",
       "19997  {\"product_specification\"=>[{\"key\"=>\"Number of ...  \n",
       "19998  {\"product_specification\"=>[{\"key\"=>\"Number of ...  \n",
       "19999  {\"product_specification\"=>[{\"key\"=>\"Number of ...  \n",
       "\n",
       "[20000 rows x 15 columns]"
      ]
     },
     "execution_count": 3,
     "metadata": {},
     "output_type": "execute_result"
    }
   ],
   "source": [
    "df"
   ]
  },
  {
   "cell_type": "code",
   "execution_count": null,
   "id": "82d19782",
   "metadata": {},
   "outputs": [],
   "source": []
  },
  {
   "cell_type": "code",
   "execution_count": 4,
   "id": "eac7321a",
   "metadata": {
    "scrolled": true
   },
   "outputs": [
    {
     "data": {
      "text/plain": [
       "uniq_id                       0\n",
       "crawl_timestamp               0\n",
       "product_url                   0\n",
       "product_name                  0\n",
       "product_category_tree         0\n",
       "pid                           0\n",
       "retail_price                 78\n",
       "discounted_price             78\n",
       "image                         3\n",
       "is_FK_Advantage_product       0\n",
       "description                   2\n",
       "product_rating                0\n",
       "overall_rating                0\n",
       "brand                      5864\n",
       "product_specifications       14\n",
       "dtype: int64"
      ]
     },
     "execution_count": 4,
     "metadata": {},
     "output_type": "execute_result"
    }
   ],
   "source": [
    "df.isnull().sum()\n",
    "##df.info()"
   ]
  },
  {
   "cell_type": "code",
   "execution_count": 5,
   "id": "391c567a",
   "metadata": {},
   "outputs": [
    {
     "data": {
      "text/plain": [
       "Index(['uniq_id', 'crawl_timestamp', 'product_url', 'product_name',\n",
       "       'product_category_tree', 'pid', 'retail_price', 'discounted_price',\n",
       "       'image', 'is_FK_Advantage_product', 'description', 'product_rating',\n",
       "       'overall_rating', 'brand', 'product_specifications'],\n",
       "      dtype='object')"
      ]
     },
     "execution_count": 5,
     "metadata": {},
     "output_type": "execute_result"
    }
   ],
   "source": [
    "df.columns"
   ]
  },
  {
   "cell_type": "code",
   "execution_count": null,
   "id": "1dec46cc",
   "metadata": {},
   "outputs": [],
   "source": []
  },
  {
   "cell_type": "code",
   "execution_count": 6,
   "id": "6bdd4488",
   "metadata": {},
   "outputs": [
    {
     "data": {
      "image/png": "[encoded data removed]",
      "text/plain": [
       "<Figure size 576x432 with 2 Axes>"
      ]
     },
     "metadata": {
      "needs_background": "light"
     },
     "output_type": "display_data"
    }
   ],
   "source": [
    "## brand column has lot of null values it can be shown by colormap\n",
    "plt.figure(figsize=(8,6))\n",
    "sns.heatmap(df.isnull(), yticklabels=False, cmap='plasma', cbar=True);"
   ]
  },
  {
   "cell_type": "code",
   "execution_count": null,
   "id": "c402763d",
   "metadata": {},
   "outputs": [],
   "source": []
  },
  {
   "cell_type": "code",
   "execution_count": 7,
   "id": "1361bfbb",
   "metadata": {},
   "outputs": [
    {
     "data": {
      "text/html": [
       "<div>\n",
       "<style scoped>\n",
       "    .dataframe tbody tr th:only-of-type {\n",
       "        vertical-align: middle;\n",
       "    }\n",
       "\n",
       "    .dataframe tbody tr th {\n",
       "        vertical-align: top;\n",
       "    }\n",
       "\n",
       "    .dataframe thead th {\n",
       "        text-align: right;\n",
       "    }\n",
       "</style>\n",
       "<table border=\"1\" class=\"dataframe\">\n",
       "  <thead>\n",
       "    <tr style=\"text-align: right;\">\n",
       "      <th></th>\n",
       "      <th>uniq_id</th>\n",
       "      <th>crawl_timestamp</th>\n",
       "      <th>product_url</th>\n",
       "      <th>product_name</th>\n",
       "      <th>product_category_tree</th>\n",
       "      <th>pid</th>\n",
       "      <th>retail_price</th>\n",
       "      <th>discounted_price</th>\n",
       "      <th>image</th>\n",
       "      <th>is_FK_Advantage_product</th>\n",
       "      <th>description</th>\n",
       "      <th>product_rating</th>\n",
       "      <th>overall_rating</th>\n",
       "      <th>brand</th>\n",
       "      <th>product_specifications</th>\n",
       "      <th>date</th>\n",
       "      <th>year</th>\n",
       "      <th>month</th>\n",
       "    </tr>\n",
       "  </thead>\n",
       "  <tbody>\n",
       "    <tr>\n",
       "      <th>0</th>\n",
       "      <td>c2d766ca982eca8304150849735ffef9</td>\n",
       "      <td>2016-03-25 22:59:23+00:00</td>\n",
       "      <td>http://www.flipkart.com/alisha-solid-women-s-c...</td>\n",
       "      <td>Alisha Solid Women's Cycling Shorts</td>\n",
       "      <td>[\"Clothing &gt;&gt; Women's Clothing &gt;&gt; Lingerie, Sl...</td>\n",
       "      <td>SRTEH2FF9KEDEFGF</td>\n",
       "      <td>999.0</td>\n",
       "      <td>379.0</td>\n",
       "      <td>[\"http://img5a.flixcart.com/image/short/u/4/a/...</td>\n",
       "      <td>False</td>\n",
       "      <td>Key Features of Alisha Solid Women's Cycling S...</td>\n",
       "      <td>No rating available</td>\n",
       "      <td>No rating available</td>\n",
       "      <td>Alisha</td>\n",
       "      <td>{\"product_specification\"=&gt;[{\"key\"=&gt;\"Number of ...</td>\n",
       "      <td>2016-03-25</td>\n",
       "      <td>2016</td>\n",
       "      <td>3</td>\n",
       "    </tr>\n",
       "    <tr>\n",
       "      <th>1</th>\n",
       "      <td>7f7036a6d550aaa89d34c77bd39a5e48</td>\n",
       "      <td>2016-03-25 22:59:23+00:00</td>\n",
       "      <td>http://www.flipkart.com/fabhomedecor-fabric-do...</td>\n",
       "      <td>FabHomeDecor Fabric Double Sofa Bed</td>\n",
       "      <td>[\"Furniture &gt;&gt; Living Room Furniture &gt;&gt; Sofa B...</td>\n",
       "      <td>SBEEH3QGU7MFYJFY</td>\n",
       "      <td>32157.0</td>\n",
       "      <td>22646.0</td>\n",
       "      <td>[\"http://img6a.flixcart.com/image/sofa-bed/j/f...</td>\n",
       "      <td>False</td>\n",
       "      <td>FabHomeDecor Fabric Double Sofa Bed (Finish Co...</td>\n",
       "      <td>No rating available</td>\n",
       "      <td>No rating available</td>\n",
       "      <td>FabHomeDecor</td>\n",
       "      <td>{\"product_specification\"=&gt;[{\"key\"=&gt;\"Installati...</td>\n",
       "      <td>2016-03-25</td>\n",
       "      <td>2016</td>\n",
       "      <td>3</td>\n",
       "    </tr>\n",
       "    <tr>\n",
       "      <th>2</th>\n",
       "      <td>f449ec65dcbc041b6ae5e6a32717d01b</td>\n",
       "      <td>2016-03-25 22:59:23+00:00</td>\n",
       "      <td>http://www.flipkart.com/aw-bellies/p/itmeh4grg...</td>\n",
       "      <td>AW Bellies</td>\n",
       "      <td>[\"Footwear &gt;&gt; Women's Footwear &gt;&gt; Ballerinas &gt;...</td>\n",
       "      <td>SHOEH4GRSUBJGZXE</td>\n",
       "      <td>999.0</td>\n",
       "      <td>499.0</td>\n",
       "      <td>[\"http://img5a.flixcart.com/image/shoe/7/z/z/r...</td>\n",
       "      <td>False</td>\n",
       "      <td>Key Features of AW Bellies Sandals Wedges Heel...</td>\n",
       "      <td>No rating available</td>\n",
       "      <td>No rating available</td>\n",
       "      <td>AW</td>\n",
       "      <td>{\"product_specification\"=&gt;[{\"key\"=&gt;\"Ideal For\"...</td>\n",
       "      <td>2016-03-25</td>\n",
       "      <td>2016</td>\n",
       "      <td>3</td>\n",
       "    </tr>\n",
       "    <tr>\n",
       "      <th>3</th>\n",
       "      <td>0973b37acd0c664e3de26e97e5571454</td>\n",
       "      <td>2016-03-25 22:59:23+00:00</td>\n",
       "      <td>http://www.flipkart.com/alisha-solid-women-s-c...</td>\n",
       "      <td>Alisha Solid Women's Cycling Shorts</td>\n",
       "      <td>[\"Clothing &gt;&gt; Women's Clothing &gt;&gt; Lingerie, Sl...</td>\n",
       "      <td>SRTEH2F6HUZMQ6SJ</td>\n",
       "      <td>699.0</td>\n",
       "      <td>267.0</td>\n",
       "      <td>[\"http://img5a.flixcart.com/image/short/6/2/h/...</td>\n",
       "      <td>False</td>\n",
       "      <td>Key Features of Alisha Solid Women's Cycling S...</td>\n",
       "      <td>No rating available</td>\n",
       "      <td>No rating available</td>\n",
       "      <td>Alisha</td>\n",
       "      <td>{\"product_specification\"=&gt;[{\"key\"=&gt;\"Number of ...</td>\n",
       "      <td>2016-03-25</td>\n",
       "      <td>2016</td>\n",
       "      <td>3</td>\n",
       "    </tr>\n",
       "    <tr>\n",
       "      <th>4</th>\n",
       "      <td>bc940ea42ee6bef5ac7cea3fb5cfbee7</td>\n",
       "      <td>2016-03-25 22:59:23+00:00</td>\n",
       "      <td>http://www.flipkart.com/sicons-all-purpose-arn...</td>\n",
       "      <td>Sicons All Purpose Arnica Dog Shampoo</td>\n",
       "      <td>[\"Pet Supplies &gt;&gt; Grooming &gt;&gt; Skin &amp; Coat Care...</td>\n",
       "      <td>PSOEH3ZYDMSYARJ5</td>\n",
       "      <td>220.0</td>\n",
       "      <td>210.0</td>\n",
       "      <td>[\"http://img5a.flixcart.com/image/pet-shampoo/...</td>\n",
       "      <td>False</td>\n",
       "      <td>Specifications of Sicons All Purpose Arnica Do...</td>\n",
       "      <td>No rating available</td>\n",
       "      <td>No rating available</td>\n",
       "      <td>Sicons</td>\n",
       "      <td>{\"product_specification\"=&gt;[{\"key\"=&gt;\"Pet Type\",...</td>\n",
       "      <td>2016-03-25</td>\n",
       "      <td>2016</td>\n",
       "      <td>3</td>\n",
       "    </tr>\n",
       "  </tbody>\n",
       "</table>\n",
       "</div>"
      ],
      "text/plain": [
       "                            uniq_id           crawl_timestamp  \\\n",
       "0  c2d766ca982eca8304150849735ffef9 2016-03-25 22:59:23+00:00   \n",
       "1  7f7036a6d550aaa89d34c77bd39a5e48 2016-03-25 22:59:23+00:00   \n",
       "2  f449ec65dcbc041b6ae5e6a32717d01b 2016-03-25 22:59:23+00:00   \n",
       "3  0973b37acd0c664e3de26e97e5571454 2016-03-25 22:59:23+00:00   \n",
       "4  bc940ea42ee6bef5ac7cea3fb5cfbee7 2016-03-25 22:59:23+00:00   \n",
       "\n",
       "                                         product_url  \\\n",
       "0  http://www.flipkart.com/alisha-solid-women-s-c...   \n",
       "1  http://www.flipkart.com/fabhomedecor-fabric-do...   \n",
       "2  http://www.flipkart.com/aw-bellies/p/itmeh4grg...   \n",
       "3  http://www.flipkart.com/alisha-solid-women-s-c...   \n",
       "4  http://www.flipkart.com/sicons-all-purpose-arn...   \n",
       "\n",
       "                            product_name  \\\n",
       "0    Alisha Solid Women's Cycling Shorts   \n",
       "1    FabHomeDecor Fabric Double Sofa Bed   \n",
       "2                             AW Bellies   \n",
       "3    Alisha Solid Women's Cycling Shorts   \n",
       "4  Sicons All Purpose Arnica Dog Shampoo   \n",
       "\n",
       "                               product_category_tree               pid  \\\n",
       "0  [\"Clothing >> Women's Clothing >> Lingerie, Sl...  SRTEH2FF9KEDEFGF   \n",
       "1  [\"Furniture >> Living Room Furniture >> Sofa B...  SBEEH3QGU7MFYJFY   \n",
       "2  [\"Footwear >> Women's Footwear >> Ballerinas >...  SHOEH4GRSUBJGZXE   \n",
       "3  [\"Clothing >> Women's Clothing >> Lingerie, Sl...  SRTEH2F6HUZMQ6SJ   \n",
       "4  [\"Pet Supplies >> Grooming >> Skin & Coat Care...  PSOEH3ZYDMSYARJ5   \n",
       "\n",
       "   retail_price  discounted_price  \\\n",
       "0         999.0             379.0   \n",
       "1       32157.0           22646.0   \n",
       "2         999.0             499.0   \n",
       "3         699.0             267.0   \n",
       "4         220.0             210.0   \n",
       "\n",
       "                                               image  is_FK_Advantage_product  \\\n",
       "0  [\"http://img5a.flixcart.com/image/short/u/4/a/...                    False   \n",
       "1  [\"http://img6a.flixcart.com/image/sofa-bed/j/f...                    False   \n",
       "2  [\"http://img5a.flixcart.com/image/shoe/7/z/z/r...                    False   \n",
       "3  [\"http://img5a.flixcart.com/image/short/6/2/h/...                    False   \n",
       "4  [\"http://img5a.flixcart.com/image/pet-shampoo/...                    False   \n",
       "\n",
       "                                         description       product_rating  \\\n",
       "0  Key Features of Alisha Solid Women's Cycling S...  No rating available   \n",
       "1  FabHomeDecor Fabric Double Sofa Bed (Finish Co...  No rating available   \n",
       "2  Key Features of AW Bellies Sandals Wedges Heel...  No rating available   \n",
       "3  Key Features of Alisha Solid Women's Cycling S...  No rating available   \n",
       "4  Specifications of Sicons All Purpose Arnica Do...  No rating available   \n",
       "\n",
       "        overall_rating         brand  \\\n",
       "0  No rating available        Alisha   \n",
       "1  No rating available  FabHomeDecor   \n",
       "2  No rating available            AW   \n",
       "3  No rating available        Alisha   \n",
       "4  No rating available        Sicons   \n",
       "\n",
       "                              product_specifications        date  year  month  \n",
       "0  {\"product_specification\"=>[{\"key\"=>\"Number of ...  2016-03-25  2016      3  \n",
       "1  {\"product_specification\"=>[{\"key\"=>\"Installati...  2016-03-25  2016      3  \n",
       "2  {\"product_specification\"=>[{\"key\"=>\"Ideal For\"...  2016-03-25  2016      3  \n",
       "3  {\"product_specification\"=>[{\"key\"=>\"Number of ...  2016-03-25  2016      3  \n",
       "4  {\"product_specification\"=>[{\"key\"=>\"Pet Type\",...  2016-03-25  2016      3  "
      ]
     },
     "execution_count": 7,
     "metadata": {},
     "output_type": "execute_result"
    }
   ],
   "source": [
    "## convering object column to datetime fo future use\n",
    "df['crawl_timestamp']=pd.to_datetime(df['crawl_timestamp'])\n",
    "df['date']=df['crawl_timestamp'].dt.date\n",
    "df['year']=df['crawl_timestamp'].dt.year\n",
    "df['month']=df['crawl_timestamp'].dt.month\n",
    "df.head(5)"
   ]
  },
  {
   "cell_type": "code",
   "execution_count": 8,
   "id": "74575ebf",
   "metadata": {},
   "outputs": [],
   "source": [
    "##df[['main_category','primary_category', 'secondary_category','tirnaty_category']] = df.product_category_tree.str.split(expand=True)\n",
    "   "
   ]
  },
  {
   "cell_type": "code",
   "execution_count": 9,
   "id": "f94c7fab",
   "metadata": {},
   "outputs": [],
   "source": [
    "##Separating product category tree to different level"
   ]
  },
  {
   "cell_type": "code",
   "execution_count": 10,
   "id": "56711af5",
   "metadata": {},
   "outputs": [],
   "source": [
    "df['main_category']=df['product_category_tree'].apply(lambda x :x.split('>>')[0][2:len(x.split('>>')[0])-1])"
   ]
  },
  {
   "cell_type": "code",
   "execution_count": 11,
   "id": "27f8c628",
   "metadata": {},
   "outputs": [],
   "source": [
    "def primary_category(value):\n",
    "    try:\n",
    "        return value.split('>>')[1][1:len(value.split('>>')[1])-1]\n",
    "    except IndexError:\n",
    "        return 'None'       \n",
    "def secondary_category(value):\n",
    "    try:\n",
    "        return value.split('>>')[2][1:len(value.split('>>')[2])-1]\n",
    "    except IndexError:\n",
    "        return 'None'\n",
    "def tertiary_category(value):\n",
    "    try:\n",
    "        return value.split('>>')[3][1:len(value.split('>>')[3])-1]\n",
    "    except IndexError:\n",
    "        return 'None'"
   ]
  },
  {
   "cell_type": "code",
   "execution_count": 12,
   "id": "7984f328",
   "metadata": {},
   "outputs": [],
   "source": [
    "df['primary_category']=df['product_category_tree'].apply(primary_category)\n",
    "df['secondary_category']=df['product_category_tree'].apply(secondary_category)\n",
    "df['tertiary_category']=df['product_category_tree'].apply(tertiary_category)"
   ]
  },
  {
   "cell_type": "code",
   "execution_count": 13,
   "id": "294bc4e8",
   "metadata": {},
   "outputs": [
    {
     "data": {
      "text/html": [
       "<div>\n",
       "<style scoped>\n",
       "    .dataframe tbody tr th:only-of-type {\n",
       "        vertical-align: middle;\n",
       "    }\n",
       "\n",
       "    .dataframe tbody tr th {\n",
       "        vertical-align: top;\n",
       "    }\n",
       "\n",
       "    .dataframe thead th {\n",
       "        text-align: right;\n",
       "    }\n",
       "</style>\n",
       "<table border=\"1\" class=\"dataframe\">\n",
       "  <thead>\n",
       "    <tr style=\"text-align: right;\">\n",
       "      <th></th>\n",
       "      <th>uniq_id</th>\n",
       "      <th>crawl_timestamp</th>\n",
       "      <th>product_url</th>\n",
       "      <th>product_name</th>\n",
       "      <th>product_category_tree</th>\n",
       "      <th>pid</th>\n",
       "      <th>retail_price</th>\n",
       "      <th>discounted_price</th>\n",
       "      <th>image</th>\n",
       "      <th>is_FK_Advantage_product</th>\n",
       "      <th>...</th>\n",
       "      <th>overall_rating</th>\n",
       "      <th>brand</th>\n",
       "      <th>product_specifications</th>\n",
       "      <th>date</th>\n",
       "      <th>year</th>\n",
       "      <th>month</th>\n",
       "      <th>main_category</th>\n",
       "      <th>primary_category</th>\n",
       "      <th>secondary_category</th>\n",
       "      <th>tertiary_category</th>\n",
       "    </tr>\n",
       "  </thead>\n",
       "  <tbody>\n",
       "    <tr>\n",
       "      <th>0</th>\n",
       "      <td>c2d766ca982eca8304150849735ffef9</td>\n",
       "      <td>2016-03-25 22:59:23+00:00</td>\n",
       "      <td>http://www.flipkart.com/alisha-solid-women-s-c...</td>\n",
       "      <td>Alisha Solid Women's Cycling Shorts</td>\n",
       "      <td>[\"Clothing &gt;&gt; Women's Clothing &gt;&gt; Lingerie, Sl...</td>\n",
       "      <td>SRTEH2FF9KEDEFGF</td>\n",
       "      <td>999.0</td>\n",
       "      <td>379.0</td>\n",
       "      <td>[\"http://img5a.flixcart.com/image/short/u/4/a/...</td>\n",
       "      <td>False</td>\n",
       "      <td>...</td>\n",
       "      <td>No rating available</td>\n",
       "      <td>Alisha</td>\n",
       "      <td>{\"product_specification\"=&gt;[{\"key\"=&gt;\"Number of ...</td>\n",
       "      <td>2016-03-25</td>\n",
       "      <td>2016</td>\n",
       "      <td>3</td>\n",
       "      <td>Clothing</td>\n",
       "      <td>Women's Clothing</td>\n",
       "      <td>Lingerie, Sleep &amp; Swimwear</td>\n",
       "      <td>Shorts</td>\n",
       "    </tr>\n",
       "    <tr>\n",
       "      <th>1</th>\n",
       "      <td>7f7036a6d550aaa89d34c77bd39a5e48</td>\n",
       "      <td>2016-03-25 22:59:23+00:00</td>\n",
       "      <td>http://www.flipkart.com/fabhomedecor-fabric-do...</td>\n",
       "      <td>FabHomeDecor Fabric Double Sofa Bed</td>\n",
       "      <td>[\"Furniture &gt;&gt; Living Room Furniture &gt;&gt; Sofa B...</td>\n",
       "      <td>SBEEH3QGU7MFYJFY</td>\n",
       "      <td>32157.0</td>\n",
       "      <td>22646.0</td>\n",
       "      <td>[\"http://img6a.flixcart.com/image/sofa-bed/j/f...</td>\n",
       "      <td>False</td>\n",
       "      <td>...</td>\n",
       "      <td>No rating available</td>\n",
       "      <td>FabHomeDecor</td>\n",
       "      <td>{\"product_specification\"=&gt;[{\"key\"=&gt;\"Installati...</td>\n",
       "      <td>2016-03-25</td>\n",
       "      <td>2016</td>\n",
       "      <td>3</td>\n",
       "      <td>Furniture</td>\n",
       "      <td>Living Room Furniture</td>\n",
       "      <td>Sofa Beds &amp; Futons</td>\n",
       "      <td>FabHomeDecor Fabric Double Sofa Bed (Finish Co...</td>\n",
       "    </tr>\n",
       "    <tr>\n",
       "      <th>2</th>\n",
       "      <td>f449ec65dcbc041b6ae5e6a32717d01b</td>\n",
       "      <td>2016-03-25 22:59:23+00:00</td>\n",
       "      <td>http://www.flipkart.com/aw-bellies/p/itmeh4grg...</td>\n",
       "      <td>AW Bellies</td>\n",
       "      <td>[\"Footwear &gt;&gt; Women's Footwear &gt;&gt; Ballerinas &gt;...</td>\n",
       "      <td>SHOEH4GRSUBJGZXE</td>\n",
       "      <td>999.0</td>\n",
       "      <td>499.0</td>\n",
       "      <td>[\"http://img5a.flixcart.com/image/shoe/7/z/z/r...</td>\n",
       "      <td>False</td>\n",
       "      <td>...</td>\n",
       "      <td>No rating available</td>\n",
       "      <td>AW</td>\n",
       "      <td>{\"product_specification\"=&gt;[{\"key\"=&gt;\"Ideal For\"...</td>\n",
       "      <td>2016-03-25</td>\n",
       "      <td>2016</td>\n",
       "      <td>3</td>\n",
       "      <td>Footwear</td>\n",
       "      <td>Women's Footwear</td>\n",
       "      <td>Ballerinas</td>\n",
       "      <td>AW Bellies\"</td>\n",
       "    </tr>\n",
       "    <tr>\n",
       "      <th>3</th>\n",
       "      <td>0973b37acd0c664e3de26e97e5571454</td>\n",
       "      <td>2016-03-25 22:59:23+00:00</td>\n",
       "      <td>http://www.flipkart.com/alisha-solid-women-s-c...</td>\n",
       "      <td>Alisha Solid Women's Cycling Shorts</td>\n",
       "      <td>[\"Clothing &gt;&gt; Women's Clothing &gt;&gt; Lingerie, Sl...</td>\n",
       "      <td>SRTEH2F6HUZMQ6SJ</td>\n",
       "      <td>699.0</td>\n",
       "      <td>267.0</td>\n",
       "      <td>[\"http://img5a.flixcart.com/image/short/6/2/h/...</td>\n",
       "      <td>False</td>\n",
       "      <td>...</td>\n",
       "      <td>No rating available</td>\n",
       "      <td>Alisha</td>\n",
       "      <td>{\"product_specification\"=&gt;[{\"key\"=&gt;\"Number of ...</td>\n",
       "      <td>2016-03-25</td>\n",
       "      <td>2016</td>\n",
       "      <td>3</td>\n",
       "      <td>Clothing</td>\n",
       "      <td>Women's Clothing</td>\n",
       "      <td>Lingerie, Sleep &amp; Swimwear</td>\n",
       "      <td>Shorts</td>\n",
       "    </tr>\n",
       "    <tr>\n",
       "      <th>4</th>\n",
       "      <td>bc940ea42ee6bef5ac7cea3fb5cfbee7</td>\n",
       "      <td>2016-03-25 22:59:23+00:00</td>\n",
       "      <td>http://www.flipkart.com/sicons-all-purpose-arn...</td>\n",
       "      <td>Sicons All Purpose Arnica Dog Shampoo</td>\n",
       "      <td>[\"Pet Supplies &gt;&gt; Grooming &gt;&gt; Skin &amp; Coat Care...</td>\n",
       "      <td>PSOEH3ZYDMSYARJ5</td>\n",
       "      <td>220.0</td>\n",
       "      <td>210.0</td>\n",
       "      <td>[\"http://img5a.flixcart.com/image/pet-shampoo/...</td>\n",
       "      <td>False</td>\n",
       "      <td>...</td>\n",
       "      <td>No rating available</td>\n",
       "      <td>Sicons</td>\n",
       "      <td>{\"product_specification\"=&gt;[{\"key\"=&gt;\"Pet Type\",...</td>\n",
       "      <td>2016-03-25</td>\n",
       "      <td>2016</td>\n",
       "      <td>3</td>\n",
       "      <td>Pet Supplies</td>\n",
       "      <td>Grooming</td>\n",
       "      <td>Skin &amp; Coat Care</td>\n",
       "      <td>Shampoo</td>\n",
       "    </tr>\n",
       "  </tbody>\n",
       "</table>\n",
       "<p>5 rows × 22 columns</p>\n",
       "</div>"
      ],
      "text/plain": [
       "                            uniq_id           crawl_timestamp  \\\n",
       "0  c2d766ca982eca8304150849735ffef9 2016-03-25 22:59:23+00:00   \n",
       "1  7f7036a6d550aaa89d34c77bd39a5e48 2016-03-25 22:59:23+00:00   \n",
       "2  f449ec65dcbc041b6ae5e6a32717d01b 2016-03-25 22:59:23+00:00   \n",
       "3  0973b37acd0c664e3de26e97e5571454 2016-03-25 22:59:23+00:00   \n",
       "4  bc940ea42ee6bef5ac7cea3fb5cfbee7 2016-03-25 22:59:23+00:00   \n",
       "\n",
       "                                         product_url  \\\n",
       "0  http://www.flipkart.com/alisha-solid-women-s-c...   \n",
       "1  http://www.flipkart.com/fabhomedecor-fabric-do...   \n",
       "2  http://www.flipkart.com/aw-bellies/p/itmeh4grg...   \n",
       "3  http://www.flipkart.com/alisha-solid-women-s-c...   \n",
       "4  http://www.flipkart.com/sicons-all-purpose-arn...   \n",
       "\n",
       "                            product_name  \\\n",
       "0    Alisha Solid Women's Cycling Shorts   \n",
       "1    FabHomeDecor Fabric Double Sofa Bed   \n",
       "2                             AW Bellies   \n",
       "3    Alisha Solid Women's Cycling Shorts   \n",
       "4  Sicons All Purpose Arnica Dog Shampoo   \n",
       "\n",
       "                               product_category_tree               pid  \\\n",
       "0  [\"Clothing >> Women's Clothing >> Lingerie, Sl...  SRTEH2FF9KEDEFGF   \n",
       "1  [\"Furniture >> Living Room Furniture >> Sofa B...  SBEEH3QGU7MFYJFY   \n",
       "2  [\"Footwear >> Women's Footwear >> Ballerinas >...  SHOEH4GRSUBJGZXE   \n",
       "3  [\"Clothing >> Women's Clothing >> Lingerie, Sl...  SRTEH2F6HUZMQ6SJ   \n",
       "4  [\"Pet Supplies >> Grooming >> Skin & Coat Care...  PSOEH3ZYDMSYARJ5   \n",
       "\n",
       "   retail_price  discounted_price  \\\n",
       "0         999.0             379.0   \n",
       "1       32157.0           22646.0   \n",
       "2         999.0             499.0   \n",
       "3         699.0             267.0   \n",
       "4         220.0             210.0   \n",
       "\n",
       "                                               image  is_FK_Advantage_product  \\\n",
       "0  [\"http://img5a.flixcart.com/image/short/u/4/a/...                    False   \n",
       "1  [\"http://img6a.flixcart.com/image/sofa-bed/j/f...                    False   \n",
       "2  [\"http://img5a.flixcart.com/image/shoe/7/z/z/r...                    False   \n",
       "3  [\"http://img5a.flixcart.com/image/short/6/2/h/...                    False   \n",
       "4  [\"http://img5a.flixcart.com/image/pet-shampoo/...                    False   \n",
       "\n",
       "   ...       overall_rating         brand  \\\n",
       "0  ...  No rating available        Alisha   \n",
       "1  ...  No rating available  FabHomeDecor   \n",
       "2  ...  No rating available            AW   \n",
       "3  ...  No rating available        Alisha   \n",
       "4  ...  No rating available        Sicons   \n",
       "\n",
       "                              product_specifications        date  year month  \\\n",
       "0  {\"product_specification\"=>[{\"key\"=>\"Number of ...  2016-03-25  2016     3   \n",
       "1  {\"product_specification\"=>[{\"key\"=>\"Installati...  2016-03-25  2016     3   \n",
       "2  {\"product_specification\"=>[{\"key\"=>\"Ideal For\"...  2016-03-25  2016     3   \n",
       "3  {\"product_specification\"=>[{\"key\"=>\"Number of ...  2016-03-25  2016     3   \n",
       "4  {\"product_specification\"=>[{\"key\"=>\"Pet Type\",...  2016-03-25  2016     3   \n",
       "\n",
       "   main_category       primary_category          secondary_category  \\\n",
       "0       Clothing       Women's Clothing  Lingerie, Sleep & Swimwear   \n",
       "1      Furniture  Living Room Furniture          Sofa Beds & Futons   \n",
       "2       Footwear       Women's Footwear                  Ballerinas   \n",
       "3       Clothing       Women's Clothing  Lingerie, Sleep & Swimwear   \n",
       "4   Pet Supplies               Grooming            Skin & Coat Care   \n",
       "\n",
       "                                   tertiary_category  \n",
       "0                                             Shorts  \n",
       "1  FabHomeDecor Fabric Double Sofa Bed (Finish Co...  \n",
       "2                                        AW Bellies\"  \n",
       "3                                             Shorts  \n",
       "4                                            Shampoo  \n",
       "\n",
       "[5 rows x 22 columns]"
      ]
     },
     "execution_count": 13,
     "metadata": {},
     "output_type": "execute_result"
    }
   ],
   "source": [
    "df.head(5)"
   ]
  },
  {
   "cell_type": "code",
   "execution_count": null,
   "id": "cbe31b86",
   "metadata": {},
   "outputs": [],
   "source": []
  },
  {
   "cell_type": "code",
   "execution_count": 14,
   "id": "71bbea71",
   "metadata": {},
   "outputs": [],
   "source": [
    "df.drop('product_category_tree', axis=1, inplace=True)"
   ]
  },
  {
   "cell_type": "code",
   "execution_count": 15,
   "id": "e04d2e8b",
   "metadata": {},
   "outputs": [
    {
     "data": {
      "text/html": [
       "<div>\n",
       "<style scoped>\n",
       "    .dataframe tbody tr th:only-of-type {\n",
       "        vertical-align: middle;\n",
       "    }\n",
       "\n",
       "    .dataframe tbody tr th {\n",
       "        vertical-align: top;\n",
       "    }\n",
       "\n",
       "    .dataframe thead th {\n",
       "        text-align: right;\n",
       "    }\n",
       "</style>\n",
       "<table border=\"1\" class=\"dataframe\">\n",
       "  <thead>\n",
       "    <tr style=\"text-align: right;\">\n",
       "      <th></th>\n",
       "      <th>uniq_id</th>\n",
       "      <th>crawl_timestamp</th>\n",
       "      <th>product_url</th>\n",
       "      <th>product_name</th>\n",
       "      <th>pid</th>\n",
       "      <th>retail_price</th>\n",
       "      <th>discounted_price</th>\n",
       "      <th>image</th>\n",
       "      <th>is_FK_Advantage_product</th>\n",
       "      <th>description</th>\n",
       "      <th>...</th>\n",
       "      <th>overall_rating</th>\n",
       "      <th>brand</th>\n",
       "      <th>product_specifications</th>\n",
       "      <th>date</th>\n",
       "      <th>year</th>\n",
       "      <th>month</th>\n",
       "      <th>main_category</th>\n",
       "      <th>primary_category</th>\n",
       "      <th>secondary_category</th>\n",
       "      <th>tertiary_category</th>\n",
       "    </tr>\n",
       "  </thead>\n",
       "  <tbody>\n",
       "    <tr>\n",
       "      <th>0</th>\n",
       "      <td>c2d766ca982eca8304150849735ffef9</td>\n",
       "      <td>2016-03-25 22:59:23+00:00</td>\n",
       "      <td>http://www.flipkart.com/alisha-solid-women-s-c...</td>\n",
       "      <td>Alisha Solid Women's Cycling Shorts</td>\n",
       "      <td>SRTEH2FF9KEDEFGF</td>\n",
       "      <td>999.0</td>\n",
       "      <td>379.0</td>\n",
       "      <td>[\"http://img5a.flixcart.com/image/short/u/4/a/...</td>\n",
       "      <td>False</td>\n",
       "      <td>Key Features of Alisha Solid Women's Cycling S...</td>\n",
       "      <td>...</td>\n",
       "      <td>No rating available</td>\n",
       "      <td>Alisha</td>\n",
       "      <td>{\"product_specification\"=&gt;[{\"key\"=&gt;\"Number of ...</td>\n",
       "      <td>2016-03-25</td>\n",
       "      <td>2016</td>\n",
       "      <td>3</td>\n",
       "      <td>Clothing</td>\n",
       "      <td>Women's Clothing</td>\n",
       "      <td>Lingerie, Sleep &amp; Swimwear</td>\n",
       "      <td>Shorts</td>\n",
       "    </tr>\n",
       "    <tr>\n",
       "      <th>1</th>\n",
       "      <td>7f7036a6d550aaa89d34c77bd39a5e48</td>\n",
       "      <td>2016-03-25 22:59:23+00:00</td>\n",
       "      <td>http://www.flipkart.com/fabhomedecor-fabric-do...</td>\n",
       "      <td>FabHomeDecor Fabric Double Sofa Bed</td>\n",
       "      <td>SBEEH3QGU7MFYJFY</td>\n",
       "      <td>32157.0</td>\n",
       "      <td>22646.0</td>\n",
       "      <td>[\"http://img6a.flixcart.com/image/sofa-bed/j/f...</td>\n",
       "      <td>False</td>\n",
       "      <td>FabHomeDecor Fabric Double Sofa Bed (Finish Co...</td>\n",
       "      <td>...</td>\n",
       "      <td>No rating available</td>\n",
       "      <td>FabHomeDecor</td>\n",
       "      <td>{\"product_specification\"=&gt;[{\"key\"=&gt;\"Installati...</td>\n",
       "      <td>2016-03-25</td>\n",
       "      <td>2016</td>\n",
       "      <td>3</td>\n",
       "      <td>Furniture</td>\n",
       "      <td>Living Room Furniture</td>\n",
       "      <td>Sofa Beds &amp; Futons</td>\n",
       "      <td>FabHomeDecor Fabric Double Sofa Bed (Finish Co...</td>\n",
       "    </tr>\n",
       "    <tr>\n",
       "      <th>2</th>\n",
       "      <td>f449ec65dcbc041b6ae5e6a32717d01b</td>\n",
       "      <td>2016-03-25 22:59:23+00:00</td>\n",
       "      <td>http://www.flipkart.com/aw-bellies/p/itmeh4grg...</td>\n",
       "      <td>AW Bellies</td>\n",
       "      <td>SHOEH4GRSUBJGZXE</td>\n",
       "      <td>999.0</td>\n",
       "      <td>499.0</td>\n",
       "      <td>[\"http://img5a.flixcart.com/image/shoe/7/z/z/r...</td>\n",
       "      <td>False</td>\n",
       "      <td>Key Features of AW Bellies Sandals Wedges Heel...</td>\n",
       "      <td>...</td>\n",
       "      <td>No rating available</td>\n",
       "      <td>AW</td>\n",
       "      <td>{\"product_specification\"=&gt;[{\"key\"=&gt;\"Ideal For\"...</td>\n",
       "      <td>2016-03-25</td>\n",
       "      <td>2016</td>\n",
       "      <td>3</td>\n",
       "      <td>Footwear</td>\n",
       "      <td>Women's Footwear</td>\n",
       "      <td>Ballerinas</td>\n",
       "      <td>AW Bellies\"</td>\n",
       "    </tr>\n",
       "    <tr>\n",
       "      <th>3</th>\n",
       "      <td>0973b37acd0c664e3de26e97e5571454</td>\n",
       "      <td>2016-03-25 22:59:23+00:00</td>\n",
       "      <td>http://www.flipkart.com/alisha-solid-women-s-c...</td>\n",
       "      <td>Alisha Solid Women's Cycling Shorts</td>\n",
       "      <td>SRTEH2F6HUZMQ6SJ</td>\n",
       "      <td>699.0</td>\n",
       "      <td>267.0</td>\n",
       "      <td>[\"http://img5a.flixcart.com/image/short/6/2/h/...</td>\n",
       "      <td>False</td>\n",
       "      <td>Key Features of Alisha Solid Women's Cycling S...</td>\n",
       "      <td>...</td>\n",
       "      <td>No rating available</td>\n",
       "      <td>Alisha</td>\n",
       "      <td>{\"product_specification\"=&gt;[{\"key\"=&gt;\"Number of ...</td>\n",
       "      <td>2016-03-25</td>\n",
       "      <td>2016</td>\n",
       "      <td>3</td>\n",
       "      <td>Clothing</td>\n",
       "      <td>Women's Clothing</td>\n",
       "      <td>Lingerie, Sleep &amp; Swimwear</td>\n",
       "      <td>Shorts</td>\n",
       "    </tr>\n",
       "    <tr>\n",
       "      <th>4</th>\n",
       "      <td>bc940ea42ee6bef5ac7cea3fb5cfbee7</td>\n",
       "      <td>2016-03-25 22:59:23+00:00</td>\n",
       "      <td>http://www.flipkart.com/sicons-all-purpose-arn...</td>\n",
       "      <td>Sicons All Purpose Arnica Dog Shampoo</td>\n",
       "      <td>PSOEH3ZYDMSYARJ5</td>\n",
       "      <td>220.0</td>\n",
       "      <td>210.0</td>\n",
       "      <td>[\"http://img5a.flixcart.com/image/pet-shampoo/...</td>\n",
       "      <td>False</td>\n",
       "      <td>Specifications of Sicons All Purpose Arnica Do...</td>\n",
       "      <td>...</td>\n",
       "      <td>No rating available</td>\n",
       "      <td>Sicons</td>\n",
       "      <td>{\"product_specification\"=&gt;[{\"key\"=&gt;\"Pet Type\",...</td>\n",
       "      <td>2016-03-25</td>\n",
       "      <td>2016</td>\n",
       "      <td>3</td>\n",
       "      <td>Pet Supplies</td>\n",
       "      <td>Grooming</td>\n",
       "      <td>Skin &amp; Coat Care</td>\n",
       "      <td>Shampoo</td>\n",
       "    </tr>\n",
       "  </tbody>\n",
       "</table>\n",
       "<p>5 rows × 21 columns</p>\n",
       "</div>"
      ],
      "text/plain": [
       "                            uniq_id           crawl_timestamp  \\\n",
       "0  c2d766ca982eca8304150849735ffef9 2016-03-25 22:59:23+00:00   \n",
       "1  7f7036a6d550aaa89d34c77bd39a5e48 2016-03-25 22:59:23+00:00   \n",
       "2  f449ec65dcbc041b6ae5e6a32717d01b 2016-03-25 22:59:23+00:00   \n",
       "3  0973b37acd0c664e3de26e97e5571454 2016-03-25 22:59:23+00:00   \n",
       "4  bc940ea42ee6bef5ac7cea3fb5cfbee7 2016-03-25 22:59:23+00:00   \n",
       "\n",
       "                                         product_url  \\\n",
       "0  http://www.flipkart.com/alisha-solid-women-s-c...   \n",
       "1  http://www.flipkart.com/fabhomedecor-fabric-do...   \n",
       "2  http://www.flipkart.com/aw-bellies/p/itmeh4grg...   \n",
       "3  http://www.flipkart.com/alisha-solid-women-s-c...   \n",
       "4  http://www.flipkart.com/sicons-all-purpose-arn...   \n",
       "\n",
       "                            product_name               pid  retail_price  \\\n",
       "0    Alisha Solid Women's Cycling Shorts  SRTEH2FF9KEDEFGF         999.0   \n",
       "1    FabHomeDecor Fabric Double Sofa Bed  SBEEH3QGU7MFYJFY       32157.0   \n",
       "2                             AW Bellies  SHOEH4GRSUBJGZXE         999.0   \n",
       "3    Alisha Solid Women's Cycling Shorts  SRTEH2F6HUZMQ6SJ         699.0   \n",
       "4  Sicons All Purpose Arnica Dog Shampoo  PSOEH3ZYDMSYARJ5         220.0   \n",
       "\n",
       "   discounted_price                                              image  \\\n",
       "0             379.0  [\"http://img5a.flixcart.com/image/short/u/4/a/...   \n",
       "1           22646.0  [\"http://img6a.flixcart.com/image/sofa-bed/j/f...   \n",
       "2             499.0  [\"http://img5a.flixcart.com/image/shoe/7/z/z/r...   \n",
       "3             267.0  [\"http://img5a.flixcart.com/image/short/6/2/h/...   \n",
       "4             210.0  [\"http://img5a.flixcart.com/image/pet-shampoo/...   \n",
       "\n",
       "   is_FK_Advantage_product                                        description  \\\n",
       "0                    False  Key Features of Alisha Solid Women's Cycling S...   \n",
       "1                    False  FabHomeDecor Fabric Double Sofa Bed (Finish Co...   \n",
       "2                    False  Key Features of AW Bellies Sandals Wedges Heel...   \n",
       "3                    False  Key Features of Alisha Solid Women's Cycling S...   \n",
       "4                    False  Specifications of Sicons All Purpose Arnica Do...   \n",
       "\n",
       "   ...       overall_rating         brand  \\\n",
       "0  ...  No rating available        Alisha   \n",
       "1  ...  No rating available  FabHomeDecor   \n",
       "2  ...  No rating available            AW   \n",
       "3  ...  No rating available        Alisha   \n",
       "4  ...  No rating available        Sicons   \n",
       "\n",
       "                              product_specifications        date  year  month  \\\n",
       "0  {\"product_specification\"=>[{\"key\"=>\"Number of ...  2016-03-25  2016      3   \n",
       "1  {\"product_specification\"=>[{\"key\"=>\"Installati...  2016-03-25  2016      3   \n",
       "2  {\"product_specification\"=>[{\"key\"=>\"Ideal For\"...  2016-03-25  2016      3   \n",
       "3  {\"product_specification\"=>[{\"key\"=>\"Number of ...  2016-03-25  2016      3   \n",
       "4  {\"product_specification\"=>[{\"key\"=>\"Pet Type\",...  2016-03-25  2016      3   \n",
       "\n",
       "   main_category       primary_category          secondary_category  \\\n",
       "0       Clothing       Women's Clothing  Lingerie, Sleep & Swimwear   \n",
       "1      Furniture  Living Room Furniture          Sofa Beds & Futons   \n",
       "2       Footwear       Women's Footwear                  Ballerinas   \n",
       "3       Clothing       Women's Clothing  Lingerie, Sleep & Swimwear   \n",
       "4   Pet Supplies               Grooming            Skin & Coat Care   \n",
       "\n",
       "                                   tertiary_category  \n",
       "0                                             Shorts  \n",
       "1  FabHomeDecor Fabric Double Sofa Bed (Finish Co...  \n",
       "2                                        AW Bellies\"  \n",
       "3                                             Shorts  \n",
       "4                                            Shampoo  \n",
       "\n",
       "[5 rows x 21 columns]"
      ]
     },
     "execution_count": 15,
     "metadata": {},
     "output_type": "execute_result"
    }
   ],
   "source": [
    "df.head(5)"
   ]
  },
  {
   "cell_type": "code",
   "execution_count": null,
   "id": "aaa5ba91",
   "metadata": {},
   "outputs": [],
   "source": []
  },
  {
   "cell_type": "code",
   "execution_count": 16,
   "id": "ef874569",
   "metadata": {},
   "outputs": [
    {
     "data": {
      "text/plain": [
       "array([2016, 2015], dtype=int64)"
      ]
     },
     "execution_count": 16,
     "metadata": {},
     "output_type": "execute_result"
    }
   ],
   "source": [
    "## how many years of data\n",
    "df.year.unique()"
   ]
  },
  {
   "cell_type": "code",
   "execution_count": null,
   "id": "216ac4de",
   "metadata": {},
   "outputs": [],
   "source": []
  },
  {
   "cell_type": "code",
   "execution_count": 17,
   "id": "e4bede1b",
   "metadata": {},
   "outputs": [
    {
     "data": {
      "text/plain": [
       "year\n",
       "2015    12009320.0\n",
       "2016    27304790.0\n",
       "Name: discounted_price, dtype: float64"
      ]
     },
     "execution_count": 17,
     "metadata": {},
     "output_type": "execute_result"
    }
   ],
   "source": [
    "## which year the sale is maximum\n",
    "df.groupby('year').discounted_price.sum()"
   ]
  },
  {
   "cell_type": "code",
   "execution_count": null,
   "id": "6ece9e5a",
   "metadata": {},
   "outputs": [],
   "source": []
  },
  {
   "cell_type": "code",
   "execution_count": 18,
   "id": "32251743",
   "metadata": {},
   "outputs": [
    {
     "data": {
      "text/plain": [
       "year  month\n",
       "2015  12       12009320.0\n",
       "2016  1        21498650.0\n",
       "      2          264539.0\n",
       "      3         2507724.0\n",
       "      4         1391281.0\n",
       "      5          704162.0\n",
       "      6          938434.0\n",
       "Name: discounted_price, dtype: float64"
      ]
     },
     "execution_count": 18,
     "metadata": {},
     "output_type": "execute_result"
    }
   ],
   "source": [
    "## each year on which month the sale is high\n",
    "df.groupby(['year','month']).discounted_price.sum()"
   ]
  },
  {
   "cell_type": "code",
   "execution_count": 19,
   "id": "cf976bbe",
   "metadata": {},
   "outputs": [
    {
     "data": {
      "image/png": "[encoded data removed]",
      "text/plain": [
       "<Figure size 720x432 with 1 Axes>"
      ]
     },
     "metadata": {
      "needs_background": "light"
     },
     "output_type": "display_data"
    }
   ],
   "source": [
    "plt.figure(figsize=(10,6))\n",
    "sns.barplot(x='month', y='discounted_price', data=df, hue='year')\n",
    "plt.xlabel('Month', fontsize=12)\n",
    "plt.ylabel('Sales Amount', fontsize=12)\n",
    "plt.title('Sales vs Year', fontsize=20, fontstyle='italic');"
   ]
  },
  {
   "cell_type": "code",
   "execution_count": null,
   "id": "0181daff",
   "metadata": {},
   "outputs": [],
   "source": []
  },
  {
   "cell_type": "code",
   "execution_count": 20,
   "id": "ec89963b",
   "metadata": {},
   "outputs": [
    {
     "data": {
      "text/plain": [
       "12    10315\n",
       "1      4850\n",
       "3      1634\n",
       "4      1137\n",
       "6      1046\n",
       "5       773\n",
       "2       245\n",
       "Name: month, dtype: int64"
      ]
     },
     "execution_count": 20,
     "metadata": {},
     "output_type": "execute_result"
    }
   ],
   "source": [
    "## in which month of the year most orders are placed\n",
    "df.month.value_counts()"
   ]
  },
  {
   "cell_type": "code",
   "execution_count": 21,
   "id": "b00678ed",
   "metadata": {},
   "outputs": [
    {
     "data": {
      "text/plain": [
       "<matplotlib.legend.Legend at 0x22175c9ff40>"
      ]
     },
     "execution_count": 21,
     "metadata": {},
     "output_type": "execute_result"
    },
    {
     "data": {
      "image/png": "[encoded data removed]",
      "text/plain": [
       "<Figure size 432x288 with 1 Axes>"
      ]
     },
     "metadata": {
      "needs_background": "light"
     },
     "output_type": "display_data"
    }
   ],
   "source": [
    "sns.countplot(x='month', hue='year', data=df)\n",
    "plt.legend(loc=2)"
   ]
  },
  {
   "cell_type": "code",
   "execution_count": null,
   "id": "040e9e64",
   "metadata": {},
   "outputs": [],
   "source": []
  },
  {
   "cell_type": "code",
   "execution_count": 22,
   "id": "bee258c6",
   "metadata": {},
   "outputs": [
    {
     "data": {
      "text/plain": [
       "266"
      ]
     },
     "execution_count": 22,
     "metadata": {},
     "output_type": "execute_result"
    }
   ],
   "source": [
    "## unique category\n",
    "df.main_category.nunique()"
   ]
  },
  {
   "cell_type": "code",
   "execution_count": 23,
   "id": "86f08352",
   "metadata": {},
   "outputs": [
    {
     "data": {
      "text/plain": [
       "Clothing                                                6198\n",
       "Jewellery                                               3531\n",
       "Footwear                                                1227\n",
       "Mobiles & Accessories                                   1099\n",
       "Automotive                                              1012\n",
       "                                                        ... \n",
       "Bengal Blooms Rose Artificial Plant  with Pot (3...\"       1\n",
       "Pazel Slim Fit Men's Jeans\"                                1\n",
       "SMART TRADERS Girls Bellies\"                               1\n",
       "Eternal Gandhi Super Series Crystal Paper Weight...\"       1\n",
       "Areon Luxurious Fragrance Long Lasting Car,Home,...\"       1\n",
       "Name: main_category, Length: 266, dtype: int64"
      ]
     },
     "execution_count": 23,
     "metadata": {},
     "output_type": "execute_result"
    }
   ],
   "source": [
    "## under which category most of the time product purchased by customer\n",
    "df['main_category'].value_counts().sort_values(ascending=False)"
   ]
  },
  {
   "cell_type": "code",
   "execution_count": 24,
   "id": "f3568c92",
   "metadata": {},
   "outputs": [
    {
     "data": {
      "text/plain": [
       "Index(['Clothing', 'Jewellery', 'Footwear', 'Mobiles & Accessories',\n",
       "       'Automotive', 'Home Decor & Festive Needs', 'Beauty and Personal Care',\n",
       "       'Home Furnishing', 'Kitchen & Dining', 'Computers'],\n",
       "      dtype='object')"
      ]
     },
     "execution_count": 24,
     "metadata": {},
     "output_type": "execute_result"
    }
   ],
   "source": [
    "df['main_category'].value_counts()[:10].sort_values(ascending=False).index"
   ]
  },
  {
   "cell_type": "code",
   "execution_count": 25,
   "id": "6ecc2033",
   "metadata": {},
   "outputs": [
    {
     "data": {
      "image/png": "[encoded data removed]",
      "text/plain": [
       "<Figure size 576x360 with 1 Axes>"
      ]
     },
     "metadata": {
      "needs_background": "light"
     },
     "output_type": "display_data"
    }
   ],
   "source": [
    "plt.figure(figsize=(8,5))\n",
    "sns.countplot(y='main_category', data=df,\n",
    "              order=df['main_category'].value_counts()[:10].sort_values(ascending=False).index)\n",
    "plt.ylabel('Main Category', fontsize=15)\n",
    "plt.xlabel('Count', fontsize=15);"
   ]
  },
  {
   "cell_type": "code",
   "execution_count": null,
   "id": "437ff210",
   "metadata": {},
   "outputs": [],
   "source": []
  },
  {
   "cell_type": "code",
   "execution_count": 26,
   "id": "091589ed",
   "metadata": {},
   "outputs": [
    {
     "data": {
      "text/plain": [
       "main_category\n",
       "Jewellery                                               19578167.0\n",
       "Clothing                                                 4408329.0\n",
       "Furniture                                                3080605.0\n",
       "Home Decor & Festive Needs                               1701745.0\n",
       "Watches                                                  1355850.0\n",
       "                                                           ...    \n",
       "Sisel Printed Poly Cotton Women's Stole\"                     128.0\n",
       "Siemens 5SL Betagard 5SL MCB (1)\"                            120.0\n",
       "INKT INKT A5 Wiro Notebook A5 Notebook Ring Boun...\"           0.0\n",
       "fourgee Slim Fit Boy's Black Jeans\"                            0.0\n",
       "Disney Printed Baby Boy's Hooded Grey T-Shirt\"                 0.0\n",
       "Name: discounted_price, Length: 266, dtype: float64"
      ]
     },
     "execution_count": 26,
     "metadata": {},
     "output_type": "execute_result"
    }
   ],
   "source": [
    "## which main category has more sales value\n",
    "df.groupby('main_category').discounted_price.sum().sort_values(ascending=False)"
   ]
  },
  {
   "cell_type": "code",
   "execution_count": 27,
   "id": "a2b3efef",
   "metadata": {},
   "outputs": [
    {
     "data": {
      "text/plain": [
       "Index(['Jewellery', 'Clothing', 'Furniture', 'Home Decor & Festive Needs',\n",
       "       'Watches', 'Footwear', 'Automotive', 'Computers',\n",
       "       'Mobiles & Accessories', 'Home Furnishing'],\n",
       "      dtype='object', name='main_category')"
      ]
     },
     "execution_count": 27,
     "metadata": {},
     "output_type": "execute_result"
    }
   ],
   "source": [
    "df.groupby('main_category').discounted_price.sum().sort_values(ascending=False)[:10].index"
   ]
  },
  {
   "cell_type": "code",
   "execution_count": 28,
   "id": "ec869207",
   "metadata": {},
   "outputs": [
    {
     "data": {
      "image/png": "[encoded data removed]",
      "text/plain": [
       "<Figure size 576x360 with 1 Axes>"
      ]
     },
     "metadata": {
      "needs_background": "light"
     },
     "output_type": "display_data"
    }
   ],
   "source": [
    "plt.figure(figsize=(8,5))\n",
    "sns.barplot(x='main_category', y='discounted_price', data=df,\n",
    "              order=df.groupby('main_category').discounted_price.sum().sort_values(ascending=False)[:10].index)\n",
    "plt.xlabel('Main Category', fontsize=15)\n",
    "plt.ylabel('Sales Anount', fontsize=15)\n",
    "plt.xticks(rotation=45);"
   ]
  },
  {
   "cell_type": "code",
   "execution_count": null,
   "id": "52e2dfef",
   "metadata": {},
   "outputs": [],
   "source": []
  },
  {
   "cell_type": "code",
   "execution_count": null,
   "id": "3590069f",
   "metadata": {},
   "outputs": [],
   "source": []
  },
  {
   "cell_type": "code",
   "execution_count": 29,
   "id": "e61157a8",
   "metadata": {},
   "outputs": [
    {
     "data": {
      "text/plain": [
       "Women's Clothing                 3901\n",
       "Men's Clothing                   1773\n",
       "Necklaces & Chains               1606\n",
       "Accessories & Spare parts         925\n",
       "Tablet Accessories                801\n",
       "                                 ... \n",
       "Elligator Aviator Sunglasses\"       1\n",
       "sovam Home Furnishing               1\n",
       "Strollers & Activity Gear           1\n",
       "Naaz Toys & School Supplies         1\n",
       "Home Utilities                      1\n",
       "Name: primary_category, Length: 223, dtype: int64"
      ]
     },
     "execution_count": 29,
     "metadata": {},
     "output_type": "execute_result"
    }
   ],
   "source": [
    "##how many primary categories are there in each main category\n",
    "df.primary_category.value_counts().sort_values(ascending=False)"
   ]
  },
  {
   "cell_type": "code",
   "execution_count": 31,
   "id": "e18952da",
   "metadata": {},
   "outputs": [
    {
     "data": {
      "text/plain": [
       "Index(['Women's Clothing', 'Men's Clothing', 'Necklaces & Chains',\n",
       "       'Accessories & Spare parts', 'Tablet Accessories', 'Women's Footwear',\n",
       "       'Bangles, Bracelets & Armlets', 'Rings\"', 'Wrist Watches',\n",
       "       'Kids' Clothing'],\n",
       "      dtype='object')"
      ]
     },
     "execution_count": 31,
     "metadata": {},
     "output_type": "execute_result"
    }
   ],
   "source": [
    "df.primary_category.value_counts().sort_values(ascending=False)[:10].index"
   ]
  },
  {
   "cell_type": "code",
   "execution_count": 32,
   "id": "53baa514",
   "metadata": {},
   "outputs": [
    {
     "data": {
      "image/png": "[encoded data removed]",
      "text/plain": [
       "<Figure size 432x360 with 1 Axes>"
      ]
     },
     "metadata": {
      "needs_background": "light"
     },
     "output_type": "display_data"
    }
   ],
   "source": [
    "plt.figure(figsize=(6,5))\n",
    "sns.countplot(y='primary_category', data=df,\n",
    "              order=df.primary_category.value_counts().sort_values(ascending=False)[:10].index)\n",
    "plt.ylabel('Primary Category', fontsize=12)\n",
    "plt.xlabel('Shopping Count', fontsize=12);"
   ]
  },
  {
   "cell_type": "code",
   "execution_count": null,
   "id": "47d2c38c",
   "metadata": {},
   "outputs": [],
   "source": []
  },
  {
   "cell_type": "code",
   "execution_count": 33,
   "id": "ca901e4d",
   "metadata": {},
   "outputs": [
    {
     "data": {
      "text/plain": [
       "primary_category\n",
       "Rings\"                             17724243.0\n",
       "Living Room                         2491621.0\n",
       "Women's Clothing                    2325067.0\n",
       "Men's Clothing                      1663213.0\n",
       "Wrist Watches                       1352941.0\n",
       "                                      ...    \n",
       "Elligator Aviator Sunglasses\"           219.0\n",
       "Aligatorr Aviator Sunglasses\"           180.0\n",
       "Mikado Aviator Sunglasses\"              179.0\n",
       "Wind Spinner Toys                       129.0\n",
       "Dark Image Wayfarer Sunglasses\"         117.0\n",
       "Name: discounted_price, Length: 223, dtype: float64"
      ]
     },
     "execution_count": 33,
     "metadata": {},
     "output_type": "execute_result"
    }
   ],
   "source": [
    "## which primary category earning more\n",
    "df.groupby('primary_category').discounted_price.sum().sort_values(ascending=False)"
   ]
  },
  {
   "cell_type": "code",
   "execution_count": 34,
   "id": "36f482b8",
   "metadata": {},
   "outputs": [
    {
     "data": {
      "text/plain": [
       "Index(['Rings\"', 'Living Room', 'Women's Clothing', 'Men's Clothing',\n",
       "       'Wrist Watches', 'Accessories & Spare parts', 'Women's Footwear',\n",
       "       'Tablet Accessories', 'Network Components',\n",
       "       'Bangles, Bracelets & Armlets'],\n",
       "      dtype='object', name='primary_category')"
      ]
     },
     "execution_count": 34,
     "metadata": {},
     "output_type": "execute_result"
    }
   ],
   "source": [
    "df.groupby('primary_category').discounted_price.sum().sort_values(ascending=False)[:10].index"
   ]
  },
  {
   "cell_type": "code",
   "execution_count": 35,
   "id": "889a3638",
   "metadata": {},
   "outputs": [
    {
     "data": {
      "image/png": "[encoded data removed]",
      "text/plain": [
       "<Figure size 432x576 with 1 Axes>"
      ]
     },
     "metadata": {
      "needs_background": "light"
     },
     "output_type": "display_data"
    }
   ],
   "source": [
    "plt.figure(figsize=(6,8))\n",
    "sns.barplot(x='primary_category', y='discounted_price', data=df,\n",
    "              order=df.groupby('primary_category').discounted_price.sum().sort_values(ascending=False)[:10].index)\n",
    "plt.xlabel('Primary Category', fontsize=12)\n",
    "plt.ylabel('Discounted_price', fontsize=12)\n",
    "plt.xticks(rotation=45)\n",
    "plt.title('Sales of Primary Category', fontsize=25);"
   ]
  },
  {
   "cell_type": "code",
   "execution_count": null,
   "id": "da30c705",
   "metadata": {},
   "outputs": [],
   "source": []
  },
  {
   "cell_type": "code",
   "execution_count": null,
   "id": "12fb3199",
   "metadata": {},
   "outputs": [],
   "source": []
  },
  {
   "cell_type": "code",
   "execution_count": 36,
   "id": "79e22435",
   "metadata": {},
   "outputs": [
    {
     "data": {
      "text/plain": [
       "Western Wear                                            1981\n",
       "Necklaces\"                                              1567\n",
       "None                                                    1457\n",
       "Lingerie, Sleep & Swimwear                              1208\n",
       "T-Shirts                                                 903\n",
       "                                                        ... \n",
       "Manirathnum Manirathnum Tourquise Original Gemst...\"       1\n",
       "Shoperite Office Supplies\"                                 1\n",
       "Timex Wrist Watches\"                                       1\n",
       "RKDEAL Ride Ons                                            1\n",
       "Shaving Creams, Foams, and Gels                            1\n",
       "Name: secondary_category, Length: 899, dtype: int64"
      ]
     },
     "execution_count": 36,
     "metadata": {},
     "output_type": "execute_result"
    }
   ],
   "source": [
    "## which secondary category sold most\n",
    "df.secondary_category.value_counts().sort_values(ascending=False)"
   ]
  },
  {
   "cell_type": "code",
   "execution_count": 37,
   "id": "9392e615",
   "metadata": {},
   "outputs": [
    {
     "data": {
      "text/plain": [
       "Index(['Western Wear', 'Necklaces\"', 'None', 'Lingerie, Sleep & Swimwear',\n",
       "       'T-Shirts', 'Cases & Covers', 'Car Interior & Exterior', 'Ethnic Wear',\n",
       "       'Casual Shoes', 'Bangles\"'],\n",
       "      dtype='object')"
      ]
     },
     "execution_count": 37,
     "metadata": {},
     "output_type": "execute_result"
    }
   ],
   "source": [
    "df.secondary_category.value_counts().sort_values(ascending=False)[:10].index"
   ]
  },
  {
   "cell_type": "code",
   "execution_count": 38,
   "id": "6d897a65",
   "metadata": {},
   "outputs": [
    {
     "data": {
      "image/png": "[encoded data removed]",
      "text/plain": [
       "<Figure size 432x360 with 1 Axes>"
      ]
     },
     "metadata": {
      "needs_background": "light"
     },
     "output_type": "display_data"
    }
   ],
   "source": [
    "plt.figure(figsize=(6,5))\n",
    "sns.countplot(y='secondary_category', data=df,\n",
    "              order=df.secondary_category.value_counts().sort_values(ascending=False)[:10].index)\n",
    "plt.ylabel('Secondary Category', fontsize=12)\n",
    "plt.xlabel('Shopping Count', fontsize=12);"
   ]
  },
  {
   "cell_type": "code",
   "execution_count": null,
   "id": "4092683d",
   "metadata": {},
   "outputs": [],
   "source": []
  },
  {
   "cell_type": "code",
   "execution_count": 39,
   "id": "f5e8c211",
   "metadata": {},
   "outputs": [
    {
     "data": {
      "text/plain": [
       "secondary_category\n",
       "None                                18481425.0\n",
       "Sofas & Sectionals\"                  2486122.0\n",
       "Western Wear                         1270978.0\n",
       "Car Interior & Exterior               901118.0\n",
       "Cases & Covers                        791467.0\n",
       "                                       ...    \n",
       "Bento Role Play Toys                     143.0\n",
       "Supports                                 140.0\n",
       "Yijun Wind Spinner Toys\"                 129.0\n",
       "Bento Musical Instruments & Toys         126.0\n",
       "SIM Adapters                              99.0\n",
       "Name: discounted_price, Length: 899, dtype: float64"
      ]
     },
     "execution_count": 39,
     "metadata": {},
     "output_type": "execute_result"
    }
   ],
   "source": [
    "##which secondary category has more sell\n",
    "df.groupby('secondary_category').discounted_price.sum().sort_values(ascending=False)"
   ]
  },
  {
   "cell_type": "code",
   "execution_count": 40,
   "id": "32a26379",
   "metadata": {},
   "outputs": [
    {
     "data": {
      "text/plain": [
       "Index(['None', 'Sofas & Sectionals\"', 'Western Wear',\n",
       "       'Car Interior & Exterior', 'Cases & Covers', 'Routers', 'Casual Shoes',\n",
       "       'Necklaces\"', 'Breitling Wrist Watches\"', 'T-Shirts'],\n",
       "      dtype='object', name='secondary_category')"
      ]
     },
     "execution_count": 40,
     "metadata": {},
     "output_type": "execute_result"
    }
   ],
   "source": [
    "df.groupby('secondary_category').discounted_price.sum().sort_values(ascending=False)[:10].index"
   ]
  },
  {
   "cell_type": "code",
   "execution_count": 41,
   "id": "cc3d650a",
   "metadata": {},
   "outputs": [
    {
     "data": {
      "image/png": "[encoded data removed]",
      "text/plain": [
       "<Figure size 432x576 with 1 Axes>"
      ]
     },
     "metadata": {
      "needs_background": "light"
     },
     "output_type": "display_data"
    }
   ],
   "source": [
    "plt.figure(figsize=(6,8))\n",
    "sns.barplot(x='secondary_category', y='discounted_price', data=df,\n",
    "              order=df.groupby('secondary_category').discounted_price.sum().sort_values(ascending=False)[:10].index)\n",
    "plt.xlabel('Secondary Category', fontsize=12)\n",
    "plt.ylabel('Discounted_price', fontsize=12)\n",
    "plt.xticks(rotation=45)\n",
    "plt.title('Sales of Secondary Category', fontsize=25);"
   ]
  },
  {
   "cell_type": "code",
   "execution_count": null,
   "id": "dbebfa8f",
   "metadata": {},
   "outputs": [],
   "source": []
  },
  {
   "cell_type": "code",
   "execution_count": null,
   "id": "494fe9b1",
   "metadata": {},
   "outputs": [],
   "source": []
  },
  {
   "cell_type": "code",
   "execution_count": 42,
   "id": "72d1cc9c",
   "metadata": {},
   "outputs": [
    {
     "data": {
      "text/plain": [
       "None                                                    5876\n",
       "Shirts, Tops & Tunics                                   1249\n",
       "Bras                                                    1036\n",
       "Car Interior                                             659\n",
       "Dresses & Skirts                                         620\n",
       "                                                        ... \n",
       "Space Women Heels\"                                         1\n",
       "Ts4U Casual Shoes\"                                         1\n",
       "Lowe Alpine Rucksack Raincover Raincover M Lugga...\"       1\n",
       "Seastar Casual Shoes\"                                      1\n",
       "Fun To See Stickers\"                                       1\n",
       "Name: tertiary_category, Length: 2371, dtype: int64"
      ]
     },
     "execution_count": 42,
     "metadata": {},
     "output_type": "execute_result"
    }
   ],
   "source": [
    "##which tertiary categories shopping count is more\n",
    "df.tertiary_category.value_counts().sort_values(ascending=False)"
   ]
  },
  {
   "cell_type": "code",
   "execution_count": 43,
   "id": "479477fe",
   "metadata": {},
   "outputs": [
    {
     "data": {
      "text/plain": [
       "Index(['None', 'Shirts, Tops & Tunics', 'Bras', 'Car Interior',\n",
       "       'Dresses & Skirts', 'Combos', 'Plant Containers & Sets',\n",
       "       'TheLostPuppy Cases & Covers\"', 'Leggings & Jeggings',\n",
       "       'Kurtas & Kurtis'],\n",
       "      dtype='object')"
      ]
     },
     "execution_count": 43,
     "metadata": {},
     "output_type": "execute_result"
    }
   ],
   "source": [
    "df.tertiary_category.value_counts().sort_values(ascending=False)[:10].index"
   ]
  },
  {
   "cell_type": "code",
   "execution_count": 44,
   "id": "cbdce1c1",
   "metadata": {},
   "outputs": [
    {
     "data": {
      "image/png": "[encoded data removed]",
      "text/plain": [
       "<Figure size 432x360 with 1 Axes>"
      ]
     },
     "metadata": {
      "needs_background": "light"
     },
     "output_type": "display_data"
    }
   ],
   "source": [
    "plt.figure(figsize=(6,5))\n",
    "sns.countplot(y='tertiary_category', data=df,\n",
    "              order=df.tertiary_category.value_counts().sort_values(ascending=False)[:10].index)\n",
    "plt.ylabel('Tertiary Category', fontsize=12)\n",
    "plt.xlabel('Shopping Count', fontsize=12);"
   ]
  },
  {
   "cell_type": "code",
   "execution_count": null,
   "id": "95f83cbf",
   "metadata": {},
   "outputs": [],
   "source": []
  },
  {
   "cell_type": "code",
   "execution_count": 45,
   "id": "adb79fd0",
   "metadata": {},
   "outputs": [
    {
     "data": {
      "text/plain": [
       "tertiary_category\n",
       "None                           25416619.0\n",
       "Car Interior                     889508.0\n",
       "Shirts, Tops & Tunics            730648.0\n",
       "Dresses & Skirts                 546129.0\n",
       "GAGA Paintings                   370060.0\n",
       "                                  ...    \n",
       "Satzuma USB Gadgets\"                  0.0\n",
       "Eurospa Baby Bath Towels              0.0\n",
       "Big Balaji Bulbs\"                     0.0\n",
       "Rock Polo Backpacks\"                  0.0\n",
       "Pearstone Battery chargers\"           0.0\n",
       "Name: discounted_price, Length: 2371, dtype: float64"
      ]
     },
     "execution_count": 45,
     "metadata": {},
     "output_type": "execute_result"
    }
   ],
   "source": [
    "##which tertiary category has more sell\n",
    "df.groupby('tertiary_category').discounted_price.sum().sort_values(ascending=False)"
   ]
  },
  {
   "cell_type": "code",
   "execution_count": 46,
   "id": "3a788ea6",
   "metadata": {},
   "outputs": [
    {
     "data": {
      "text/plain": [
       "Index(['None', 'Car Interior', 'Shirts, Tops & Tunics', 'Dresses & Skirts',\n",
       "       'GAGA Paintings', 'Bras', 'Plant Containers & Sets', 'Religious Idols',\n",
       "       'DailyObjects Cases & Covers\"', 'Boots\"'],\n",
       "      dtype='object', name='tertiary_category')"
      ]
     },
     "execution_count": 46,
     "metadata": {},
     "output_type": "execute_result"
    }
   ],
   "source": [
    "df.groupby('tertiary_category').discounted_price.sum().sort_values(ascending=False)[:10].index"
   ]
  },
  {
   "cell_type": "code",
   "execution_count": 47,
   "id": "71671a94",
   "metadata": {},
   "outputs": [
    {
     "data": {
      "image/png": "[encoded data removed]",
      "text/plain": [
       "<Figure size 576x432 with 1 Axes>"
      ]
     },
     "metadata": {
      "needs_background": "light"
     },
     "output_type": "display_data"
    }
   ],
   "source": [
    "plt.figure(figsize=(8,6))\n",
    "sns.barplot(x='tertiary_category', y='discounted_price', data=df,\n",
    "              order=df.groupby('tertiary_category').discounted_price.sum().sort_values(ascending=False)[:10].index)\n",
    "plt.xlabel('Tertiary Category', fontsize=12)\n",
    "plt.ylabel('Discounted_price', fontsize=12)\n",
    "plt.xticks(rotation=45)\n",
    "plt.title('Sales of Tertiary Category', fontsize=25);"
   ]
  },
  {
   "cell_type": "code",
   "execution_count": null,
   "id": "3a8287c7",
   "metadata": {},
   "outputs": [],
   "source": []
  },
  {
   "cell_type": "code",
   "execution_count": null,
   "id": "46cf2cc0",
   "metadata": {},
   "outputs": [],
   "source": []
  },
  {
   "cell_type": "code",
   "execution_count": 48,
   "id": "da43346d",
   "metadata": {},
   "outputs": [],
   "source": [
    "##Adding a discount amount column\n",
    "df.insert(7, 'discount_amount', df['retail_price']-df['discounted_price'])"
   ]
  },
  {
   "cell_type": "code",
   "execution_count": 49,
   "id": "c5af6f4a",
   "metadata": {},
   "outputs": [
    {
     "data": {
      "text/html": [
       "<div>\n",
       "<style scoped>\n",
       "    .dataframe tbody tr th:only-of-type {\n",
       "        vertical-align: middle;\n",
       "    }\n",
       "\n",
       "    .dataframe tbody tr th {\n",
       "        vertical-align: top;\n",
       "    }\n",
       "\n",
       "    .dataframe thead th {\n",
       "        text-align: right;\n",
       "    }\n",
       "</style>\n",
       "<table border=\"1\" class=\"dataframe\">\n",
       "  <thead>\n",
       "    <tr style=\"text-align: right;\">\n",
       "      <th></th>\n",
       "      <th>uniq_id</th>\n",
       "      <th>crawl_timestamp</th>\n",
       "      <th>product_url</th>\n",
       "      <th>product_name</th>\n",
       "      <th>pid</th>\n",
       "      <th>retail_price</th>\n",
       "      <th>discounted_price</th>\n",
       "      <th>discount_amount</th>\n",
       "      <th>image</th>\n",
       "      <th>is_FK_Advantage_product</th>\n",
       "      <th>...</th>\n",
       "      <th>overall_rating</th>\n",
       "      <th>brand</th>\n",
       "      <th>product_specifications</th>\n",
       "      <th>date</th>\n",
       "      <th>year</th>\n",
       "      <th>month</th>\n",
       "      <th>main_category</th>\n",
       "      <th>primary_category</th>\n",
       "      <th>secondary_category</th>\n",
       "      <th>tertiary_category</th>\n",
       "    </tr>\n",
       "  </thead>\n",
       "  <tbody>\n",
       "    <tr>\n",
       "      <th>0</th>\n",
       "      <td>c2d766ca982eca8304150849735ffef9</td>\n",
       "      <td>2016-03-25 22:59:23+00:00</td>\n",
       "      <td>http://www.flipkart.com/alisha-solid-women-s-c...</td>\n",
       "      <td>Alisha Solid Women's Cycling Shorts</td>\n",
       "      <td>SRTEH2FF9KEDEFGF</td>\n",
       "      <td>999.0</td>\n",
       "      <td>379.0</td>\n",
       "      <td>620.0</td>\n",
       "      <td>[\"http://img5a.flixcart.com/image/short/u/4/a/...</td>\n",
       "      <td>False</td>\n",
       "      <td>...</td>\n",
       "      <td>No rating available</td>\n",
       "      <td>Alisha</td>\n",
       "      <td>{\"product_specification\"=&gt;[{\"key\"=&gt;\"Number of ...</td>\n",
       "      <td>2016-03-25</td>\n",
       "      <td>2016</td>\n",
       "      <td>3</td>\n",
       "      <td>Clothing</td>\n",
       "      <td>Women's Clothing</td>\n",
       "      <td>Lingerie, Sleep &amp; Swimwear</td>\n",
       "      <td>Shorts</td>\n",
       "    </tr>\n",
       "    <tr>\n",
       "      <th>1</th>\n",
       "      <td>7f7036a6d550aaa89d34c77bd39a5e48</td>\n",
       "      <td>2016-03-25 22:59:23+00:00</td>\n",
       "      <td>http://www.flipkart.com/fabhomedecor-fabric-do...</td>\n",
       "      <td>FabHomeDecor Fabric Double Sofa Bed</td>\n",
       "      <td>SBEEH3QGU7MFYJFY</td>\n",
       "      <td>32157.0</td>\n",
       "      <td>22646.0</td>\n",
       "      <td>9511.0</td>\n",
       "      <td>[\"http://img6a.flixcart.com/image/sofa-bed/j/f...</td>\n",
       "      <td>False</td>\n",
       "      <td>...</td>\n",
       "      <td>No rating available</td>\n",
       "      <td>FabHomeDecor</td>\n",
       "      <td>{\"product_specification\"=&gt;[{\"key\"=&gt;\"Installati...</td>\n",
       "      <td>2016-03-25</td>\n",
       "      <td>2016</td>\n",
       "      <td>3</td>\n",
       "      <td>Furniture</td>\n",
       "      <td>Living Room Furniture</td>\n",
       "      <td>Sofa Beds &amp; Futons</td>\n",
       "      <td>FabHomeDecor Fabric Double Sofa Bed (Finish Co...</td>\n",
       "    </tr>\n",
       "    <tr>\n",
       "      <th>2</th>\n",
       "      <td>f449ec65dcbc041b6ae5e6a32717d01b</td>\n",
       "      <td>2016-03-25 22:59:23+00:00</td>\n",
       "      <td>http://www.flipkart.com/aw-bellies/p/itmeh4grg...</td>\n",
       "      <td>AW Bellies</td>\n",
       "      <td>SHOEH4GRSUBJGZXE</td>\n",
       "      <td>999.0</td>\n",
       "      <td>499.0</td>\n",
       "      <td>500.0</td>\n",
       "      <td>[\"http://img5a.flixcart.com/image/shoe/7/z/z/r...</td>\n",
       "      <td>False</td>\n",
       "      <td>...</td>\n",
       "      <td>No rating available</td>\n",
       "      <td>AW</td>\n",
       "      <td>{\"product_specification\"=&gt;[{\"key\"=&gt;\"Ideal For\"...</td>\n",
       "      <td>2016-03-25</td>\n",
       "      <td>2016</td>\n",
       "      <td>3</td>\n",
       "      <td>Footwear</td>\n",
       "      <td>Women's Footwear</td>\n",
       "      <td>Ballerinas</td>\n",
       "      <td>AW Bellies\"</td>\n",
       "    </tr>\n",
       "    <tr>\n",
       "      <th>3</th>\n",
       "      <td>0973b37acd0c664e3de26e97e5571454</td>\n",
       "      <td>2016-03-25 22:59:23+00:00</td>\n",
       "      <td>http://www.flipkart.com/alisha-solid-women-s-c...</td>\n",
       "      <td>Alisha Solid Women's Cycling Shorts</td>\n",
       "      <td>SRTEH2F6HUZMQ6SJ</td>\n",
       "      <td>699.0</td>\n",
       "      <td>267.0</td>\n",
       "      <td>432.0</td>\n",
       "      <td>[\"http://img5a.flixcart.com/image/short/6/2/h/...</td>\n",
       "      <td>False</td>\n",
       "      <td>...</td>\n",
       "      <td>No rating available</td>\n",
       "      <td>Alisha</td>\n",
       "      <td>{\"product_specification\"=&gt;[{\"key\"=&gt;\"Number of ...</td>\n",
       "      <td>2016-03-25</td>\n",
       "      <td>2016</td>\n",
       "      <td>3</td>\n",
       "      <td>Clothing</td>\n",
       "      <td>Women's Clothing</td>\n",
       "      <td>Lingerie, Sleep &amp; Swimwear</td>\n",
       "      <td>Shorts</td>\n",
       "    </tr>\n",
       "    <tr>\n",
       "      <th>4</th>\n",
       "      <td>bc940ea42ee6bef5ac7cea3fb5cfbee7</td>\n",
       "      <td>2016-03-25 22:59:23+00:00</td>\n",
       "      <td>http://www.flipkart.com/sicons-all-purpose-arn...</td>\n",
       "      <td>Sicons All Purpose Arnica Dog Shampoo</td>\n",
       "      <td>PSOEH3ZYDMSYARJ5</td>\n",
       "      <td>220.0</td>\n",
       "      <td>210.0</td>\n",
       "      <td>10.0</td>\n",
       "      <td>[\"http://img5a.flixcart.com/image/pet-shampoo/...</td>\n",
       "      <td>False</td>\n",
       "      <td>...</td>\n",
       "      <td>No rating available</td>\n",
       "      <td>Sicons</td>\n",
       "      <td>{\"product_specification\"=&gt;[{\"key\"=&gt;\"Pet Type\",...</td>\n",
       "      <td>2016-03-25</td>\n",
       "      <td>2016</td>\n",
       "      <td>3</td>\n",
       "      <td>Pet Supplies</td>\n",
       "      <td>Grooming</td>\n",
       "      <td>Skin &amp; Coat Care</td>\n",
       "      <td>Shampoo</td>\n",
       "    </tr>\n",
       "  </tbody>\n",
       "</table>\n",
       "<p>5 rows × 22 columns</p>\n",
       "</div>"
      ],
      "text/plain": [
       "                            uniq_id           crawl_timestamp  \\\n",
       "0  c2d766ca982eca8304150849735ffef9 2016-03-25 22:59:23+00:00   \n",
       "1  7f7036a6d550aaa89d34c77bd39a5e48 2016-03-25 22:59:23+00:00   \n",
       "2  f449ec65dcbc041b6ae5e6a32717d01b 2016-03-25 22:59:23+00:00   \n",
       "3  0973b37acd0c664e3de26e97e5571454 2016-03-25 22:59:23+00:00   \n",
       "4  bc940ea42ee6bef5ac7cea3fb5cfbee7 2016-03-25 22:59:23+00:00   \n",
       "\n",
       "                                         product_url  \\\n",
       "0  http://www.flipkart.com/alisha-solid-women-s-c...   \n",
       "1  http://www.flipkart.com/fabhomedecor-fabric-do...   \n",
       "2  http://www.flipkart.com/aw-bellies/p/itmeh4grg...   \n",
       "3  http://www.flipkart.com/alisha-solid-women-s-c...   \n",
       "4  http://www.flipkart.com/sicons-all-purpose-arn...   \n",
       "\n",
       "                            product_name               pid  retail_price  \\\n",
       "0    Alisha Solid Women's Cycling Shorts  SRTEH2FF9KEDEFGF         999.0   \n",
       "1    FabHomeDecor Fabric Double Sofa Bed  SBEEH3QGU7MFYJFY       32157.0   \n",
       "2                             AW Bellies  SHOEH4GRSUBJGZXE         999.0   \n",
       "3    Alisha Solid Women's Cycling Shorts  SRTEH2F6HUZMQ6SJ         699.0   \n",
       "4  Sicons All Purpose Arnica Dog Shampoo  PSOEH3ZYDMSYARJ5         220.0   \n",
       "\n",
       "   discounted_price  discount_amount  \\\n",
       "0             379.0            620.0   \n",
       "1           22646.0           9511.0   \n",
       "2             499.0            500.0   \n",
       "3             267.0            432.0   \n",
       "4             210.0             10.0   \n",
       "\n",
       "                                               image  is_FK_Advantage_product  \\\n",
       "0  [\"http://img5a.flixcart.com/image/short/u/4/a/...                    False   \n",
       "1  [\"http://img6a.flixcart.com/image/sofa-bed/j/f...                    False   \n",
       "2  [\"http://img5a.flixcart.com/image/shoe/7/z/z/r...                    False   \n",
       "3  [\"http://img5a.flixcart.com/image/short/6/2/h/...                    False   \n",
       "4  [\"http://img5a.flixcart.com/image/pet-shampoo/...                    False   \n",
       "\n",
       "   ...       overall_rating         brand  \\\n",
       "0  ...  No rating available        Alisha   \n",
       "1  ...  No rating available  FabHomeDecor   \n",
       "2  ...  No rating available            AW   \n",
       "3  ...  No rating available        Alisha   \n",
       "4  ...  No rating available        Sicons   \n",
       "\n",
       "                              product_specifications        date  year month  \\\n",
       "0  {\"product_specification\"=>[{\"key\"=>\"Number of ...  2016-03-25  2016     3   \n",
       "1  {\"product_specification\"=>[{\"key\"=>\"Installati...  2016-03-25  2016     3   \n",
       "2  {\"product_specification\"=>[{\"key\"=>\"Ideal For\"...  2016-03-25  2016     3   \n",
       "3  {\"product_specification\"=>[{\"key\"=>\"Number of ...  2016-03-25  2016     3   \n",
       "4  {\"product_specification\"=>[{\"key\"=>\"Pet Type\",...  2016-03-25  2016     3   \n",
       "\n",
       "   main_category       primary_category          secondary_category  \\\n",
       "0       Clothing       Women's Clothing  Lingerie, Sleep & Swimwear   \n",
       "1      Furniture  Living Room Furniture          Sofa Beds & Futons   \n",
       "2       Footwear       Women's Footwear                  Ballerinas   \n",
       "3       Clothing       Women's Clothing  Lingerie, Sleep & Swimwear   \n",
       "4   Pet Supplies               Grooming            Skin & Coat Care   \n",
       "\n",
       "                                   tertiary_category  \n",
       "0                                             Shorts  \n",
       "1  FabHomeDecor Fabric Double Sofa Bed (Finish Co...  \n",
       "2                                        AW Bellies\"  \n",
       "3                                             Shorts  \n",
       "4                                            Shampoo  \n",
       "\n",
       "[5 rows x 22 columns]"
      ]
     },
     "execution_count": 49,
     "metadata": {},
     "output_type": "execute_result"
    }
   ],
   "source": [
    "df.head()"
   ]
  },
  {
   "cell_type": "code",
   "execution_count": 50,
   "id": "4e87a297",
   "metadata": {},
   "outputs": [],
   "source": [
    "df.rename({'discounted_price':'selling_price'}, axis=1, inplace=True)"
   ]
  },
  {
   "cell_type": "code",
   "execution_count": 51,
   "id": "4d605123",
   "metadata": {},
   "outputs": [
    {
     "data": {
      "text/html": [
       "<div>\n",
       "<style scoped>\n",
       "    .dataframe tbody tr th:only-of-type {\n",
       "        vertical-align: middle;\n",
       "    }\n",
       "\n",
       "    .dataframe tbody tr th {\n",
       "        vertical-align: top;\n",
       "    }\n",
       "\n",
       "    .dataframe thead th {\n",
       "        text-align: right;\n",
       "    }\n",
       "</style>\n",
       "<table border=\"1\" class=\"dataframe\">\n",
       "  <thead>\n",
       "    <tr style=\"text-align: right;\">\n",
       "      <th></th>\n",
       "      <th>uniq_id</th>\n",
       "      <th>crawl_timestamp</th>\n",
       "      <th>product_url</th>\n",
       "      <th>product_name</th>\n",
       "      <th>pid</th>\n",
       "      <th>retail_price</th>\n",
       "      <th>selling_price</th>\n",
       "      <th>discount_amount</th>\n",
       "      <th>image</th>\n",
       "      <th>is_FK_Advantage_product</th>\n",
       "      <th>description</th>\n",
       "      <th>product_rating</th>\n",
       "      <th>overall_rating</th>\n",
       "      <th>brand</th>\n",
       "      <th>product_specifications</th>\n",
       "      <th>date</th>\n",
       "      <th>year</th>\n",
       "      <th>month</th>\n",
       "      <th>main_category</th>\n",
       "      <th>primary_category</th>\n",
       "      <th>secondary_category</th>\n",
       "      <th>tertiary_category</th>\n",
       "    </tr>\n",
       "  </thead>\n",
       "  <tbody>\n",
       "    <tr>\n",
       "      <th>0</th>\n",
       "      <td>c2d766ca982eca8304150849735ffef9</td>\n",
       "      <td>2016-03-25 22:59:23+00:00</td>\n",
       "      <td>http://www.flipkart.com/alisha-solid-women-s-c...</td>\n",
       "      <td>Alisha Solid Women's Cycling Shorts</td>\n",
       "      <td>SRTEH2FF9KEDEFGF</td>\n",
       "      <td>999.0</td>\n",
       "      <td>379.0</td>\n",
       "      <td>620.0</td>\n",
       "      <td>[\"http://img5a.flixcart.com/image/short/u/4/a/...</td>\n",
       "      <td>False</td>\n",
       "      <td>Key Features of Alisha Solid Women's Cycling S...</td>\n",
       "      <td>No rating available</td>\n",
       "      <td>No rating available</td>\n",
       "      <td>Alisha</td>\n",
       "      <td>{\"product_specification\"=&gt;[{\"key\"=&gt;\"Number of ...</td>\n",
       "      <td>2016-03-25</td>\n",
       "      <td>2016</td>\n",
       "      <td>3</td>\n",
       "      <td>Clothing</td>\n",
       "      <td>Women's Clothing</td>\n",
       "      <td>Lingerie, Sleep &amp; Swimwear</td>\n",
       "      <td>Shorts</td>\n",
       "    </tr>\n",
       "    <tr>\n",
       "      <th>1</th>\n",
       "      <td>7f7036a6d550aaa89d34c77bd39a5e48</td>\n",
       "      <td>2016-03-25 22:59:23+00:00</td>\n",
       "      <td>http://www.flipkart.com/fabhomedecor-fabric-do...</td>\n",
       "      <td>FabHomeDecor Fabric Double Sofa Bed</td>\n",
       "      <td>SBEEH3QGU7MFYJFY</td>\n",
       "      <td>32157.0</td>\n",
       "      <td>22646.0</td>\n",
       "      <td>9511.0</td>\n",
       "      <td>[\"http://img6a.flixcart.com/image/sofa-bed/j/f...</td>\n",
       "      <td>False</td>\n",
       "      <td>FabHomeDecor Fabric Double Sofa Bed (Finish Co...</td>\n",
       "      <td>No rating available</td>\n",
       "      <td>No rating available</td>\n",
       "      <td>FabHomeDecor</td>\n",
       "      <td>{\"product_specification\"=&gt;[{\"key\"=&gt;\"Installati...</td>\n",
       "      <td>2016-03-25</td>\n",
       "      <td>2016</td>\n",
       "      <td>3</td>\n",
       "      <td>Furniture</td>\n",
       "      <td>Living Room Furniture</td>\n",
       "      <td>Sofa Beds &amp; Futons</td>\n",
       "      <td>FabHomeDecor Fabric Double Sofa Bed (Finish Co...</td>\n",
       "    </tr>\n",
       "    <tr>\n",
       "      <th>2</th>\n",
       "      <td>f449ec65dcbc041b6ae5e6a32717d01b</td>\n",
       "      <td>2016-03-25 22:59:23+00:00</td>\n",
       "      <td>http://www.flipkart.com/aw-bellies/p/itmeh4grg...</td>\n",
       "      <td>AW Bellies</td>\n",
       "      <td>SHOEH4GRSUBJGZXE</td>\n",
       "      <td>999.0</td>\n",
       "      <td>499.0</td>\n",
       "      <td>500.0</td>\n",
       "      <td>[\"http://img5a.flixcart.com/image/shoe/7/z/z/r...</td>\n",
       "      <td>False</td>\n",
       "      <td>Key Features of AW Bellies Sandals Wedges Heel...</td>\n",
       "      <td>No rating available</td>\n",
       "      <td>No rating available</td>\n",
       "      <td>AW</td>\n",
       "      <td>{\"product_specification\"=&gt;[{\"key\"=&gt;\"Ideal For\"...</td>\n",
       "      <td>2016-03-25</td>\n",
       "      <td>2016</td>\n",
       "      <td>3</td>\n",
       "      <td>Footwear</td>\n",
       "      <td>Women's Footwear</td>\n",
       "      <td>Ballerinas</td>\n",
       "      <td>AW Bellies\"</td>\n",
       "    </tr>\n",
       "    <tr>\n",
       "      <th>3</th>\n",
       "      <td>0973b37acd0c664e3de26e97e5571454</td>\n",
       "      <td>2016-03-25 22:59:23+00:00</td>\n",
       "      <td>http://www.flipkart.com/alisha-solid-women-s-c...</td>\n",
       "      <td>Alisha Solid Women's Cycling Shorts</td>\n",
       "      <td>SRTEH2F6HUZMQ6SJ</td>\n",
       "      <td>699.0</td>\n",
       "      <td>267.0</td>\n",
       "      <td>432.0</td>\n",
       "      <td>[\"http://img5a.flixcart.com/image/short/6/2/h/...</td>\n",
       "      <td>False</td>\n",
       "      <td>Key Features of Alisha Solid Women's Cycling S...</td>\n",
       "      <td>No rating available</td>\n",
       "      <td>No rating available</td>\n",
       "      <td>Alisha</td>\n",
       "      <td>{\"product_specification\"=&gt;[{\"key\"=&gt;\"Number of ...</td>\n",
       "      <td>2016-03-25</td>\n",
       "      <td>2016</td>\n",
       "      <td>3</td>\n",
       "      <td>Clothing</td>\n",
       "      <td>Women's Clothing</td>\n",
       "      <td>Lingerie, Sleep &amp; Swimwear</td>\n",
       "      <td>Shorts</td>\n",
       "    </tr>\n",
       "    <tr>\n",
       "      <th>4</th>\n",
       "      <td>bc940ea42ee6bef5ac7cea3fb5cfbee7</td>\n",
       "      <td>2016-03-25 22:59:23+00:00</td>\n",
       "      <td>http://www.flipkart.com/sicons-all-purpose-arn...</td>\n",
       "      <td>Sicons All Purpose Arnica Dog Shampoo</td>\n",
       "      <td>PSOEH3ZYDMSYARJ5</td>\n",
       "      <td>220.0</td>\n",
       "      <td>210.0</td>\n",
       "      <td>10.0</td>\n",
       "      <td>[\"http://img5a.flixcart.com/image/pet-shampoo/...</td>\n",
       "      <td>False</td>\n",
       "      <td>Specifications of Sicons All Purpose Arnica Do...</td>\n",
       "      <td>No rating available</td>\n",
       "      <td>No rating available</td>\n",
       "      <td>Sicons</td>\n",
       "      <td>{\"product_specification\"=&gt;[{\"key\"=&gt;\"Pet Type\",...</td>\n",
       "      <td>2016-03-25</td>\n",
       "      <td>2016</td>\n",
       "      <td>3</td>\n",
       "      <td>Pet Supplies</td>\n",
       "      <td>Grooming</td>\n",
       "      <td>Skin &amp; Coat Care</td>\n",
       "      <td>Shampoo</td>\n",
       "    </tr>\n",
       "  </tbody>\n",
       "</table>\n",
       "</div>"
      ],
      "text/plain": [
       "                            uniq_id           crawl_timestamp  \\\n",
       "0  c2d766ca982eca8304150849735ffef9 2016-03-25 22:59:23+00:00   \n",
       "1  7f7036a6d550aaa89d34c77bd39a5e48 2016-03-25 22:59:23+00:00   \n",
       "2  f449ec65dcbc041b6ae5e6a32717d01b 2016-03-25 22:59:23+00:00   \n",
       "3  0973b37acd0c664e3de26e97e5571454 2016-03-25 22:59:23+00:00   \n",
       "4  bc940ea42ee6bef5ac7cea3fb5cfbee7 2016-03-25 22:59:23+00:00   \n",
       "\n",
       "                                         product_url  \\\n",
       "0  http://www.flipkart.com/alisha-solid-women-s-c...   \n",
       "1  http://www.flipkart.com/fabhomedecor-fabric-do...   \n",
       "2  http://www.flipkart.com/aw-bellies/p/itmeh4grg...   \n",
       "3  http://www.flipkart.com/alisha-solid-women-s-c...   \n",
       "4  http://www.flipkart.com/sicons-all-purpose-arn...   \n",
       "\n",
       "                            product_name               pid  retail_price  \\\n",
       "0    Alisha Solid Women's Cycling Shorts  SRTEH2FF9KEDEFGF         999.0   \n",
       "1    FabHomeDecor Fabric Double Sofa Bed  SBEEH3QGU7MFYJFY       32157.0   \n",
       "2                             AW Bellies  SHOEH4GRSUBJGZXE         999.0   \n",
       "3    Alisha Solid Women's Cycling Shorts  SRTEH2F6HUZMQ6SJ         699.0   \n",
       "4  Sicons All Purpose Arnica Dog Shampoo  PSOEH3ZYDMSYARJ5         220.0   \n",
       "\n",
       "   selling_price  discount_amount  \\\n",
       "0          379.0            620.0   \n",
       "1        22646.0           9511.0   \n",
       "2          499.0            500.0   \n",
       "3          267.0            432.0   \n",
       "4          210.0             10.0   \n",
       "\n",
       "                                               image  is_FK_Advantage_product  \\\n",
       "0  [\"http://img5a.flixcart.com/image/short/u/4/a/...                    False   \n",
       "1  [\"http://img6a.flixcart.com/image/sofa-bed/j/f...                    False   \n",
       "2  [\"http://img5a.flixcart.com/image/shoe/7/z/z/r...                    False   \n",
       "3  [\"http://img5a.flixcart.com/image/short/6/2/h/...                    False   \n",
       "4  [\"http://img5a.flixcart.com/image/pet-shampoo/...                    False   \n",
       "\n",
       "                                         description       product_rating  \\\n",
       "0  Key Features of Alisha Solid Women's Cycling S...  No rating available   \n",
       "1  FabHomeDecor Fabric Double Sofa Bed (Finish Co...  No rating available   \n",
       "2  Key Features of AW Bellies Sandals Wedges Heel...  No rating available   \n",
       "3  Key Features of Alisha Solid Women's Cycling S...  No rating available   \n",
       "4  Specifications of Sicons All Purpose Arnica Do...  No rating available   \n",
       "\n",
       "        overall_rating         brand  \\\n",
       "0  No rating available        Alisha   \n",
       "1  No rating available  FabHomeDecor   \n",
       "2  No rating available            AW   \n",
       "3  No rating available        Alisha   \n",
       "4  No rating available        Sicons   \n",
       "\n",
       "                              product_specifications        date  year  month  \\\n",
       "0  {\"product_specification\"=>[{\"key\"=>\"Number of ...  2016-03-25  2016      3   \n",
       "1  {\"product_specification\"=>[{\"key\"=>\"Installati...  2016-03-25  2016      3   \n",
       "2  {\"product_specification\"=>[{\"key\"=>\"Ideal For\"...  2016-03-25  2016      3   \n",
       "3  {\"product_specification\"=>[{\"key\"=>\"Number of ...  2016-03-25  2016      3   \n",
       "4  {\"product_specification\"=>[{\"key\"=>\"Pet Type\",...  2016-03-25  2016      3   \n",
       "\n",
       "  main_category       primary_category          secondary_category  \\\n",
       "0      Clothing       Women's Clothing  Lingerie, Sleep & Swimwear   \n",
       "1     Furniture  Living Room Furniture          Sofa Beds & Futons   \n",
       "2      Footwear       Women's Footwear                  Ballerinas   \n",
       "3      Clothing       Women's Clothing  Lingerie, Sleep & Swimwear   \n",
       "4  Pet Supplies               Grooming            Skin & Coat Care   \n",
       "\n",
       "                                   tertiary_category  \n",
       "0                                             Shorts  \n",
       "1  FabHomeDecor Fabric Double Sofa Bed (Finish Co...  \n",
       "2                                        AW Bellies\"  \n",
       "3                                             Shorts  \n",
       "4                                            Shampoo  "
      ]
     },
     "execution_count": 51,
     "metadata": {},
     "output_type": "execute_result"
    }
   ],
   "source": [
    "pd.options.display.max_columns=40\n",
    "df.head(5)"
   ]
  },
  {
   "cell_type": "code",
   "execution_count": null,
   "id": "2ba8be7e",
   "metadata": {},
   "outputs": [],
   "source": []
  },
  {
   "cell_type": "code",
   "execution_count": 52,
   "id": "8aac2a8a",
   "metadata": {},
   "outputs": [
    {
     "data": {
      "text/plain": [
       "Index(['uniq_id', 'crawl_timestamp', 'product_url', 'product_name', 'pid',\n",
       "       'retail_price', 'selling_price', 'discount_amount', 'image',\n",
       "       'is_FK_Advantage_product', 'description', 'product_rating',\n",
       "       'overall_rating', 'brand', 'product_specifications', 'date', 'year',\n",
       "       'month', 'main_category', 'primary_category', 'secondary_category',\n",
       "       'tertiary_category'],\n",
       "      dtype='object')"
      ]
     },
     "execution_count": 52,
     "metadata": {},
     "output_type": "execute_result"
    }
   ],
   "source": [
    "df.columns"
   ]
  },
  {
   "cell_type": "code",
   "execution_count": 54,
   "id": "18d988d0",
   "metadata": {},
   "outputs": [],
   "source": [
    "df.drop(['uniq_id','crawl_timestamp','product_url','pid','image','is_FK_Advantage_product','description','product_rating','overall_rating','product_specifications'], axis=1, inplace=True)"
   ]
  },
  {
   "cell_type": "code",
   "execution_count": 55,
   "id": "8fffdd1b",
   "metadata": {},
   "outputs": [
    {
     "data": {
      "text/html": [
       "<div>\n",
       "<style scoped>\n",
       "    .dataframe tbody tr th:only-of-type {\n",
       "        vertical-align: middle;\n",
       "    }\n",
       "\n",
       "    .dataframe tbody tr th {\n",
       "        vertical-align: top;\n",
       "    }\n",
       "\n",
       "    .dataframe thead th {\n",
       "        text-align: right;\n",
       "    }\n",
       "</style>\n",
       "<table border=\"1\" class=\"dataframe\">\n",
       "  <thead>\n",
       "    <tr style=\"text-align: right;\">\n",
       "      <th></th>\n",
       "      <th>product_name</th>\n",
       "      <th>retail_price</th>\n",
       "      <th>selling_price</th>\n",
       "      <th>discount_amount</th>\n",
       "      <th>brand</th>\n",
       "      <th>date</th>\n",
       "      <th>year</th>\n",
       "      <th>month</th>\n",
       "      <th>main_category</th>\n",
       "      <th>primary_category</th>\n",
       "      <th>secondary_category</th>\n",
       "      <th>tertiary_category</th>\n",
       "    </tr>\n",
       "  </thead>\n",
       "  <tbody>\n",
       "    <tr>\n",
       "      <th>0</th>\n",
       "      <td>Alisha Solid Women's Cycling Shorts</td>\n",
       "      <td>999.0</td>\n",
       "      <td>379.0</td>\n",
       "      <td>620.0</td>\n",
       "      <td>Alisha</td>\n",
       "      <td>2016-03-25</td>\n",
       "      <td>2016</td>\n",
       "      <td>3</td>\n",
       "      <td>Clothing</td>\n",
       "      <td>Women's Clothing</td>\n",
       "      <td>Lingerie, Sleep &amp; Swimwear</td>\n",
       "      <td>Shorts</td>\n",
       "    </tr>\n",
       "    <tr>\n",
       "      <th>1</th>\n",
       "      <td>FabHomeDecor Fabric Double Sofa Bed</td>\n",
       "      <td>32157.0</td>\n",
       "      <td>22646.0</td>\n",
       "      <td>9511.0</td>\n",
       "      <td>FabHomeDecor</td>\n",
       "      <td>2016-03-25</td>\n",
       "      <td>2016</td>\n",
       "      <td>3</td>\n",
       "      <td>Furniture</td>\n",
       "      <td>Living Room Furniture</td>\n",
       "      <td>Sofa Beds &amp; Futons</td>\n",
       "      <td>FabHomeDecor Fabric Double Sofa Bed (Finish Co...</td>\n",
       "    </tr>\n",
       "    <tr>\n",
       "      <th>2</th>\n",
       "      <td>AW Bellies</td>\n",
       "      <td>999.0</td>\n",
       "      <td>499.0</td>\n",
       "      <td>500.0</td>\n",
       "      <td>AW</td>\n",
       "      <td>2016-03-25</td>\n",
       "      <td>2016</td>\n",
       "      <td>3</td>\n",
       "      <td>Footwear</td>\n",
       "      <td>Women's Footwear</td>\n",
       "      <td>Ballerinas</td>\n",
       "      <td>AW Bellies\"</td>\n",
       "    </tr>\n",
       "    <tr>\n",
       "      <th>3</th>\n",
       "      <td>Alisha Solid Women's Cycling Shorts</td>\n",
       "      <td>699.0</td>\n",
       "      <td>267.0</td>\n",
       "      <td>432.0</td>\n",
       "      <td>Alisha</td>\n",
       "      <td>2016-03-25</td>\n",
       "      <td>2016</td>\n",
       "      <td>3</td>\n",
       "      <td>Clothing</td>\n",
       "      <td>Women's Clothing</td>\n",
       "      <td>Lingerie, Sleep &amp; Swimwear</td>\n",
       "      <td>Shorts</td>\n",
       "    </tr>\n",
       "    <tr>\n",
       "      <th>4</th>\n",
       "      <td>Sicons All Purpose Arnica Dog Shampoo</td>\n",
       "      <td>220.0</td>\n",
       "      <td>210.0</td>\n",
       "      <td>10.0</td>\n",
       "      <td>Sicons</td>\n",
       "      <td>2016-03-25</td>\n",
       "      <td>2016</td>\n",
       "      <td>3</td>\n",
       "      <td>Pet Supplies</td>\n",
       "      <td>Grooming</td>\n",
       "      <td>Skin &amp; Coat Care</td>\n",
       "      <td>Shampoo</td>\n",
       "    </tr>\n",
       "  </tbody>\n",
       "</table>\n",
       "</div>"
      ],
      "text/plain": [
       "                            product_name  retail_price  selling_price  \\\n",
       "0    Alisha Solid Women's Cycling Shorts         999.0          379.0   \n",
       "1    FabHomeDecor Fabric Double Sofa Bed       32157.0        22646.0   \n",
       "2                             AW Bellies         999.0          499.0   \n",
       "3    Alisha Solid Women's Cycling Shorts         699.0          267.0   \n",
       "4  Sicons All Purpose Arnica Dog Shampoo         220.0          210.0   \n",
       "\n",
       "   discount_amount         brand        date  year  month main_category  \\\n",
       "0            620.0        Alisha  2016-03-25  2016      3      Clothing   \n",
       "1           9511.0  FabHomeDecor  2016-03-25  2016      3     Furniture   \n",
       "2            500.0            AW  2016-03-25  2016      3      Footwear   \n",
       "3            432.0        Alisha  2016-03-25  2016      3      Clothing   \n",
       "4             10.0        Sicons  2016-03-25  2016      3  Pet Supplies   \n",
       "\n",
       "        primary_category          secondary_category  \\\n",
       "0       Women's Clothing  Lingerie, Sleep & Swimwear   \n",
       "1  Living Room Furniture          Sofa Beds & Futons   \n",
       "2       Women's Footwear                  Ballerinas   \n",
       "3       Women's Clothing  Lingerie, Sleep & Swimwear   \n",
       "4               Grooming            Skin & Coat Care   \n",
       "\n",
       "                                   tertiary_category  \n",
       "0                                             Shorts  \n",
       "1  FabHomeDecor Fabric Double Sofa Bed (Finish Co...  \n",
       "2                                        AW Bellies\"  \n",
       "3                                             Shorts  \n",
       "4                                            Shampoo  "
      ]
     },
     "execution_count": 55,
     "metadata": {},
     "output_type": "execute_result"
    }
   ],
   "source": [
    "df.head(5)"
   ]
  },
  {
   "cell_type": "code",
   "execution_count": null,
   "id": "ea3c123f",
   "metadata": {},
   "outputs": [],
   "source": []
  },
  {
   "cell_type": "code",
   "execution_count": 57,
   "id": "09077c0b",
   "metadata": {},
   "outputs": [
    {
     "data": {
      "text/plain": [
       "main_category\n",
       "Watches                       571230.0\n",
       "Furniture                     250500.0\n",
       "Mobiles & Accessories         116292.0\n",
       "Pens & Stationery              71687.0\n",
       "Clothing                       69999.0\n",
       "Jewellery                      49999.0\n",
       "Home Decor & Festive Needs     47620.0\n",
       "Automotive                     44880.0\n",
       "Computers                      38890.0\n",
       "Kitchen & Dining               34168.0\n",
       "Name: retail_price, dtype: float64"
      ]
     },
     "execution_count": 57,
     "metadata": {},
     "output_type": "execute_result"
    }
   ],
   "source": [
    "## which main category has highest retail price\n",
    "df.groupby('main_category').retail_price.max().sort_values(ascending=False)[:10]"
   ]
  },
  {
   "cell_type": "code",
   "execution_count": 64,
   "id": "1f87d8df",
   "metadata": {},
   "outputs": [
    {
     "data": {
      "text/plain": [
       "main_category\n",
       "Furniture                     87675.0\n",
       "Pens & Stationery             26883.0\n",
       "Jewellery                     25419.0\n",
       "Automotive                    22440.0\n",
       "Clothing                      21000.0\n",
       "Home Decor & Festive Needs    20990.0\n",
       "Beauty and Personal Care      19425.0\n",
       "Computers                     11610.0\n",
       "Bags, Wallets & Belts         10109.0\n",
       "Footwear                       9998.0\n",
       "Name: discount_amount, dtype: float64"
      ]
     },
     "execution_count": 64,
     "metadata": {},
     "output_type": "execute_result"
    }
   ],
   "source": [
    "## which category has given maximum discount\n",
    "df.groupby('main_category').discount_amount.max().sort_values(ascending=False)[:10]"
   ]
  },
  {
   "cell_type": "code",
   "execution_count": 62,
   "id": "53310932",
   "metadata": {},
   "outputs": [
    {
     "data": {
      "text/plain": [
       "primary_category\n",
       "Wrist Watches                   571230.0\n",
       "Living Room                     250500.0\n",
       "Mobile Accessories              116292.0\n",
       "Office Equipments                71687.0\n",
       "Men's Clothing                   69999.0\n",
       "Bangles, Bracelets & Armlets     49999.0\n",
       "Rings\"                           49999.0\n",
       "Table Decor & Handicrafts        47620.0\n",
       "Wall Decor & Clocks              46500.0\n",
       "Bedroom Furniture                45864.0\n",
       "Name: retail_price, dtype: float64"
      ]
     },
     "execution_count": 62,
     "metadata": {},
     "output_type": "execute_result"
    }
   ],
   "source": [
    "## which primary category has maximum retail price\n",
    "df.groupby('primary_category').retail_price.max().sort_values(ascending=False)[:10]"
   ]
  },
  {
   "cell_type": "code",
   "execution_count": 63,
   "id": "8178ca32",
   "metadata": {},
   "outputs": [
    {
     "data": {
      "text/plain": [
       "primary_category\n",
       "Living Room                     87675.0\n",
       "Office Equipments               26883.0\n",
       "Bangles, Bracelets & Armlets    25419.0\n",
       "Accessories & Spare parts       22440.0\n",
       "Men's Clothing                  21000.0\n",
       "Wall Decor & Clocks             20990.0\n",
       "Makeup                          19425.0\n",
       "Rings\"                          17779.0\n",
       "Bedroom Furniture               15000.0\n",
       "Women's Clothing                14997.0\n",
       "Name: discount_amount, dtype: float64"
      ]
     },
     "execution_count": 63,
     "metadata": {},
     "output_type": "execute_result"
    }
   ],
   "source": [
    "## which primary category gave maximum discount\n",
    "df.groupby('primary_category').discount_amount.max().sort_values(ascending=False)[:10]"
   ]
  },
  {
   "cell_type": "code",
   "execution_count": 67,
   "id": "fe6e9eaf",
   "metadata": {},
   "outputs": [
    {
     "data": {
      "text/plain": [
       "secondary_category\n",
       "Breitling Wrist Watches\"    571230.0\n",
       "Sofas & Sectionals\"         250500.0\n",
       "Cartier Wrist Watches\"      201000.0\n",
       "Headphones                  116292.0\n",
       "TAG Heuer Wrist Watches\"    107750.0\n",
       "Biometric Devices            71687.0\n",
       "Winter & Seasonal Wear       69999.0\n",
       "None                         49999.0\n",
       "Bracelets\"                   49999.0\n",
       "Showpieces                   47620.0\n",
       "Name: retail_price, dtype: float64"
      ]
     },
     "execution_count": 67,
     "metadata": {},
     "output_type": "execute_result"
    }
   ],
   "source": [
    "## which secondary category has maximum retail price\n",
    "df.groupby('secondary_category').retail_price.max().sort_values(ascending=False)[:10]"
   ]
  },
  {
   "cell_type": "code",
   "execution_count": 65,
   "id": "cc8915ad",
   "metadata": {},
   "outputs": [
    {
     "data": {
      "text/plain": [
       "secondary_category\n",
       "Sofas & Sectionals\"       87675.0\n",
       "Biometric Devices         26883.0\n",
       "Bracelets\"                25419.0\n",
       "Car & Bike Care           22440.0\n",
       "Winter & Seasonal Wear    21000.0\n",
       "Paintings                 20990.0\n",
       "Vanity Boxes              19425.0\n",
       "None                      17779.0\n",
       "Beds                      15000.0\n",
       "Ethnic Wear               14997.0\n",
       "Name: discount_amount, dtype: float64"
      ]
     },
     "execution_count": 65,
     "metadata": {},
     "output_type": "execute_result"
    }
   ],
   "source": [
    "## which secondary category gave maximum discount\n",
    "df.groupby('secondary_category').discount_amount.max().sort_values(ascending=False)[:10]"
   ]
  },
  {
   "cell_type": "code",
   "execution_count": 68,
   "id": "eba686d7",
   "metadata": {},
   "outputs": [
    {
     "data": {
      "text/plain": [
       "tertiary_category\n",
       "None                                                    571230.0\n",
       "Audeze Headphones                                       116292.0\n",
       "NITGEN Biometric Devices                                 71687.0\n",
       "Jackets                                                  69999.0\n",
       "Religious Idols                                          47620.0\n",
       "GAGA Paintings                                           46500.0\n",
       "Springwel Single Spring Mattress (1981.199999999...\"     45864.0\n",
       "Car & Bike Covers                                        44880.0\n",
       "Ethnic Handicrafts Solid Wood Queen Bed (Finish ...\"     39999.0\n",
       "Lehenga Cholis                                           39992.0\n",
       "Name: retail_price, dtype: float64"
      ]
     },
     "execution_count": 68,
     "metadata": {},
     "output_type": "execute_result"
    }
   ],
   "source": [
    "## which tertiary category has maximum retail price\n",
    "df.groupby('tertiary_category').retail_price.max().sort_values(ascending=False)[:10]"
   ]
  },
  {
   "cell_type": "code",
   "execution_count": 66,
   "id": "9b3b57ea",
   "metadata": {},
   "outputs": [
    {
     "data": {
      "text/plain": [
       "tertiary_category\n",
       "None                                                    87675.0\n",
       "NITGEN Biometric Devices                                26883.0\n",
       "Car & Bike Covers                                       22440.0\n",
       "Jackets                                                 21000.0\n",
       "GAGA Paintings                                          20990.0\n",
       "Soulful Threads Vanity Boxes                            19425.0\n",
       "Ethnic Handicrafts Solid Wood Queen Bed (Finish ...\"    15000.0\n",
       "Lehenga Cholis                                          14997.0\n",
       "Ethnic Handicrafts Solid Wood Single Bed (Finish...\"    12000.0\n",
       "Fabric                                                  11955.0\n",
       "Name: discount_amount, dtype: float64"
      ]
     },
     "execution_count": 66,
     "metadata": {},
     "output_type": "execute_result"
    }
   ],
   "source": [
    "## which tertiary category gave maximum discount\n",
    "df.groupby('tertiary_category').discount_amount.max().sort_values(ascending=False)[:10]"
   ]
  },
  {
   "cell_type": "code",
   "execution_count": null,
   "id": "8d8635ac",
   "metadata": {},
   "outputs": [],
   "source": []
  },
  {
   "cell_type": "code",
   "execution_count": null,
   "id": "e8243033",
   "metadata": {},
   "outputs": [],
   "source": []
  },
  {
   "cell_type": "code",
   "execution_count": 70,
   "id": "8d70228b",
   "metadata": {},
   "outputs": [
    {
     "data": {
      "text/plain": [
       "brand\n",
       "Karatcraft         5632898.0\n",
       "Radiant Bay        3601945.0\n",
       "BlueStone          2796709.0\n",
       "Durian             1480125.0\n",
       "ARRA                973097.0\n",
       "Rakam               774110.0\n",
       "Jewels5             713743.0\n",
       "Fullcutdiamond      675287.0\n",
       "Allure Auto         663819.0\n",
       "Shashvat Jewels     544387.0\n",
       "Name: selling_price, dtype: float64"
      ]
     },
     "execution_count": 70,
     "metadata": {},
     "output_type": "execute_result"
    }
   ],
   "source": [
    "## which brand has more sells \n",
    "df.groupby('brand').selling_price.sum().sort_values(ascending=False)[:10]"
   ]
  },
  {
   "cell_type": "code",
   "execution_count": 73,
   "id": "a248c07f",
   "metadata": {},
   "outputs": [
    {
     "data": {
      "image/png": "[encoded data removed]",
      "text/plain": [
       "<Figure size 432x288 with 1 Axes>"
      ]
     },
     "metadata": {
      "needs_background": "light"
     },
     "output_type": "display_data"
    }
   ],
   "source": [
    "sns.barplot(y='brand', x='selling_price', data=df,\n",
    "            order=df.groupby('brand').selling_price.sum().sort_values(ascending=False)[:10].index);"
   ]
  },
  {
   "cell_type": "code",
   "execution_count": null,
   "id": "7a56d975",
   "metadata": {},
   "outputs": [],
   "source": []
  },
  {
   "cell_type": "code",
   "execution_count": 74,
   "id": "62b1c466",
   "metadata": {},
   "outputs": [
    {
     "data": {
      "text/plain": [
       "product_name\n",
       "Breitling AB011010/BB08 131S Chronomat 44 Analog Watch  - For Boys, Men     571230.0\n",
       "Cartier W6701005 Analog Watch  - For Boys, Men                              201000.0\n",
       "Durian Leather 2 Seater Sofa                                                162825.0\n",
       "Durian Laze/3 Leather 3 Seater Sofa                                         141375.0\n",
       "Audeze Lcd2 In Bamboo, High Quality Planar Magnetic Headphone Headphones    116292.0\n",
       "TAG Heuer CAU1116.BA0858 Formula 1 Analog Watch  - For Boys, Men            107750.0\n",
       "Durian Club/3 Leather 3 Seater Sofa                                         105300.0\n",
       "ARRA Solid Wood 7 Seater Sofa                                                86500.0\n",
       "Durian Helena Fabric 3 Seater Sofa                                           70785.0\n",
       "Durian Dream/2 Leather 2 Seater Sofa                                         70200.0\n",
       "Name: selling_price, dtype: float64"
      ]
     },
     "execution_count": 74,
     "metadata": {},
     "output_type": "execute_result"
    }
   ],
   "source": [
    "## which product has maximum selling price\n",
    "df.groupby('product_name').selling_price.max().sort_values(ascending=False)[:10]"
   ]
  },
  {
   "cell_type": "code",
   "execution_count": 77,
   "id": "8ba03088",
   "metadata": {},
   "outputs": [
    {
     "data": {
      "image/png": "[encoded data removed]",
      "text/plain": [
       "<Figure size 432x288 with 1 Axes>"
      ]
     },
     "metadata": {
      "needs_background": "light"
     },
     "output_type": "display_data"
    }
   ],
   "source": [
    "sns.barplot(y='product_name', x='selling_price', data=df,\n",
    "            order=df.groupby('product_name').selling_price.max().sort_values(ascending=False)[:10].index);"
   ]
  },
  {
   "cell_type": "code",
   "execution_count": null,
   "id": "b03c21a5",
   "metadata": {},
   "outputs": [],
   "source": []
  },
  {
   "cell_type": "code",
   "execution_count": 79,
   "id": "314b724b",
   "metadata": {},
   "outputs": [
    {
     "data": {
      "text/plain": [
       "product_name\n",
       "Geol Wooden Wet and Dry Broom                           35.0\n",
       "Havells Havells - Oro 32 One Way Electrical Switch      36.0\n",
       "Smartcraft Generic Netted Art Cloth Pencil Box          41.0\n",
       "Sam Rolling Pizza Cutter                                45.0\n",
       "Khanna Jupiter Board & Art Paper Box File               47.0\n",
       "Smartcraft Angry Birds Cartoons Art Metal Pencil Box    48.0\n",
       "Smartcraft Generic Pendant Art Cloth Pencil Box         48.0\n",
       "Maped Twist and Flex Transparent Rubber Rulers          49.0\n",
       "Dhiyaa Traders Manchester united Key Chain              54.0\n",
       "Dhiyaa Traders Mario Key Chain                          54.0\n",
       "Name: selling_price, dtype: float64"
      ]
     },
     "execution_count": 79,
     "metadata": {},
     "output_type": "execute_result"
    }
   ],
   "source": [
    "## which product has min selling price\n",
    "df.groupby('product_name').selling_price.min().sort_values()[:10]"
   ]
  },
  {
   "cell_type": "code",
   "execution_count": 81,
   "id": "b8c46339",
   "metadata": {},
   "outputs": [
    {
     "data": {
      "image/png": "[encoded data removed]",
      "text/plain": [
       "<Figure size 432x288 with 1 Axes>"
      ]
     },
     "metadata": {
      "needs_background": "light"
     },
     "output_type": "display_data"
    }
   ],
   "source": [
    "sns.barplot(y='product_name', x='selling_price', data=df,\n",
    "            order=df.groupby('product_name').selling_price.min().sort_values()[:10].index);"
   ]
  },
  {
   "cell_type": "code",
   "execution_count": null,
   "id": "12e0f8b7",
   "metadata": {},
   "outputs": [],
   "source": []
  },
  {
   "cell_type": "code",
   "execution_count": null,
   "id": "c0ed14b7",
   "metadata": {},
   "outputs": [],
   "source": []
  },
  {
   "cell_type": "code",
   "execution_count": 82,
   "id": "b7ece83d",
   "metadata": {},
   "outputs": [
    {
     "data": {
      "text/html": [
       "<div>\n",
       "<style scoped>\n",
       "    .dataframe tbody tr th:only-of-type {\n",
       "        vertical-align: middle;\n",
       "    }\n",
       "\n",
       "    .dataframe tbody tr th {\n",
       "        vertical-align: top;\n",
       "    }\n",
       "\n",
       "    .dataframe thead th {\n",
       "        text-align: right;\n",
       "    }\n",
       "</style>\n",
       "<table border=\"1\" class=\"dataframe\">\n",
       "  <thead>\n",
       "    <tr style=\"text-align: right;\">\n",
       "      <th></th>\n",
       "      <th>product_name</th>\n",
       "      <th>retail_price</th>\n",
       "      <th>selling_price</th>\n",
       "      <th>discount_amount</th>\n",
       "      <th>brand</th>\n",
       "      <th>date</th>\n",
       "      <th>year</th>\n",
       "      <th>month</th>\n",
       "      <th>main_category</th>\n",
       "      <th>primary_category</th>\n",
       "      <th>secondary_category</th>\n",
       "      <th>tertiary_category</th>\n",
       "    </tr>\n",
       "  </thead>\n",
       "  <tbody>\n",
       "    <tr>\n",
       "      <th>0</th>\n",
       "      <td>Alisha Solid Women's Cycling Shorts</td>\n",
       "      <td>999.0</td>\n",
       "      <td>379.0</td>\n",
       "      <td>620.0</td>\n",
       "      <td>Alisha</td>\n",
       "      <td>2016-03-25</td>\n",
       "      <td>2016</td>\n",
       "      <td>3</td>\n",
       "      <td>Clothing</td>\n",
       "      <td>Women's Clothing</td>\n",
       "      <td>Lingerie, Sleep &amp; Swimwear</td>\n",
       "      <td>Shorts</td>\n",
       "    </tr>\n",
       "    <tr>\n",
       "      <th>1</th>\n",
       "      <td>FabHomeDecor Fabric Double Sofa Bed</td>\n",
       "      <td>32157.0</td>\n",
       "      <td>22646.0</td>\n",
       "      <td>9511.0</td>\n",
       "      <td>FabHomeDecor</td>\n",
       "      <td>2016-03-25</td>\n",
       "      <td>2016</td>\n",
       "      <td>3</td>\n",
       "      <td>Furniture</td>\n",
       "      <td>Living Room Furniture</td>\n",
       "      <td>Sofa Beds &amp; Futons</td>\n",
       "      <td>FabHomeDecor Fabric Double Sofa Bed (Finish Co...</td>\n",
       "    </tr>\n",
       "  </tbody>\n",
       "</table>\n",
       "</div>"
      ],
      "text/plain": [
       "                          product_name  retail_price  selling_price  \\\n",
       "0  Alisha Solid Women's Cycling Shorts         999.0          379.0   \n",
       "1  FabHomeDecor Fabric Double Sofa Bed       32157.0        22646.0   \n",
       "\n",
       "   discount_amount         brand        date  year  month main_category  \\\n",
       "0            620.0        Alisha  2016-03-25  2016      3      Clothing   \n",
       "1           9511.0  FabHomeDecor  2016-03-25  2016      3     Furniture   \n",
       "\n",
       "        primary_category          secondary_category  \\\n",
       "0       Women's Clothing  Lingerie, Sleep & Swimwear   \n",
       "1  Living Room Furniture          Sofa Beds & Futons   \n",
       "\n",
       "                                   tertiary_category  \n",
       "0                                             Shorts  \n",
       "1  FabHomeDecor Fabric Double Sofa Bed (Finish Co...  "
      ]
     },
     "execution_count": 82,
     "metadata": {},
     "output_type": "execute_result"
    }
   ],
   "source": [
    "df.head(2)"
   ]
  },
  {
   "cell_type": "code",
   "execution_count": 84,
   "id": "3e12a9db",
   "metadata": {},
   "outputs": [],
   "source": [
    "## adding discount percentage column\n",
    "df.insert(4, 'discount_percentage', (df['discount_amount']/df['retail_price'])*100)"
   ]
  },
  {
   "cell_type": "code",
   "execution_count": 85,
   "id": "f6cebe44",
   "metadata": {},
   "outputs": [
    {
     "data": {
      "text/html": [
       "<div>\n",
       "<style scoped>\n",
       "    .dataframe tbody tr th:only-of-type {\n",
       "        vertical-align: middle;\n",
       "    }\n",
       "\n",
       "    .dataframe tbody tr th {\n",
       "        vertical-align: top;\n",
       "    }\n",
       "\n",
       "    .dataframe thead th {\n",
       "        text-align: right;\n",
       "    }\n",
       "</style>\n",
       "<table border=\"1\" class=\"dataframe\">\n",
       "  <thead>\n",
       "    <tr style=\"text-align: right;\">\n",
       "      <th></th>\n",
       "      <th>product_name</th>\n",
       "      <th>retail_price</th>\n",
       "      <th>selling_price</th>\n",
       "      <th>discount_amount</th>\n",
       "      <th>discount_percentage</th>\n",
       "      <th>brand</th>\n",
       "      <th>date</th>\n",
       "      <th>year</th>\n",
       "      <th>month</th>\n",
       "      <th>main_category</th>\n",
       "      <th>primary_category</th>\n",
       "      <th>secondary_category</th>\n",
       "      <th>tertiary_category</th>\n",
       "    </tr>\n",
       "  </thead>\n",
       "  <tbody>\n",
       "    <tr>\n",
       "      <th>0</th>\n",
       "      <td>Alisha Solid Women's Cycling Shorts</td>\n",
       "      <td>999.0</td>\n",
       "      <td>379.0</td>\n",
       "      <td>620.0</td>\n",
       "      <td>62.062062</td>\n",
       "      <td>Alisha</td>\n",
       "      <td>2016-03-25</td>\n",
       "      <td>2016</td>\n",
       "      <td>3</td>\n",
       "      <td>Clothing</td>\n",
       "      <td>Women's Clothing</td>\n",
       "      <td>Lingerie, Sleep &amp; Swimwear</td>\n",
       "      <td>Shorts</td>\n",
       "    </tr>\n",
       "    <tr>\n",
       "      <th>1</th>\n",
       "      <td>FabHomeDecor Fabric Double Sofa Bed</td>\n",
       "      <td>32157.0</td>\n",
       "      <td>22646.0</td>\n",
       "      <td>9511.0</td>\n",
       "      <td>29.576764</td>\n",
       "      <td>FabHomeDecor</td>\n",
       "      <td>2016-03-25</td>\n",
       "      <td>2016</td>\n",
       "      <td>3</td>\n",
       "      <td>Furniture</td>\n",
       "      <td>Living Room Furniture</td>\n",
       "      <td>Sofa Beds &amp; Futons</td>\n",
       "      <td>FabHomeDecor Fabric Double Sofa Bed (Finish Co...</td>\n",
       "    </tr>\n",
       "    <tr>\n",
       "      <th>2</th>\n",
       "      <td>AW Bellies</td>\n",
       "      <td>999.0</td>\n",
       "      <td>499.0</td>\n",
       "      <td>500.0</td>\n",
       "      <td>50.050050</td>\n",
       "      <td>AW</td>\n",
       "      <td>2016-03-25</td>\n",
       "      <td>2016</td>\n",
       "      <td>3</td>\n",
       "      <td>Footwear</td>\n",
       "      <td>Women's Footwear</td>\n",
       "      <td>Ballerinas</td>\n",
       "      <td>AW Bellies\"</td>\n",
       "    </tr>\n",
       "    <tr>\n",
       "      <th>3</th>\n",
       "      <td>Alisha Solid Women's Cycling Shorts</td>\n",
       "      <td>699.0</td>\n",
       "      <td>267.0</td>\n",
       "      <td>432.0</td>\n",
       "      <td>61.802575</td>\n",
       "      <td>Alisha</td>\n",
       "      <td>2016-03-25</td>\n",
       "      <td>2016</td>\n",
       "      <td>3</td>\n",
       "      <td>Clothing</td>\n",
       "      <td>Women's Clothing</td>\n",
       "      <td>Lingerie, Sleep &amp; Swimwear</td>\n",
       "      <td>Shorts</td>\n",
       "    </tr>\n",
       "    <tr>\n",
       "      <th>4</th>\n",
       "      <td>Sicons All Purpose Arnica Dog Shampoo</td>\n",
       "      <td>220.0</td>\n",
       "      <td>210.0</td>\n",
       "      <td>10.0</td>\n",
       "      <td>4.545455</td>\n",
       "      <td>Sicons</td>\n",
       "      <td>2016-03-25</td>\n",
       "      <td>2016</td>\n",
       "      <td>3</td>\n",
       "      <td>Pet Supplies</td>\n",
       "      <td>Grooming</td>\n",
       "      <td>Skin &amp; Coat Care</td>\n",
       "      <td>Shampoo</td>\n",
       "    </tr>\n",
       "    <tr>\n",
       "      <th>...</th>\n",
       "      <td>...</td>\n",
       "      <td>...</td>\n",
       "      <td>...</td>\n",
       "      <td>...</td>\n",
       "      <td>...</td>\n",
       "      <td>...</td>\n",
       "      <td>...</td>\n",
       "      <td>...</td>\n",
       "      <td>...</td>\n",
       "      <td>...</td>\n",
       "      <td>...</td>\n",
       "      <td>...</td>\n",
       "      <td>...</td>\n",
       "    </tr>\n",
       "    <tr>\n",
       "      <th>19995</th>\n",
       "      <td>WallDesign Small Vinyl Sticker</td>\n",
       "      <td>1500.0</td>\n",
       "      <td>730.0</td>\n",
       "      <td>770.0</td>\n",
       "      <td>51.333333</td>\n",
       "      <td>WallDesign</td>\n",
       "      <td>2015-12-01</td>\n",
       "      <td>2015</td>\n",
       "      <td>12</td>\n",
       "      <td>Baby Care</td>\n",
       "      <td>Baby &amp; Kids Gifts</td>\n",
       "      <td>Stickers</td>\n",
       "      <td>WallDesign Stickers\"</td>\n",
       "    </tr>\n",
       "    <tr>\n",
       "      <th>19996</th>\n",
       "      <td>Wallmantra Large Vinyl Stickers Sticker</td>\n",
       "      <td>1429.0</td>\n",
       "      <td>1143.0</td>\n",
       "      <td>286.0</td>\n",
       "      <td>20.013996</td>\n",
       "      <td>Wallmantra</td>\n",
       "      <td>2015-12-01</td>\n",
       "      <td>2015</td>\n",
       "      <td>12</td>\n",
       "      <td>Baby Care</td>\n",
       "      <td>Baby &amp; Kids Gifts</td>\n",
       "      <td>Stickers</td>\n",
       "      <td>Wallmantra Stickers\"</td>\n",
       "    </tr>\n",
       "    <tr>\n",
       "      <th>19997</th>\n",
       "      <td>Elite Collection Medium Acrylic Sticker</td>\n",
       "      <td>1299.0</td>\n",
       "      <td>999.0</td>\n",
       "      <td>300.0</td>\n",
       "      <td>23.094688</td>\n",
       "      <td>Elite Collection</td>\n",
       "      <td>2015-12-01</td>\n",
       "      <td>2015</td>\n",
       "      <td>12</td>\n",
       "      <td>Baby Care</td>\n",
       "      <td>Baby &amp; Kids Gifts</td>\n",
       "      <td>Stickers</td>\n",
       "      <td>Elite Collection Stickers\"</td>\n",
       "    </tr>\n",
       "    <tr>\n",
       "      <th>19998</th>\n",
       "      <td>Elite Collection Medium Acrylic Sticker</td>\n",
       "      <td>1499.0</td>\n",
       "      <td>1199.0</td>\n",
       "      <td>300.0</td>\n",
       "      <td>20.013342</td>\n",
       "      <td>Elite Collection</td>\n",
       "      <td>2015-12-01</td>\n",
       "      <td>2015</td>\n",
       "      <td>12</td>\n",
       "      <td>Baby Care</td>\n",
       "      <td>Baby &amp; Kids Gifts</td>\n",
       "      <td>Stickers</td>\n",
       "      <td>Elite Collection Stickers\"</td>\n",
       "    </tr>\n",
       "    <tr>\n",
       "      <th>19999</th>\n",
       "      <td>Elite Collection Medium Acrylic Sticker</td>\n",
       "      <td>1499.0</td>\n",
       "      <td>999.0</td>\n",
       "      <td>500.0</td>\n",
       "      <td>33.355570</td>\n",
       "      <td>Elite Collection</td>\n",
       "      <td>2015-12-01</td>\n",
       "      <td>2015</td>\n",
       "      <td>12</td>\n",
       "      <td>Baby Care</td>\n",
       "      <td>Baby &amp; Kids Gifts</td>\n",
       "      <td>Stickers</td>\n",
       "      <td>Elite Collection Stickers\"</td>\n",
       "    </tr>\n",
       "  </tbody>\n",
       "</table>\n",
       "<p>20000 rows × 13 columns</p>\n",
       "</div>"
      ],
      "text/plain": [
       "                                  product_name  retail_price  selling_price  \\\n",
       "0          Alisha Solid Women's Cycling Shorts         999.0          379.0   \n",
       "1          FabHomeDecor Fabric Double Sofa Bed       32157.0        22646.0   \n",
       "2                                   AW Bellies         999.0          499.0   \n",
       "3          Alisha Solid Women's Cycling Shorts         699.0          267.0   \n",
       "4        Sicons All Purpose Arnica Dog Shampoo         220.0          210.0   \n",
       "...                                        ...           ...            ...   \n",
       "19995           WallDesign Small Vinyl Sticker        1500.0          730.0   \n",
       "19996  Wallmantra Large Vinyl Stickers Sticker        1429.0         1143.0   \n",
       "19997  Elite Collection Medium Acrylic Sticker        1299.0          999.0   \n",
       "19998  Elite Collection Medium Acrylic Sticker        1499.0         1199.0   \n",
       "19999  Elite Collection Medium Acrylic Sticker        1499.0          999.0   \n",
       "\n",
       "       discount_amount  discount_percentage             brand        date  \\\n",
       "0                620.0            62.062062            Alisha  2016-03-25   \n",
       "1               9511.0            29.576764      FabHomeDecor  2016-03-25   \n",
       "2                500.0            50.050050                AW  2016-03-25   \n",
       "3                432.0            61.802575            Alisha  2016-03-25   \n",
       "4                 10.0             4.545455            Sicons  2016-03-25   \n",
       "...                ...                  ...               ...         ...   \n",
       "19995            770.0            51.333333        WallDesign  2015-12-01   \n",
       "19996            286.0            20.013996        Wallmantra  2015-12-01   \n",
       "19997            300.0            23.094688  Elite Collection  2015-12-01   \n",
       "19998            300.0            20.013342  Elite Collection  2015-12-01   \n",
       "19999            500.0            33.355570  Elite Collection  2015-12-01   \n",
       "\n",
       "       year  month main_category       primary_category  \\\n",
       "0      2016      3      Clothing       Women's Clothing   \n",
       "1      2016      3     Furniture  Living Room Furniture   \n",
       "2      2016      3      Footwear       Women's Footwear   \n",
       "3      2016      3      Clothing       Women's Clothing   \n",
       "4      2016      3  Pet Supplies               Grooming   \n",
       "...     ...    ...           ...                    ...   \n",
       "19995  2015     12     Baby Care      Baby & Kids Gifts   \n",
       "19996  2015     12     Baby Care      Baby & Kids Gifts   \n",
       "19997  2015     12     Baby Care      Baby & Kids Gifts   \n",
       "19998  2015     12     Baby Care      Baby & Kids Gifts   \n",
       "19999  2015     12     Baby Care      Baby & Kids Gifts   \n",
       "\n",
       "               secondary_category  \\\n",
       "0      Lingerie, Sleep & Swimwear   \n",
       "1              Sofa Beds & Futons   \n",
       "2                      Ballerinas   \n",
       "3      Lingerie, Sleep & Swimwear   \n",
       "4                Skin & Coat Care   \n",
       "...                           ...   \n",
       "19995                    Stickers   \n",
       "19996                    Stickers   \n",
       "19997                    Stickers   \n",
       "19998                    Stickers   \n",
       "19999                    Stickers   \n",
       "\n",
       "                                       tertiary_category  \n",
       "0                                                 Shorts  \n",
       "1      FabHomeDecor Fabric Double Sofa Bed (Finish Co...  \n",
       "2                                            AW Bellies\"  \n",
       "3                                                 Shorts  \n",
       "4                                                Shampoo  \n",
       "...                                                  ...  \n",
       "19995                               WallDesign Stickers\"  \n",
       "19996                               Wallmantra Stickers\"  \n",
       "19997                         Elite Collection Stickers\"  \n",
       "19998                         Elite Collection Stickers\"  \n",
       "19999                         Elite Collection Stickers\"  \n",
       "\n",
       "[20000 rows x 13 columns]"
      ]
     },
     "execution_count": 85,
     "metadata": {},
     "output_type": "execute_result"
    }
   ],
   "source": [
    "df"
   ]
  },
  {
   "cell_type": "code",
   "execution_count": null,
   "id": "42f496c8",
   "metadata": {},
   "outputs": [],
   "source": []
  },
  {
   "cell_type": "code",
   "execution_count": null,
   "id": "aa9fa3a6",
   "metadata": {},
   "outputs": [],
   "source": []
  },
  {
   "cell_type": "code",
   "execution_count": 87,
   "id": "6dd418c1",
   "metadata": {},
   "outputs": [
    {
     "data": {
      "text/plain": [
       "product_name\n",
       "Rajcrafts Floral Double Quilts & Comforters White                 96.533333\n",
       "FashBlush Forever New Orange Bead & Chain Alloy Necklace          95.273818\n",
       "FashBlush Forever Beautiful White Bead Alloy Necklace             94.598457\n",
       "Bling Book Case for iPad 2 / 3                                    94.548458\n",
       "FashBlush Forever New BlackBead & LongChain Alloy Necklace        94.418884\n",
       "Fashblush Alloy Choker                                            93.576350\n",
       "FashBlush Forever New BlackBead Alloy Necklace                    93.364455\n",
       "Fash Blush Forever New Gold & White Pearl Chunk Alloy Necklace    93.364455\n",
       "Mydress Mystyle Bulb Led USB Led Light                            92.492492\n",
       "Fash Blush Forever New Red & Gold Tribal Thread Alloy Necklace    92.076831\n",
       "Name: discount_percentage, dtype: float64"
      ]
     },
     "execution_count": 87,
     "metadata": {},
     "output_type": "execute_result"
    }
   ],
   "source": [
    "## which product giving maximumm discount\n",
    "df.groupby('product_name').discount_percentage.max().sort_values(ascending=False)[:10]"
   ]
  },
  {
   "cell_type": "code",
   "execution_count": 88,
   "id": "f2d1c39b",
   "metadata": {},
   "outputs": [
    {
     "data": {
      "image/png": "[encoded data removed]",
      "text/plain": [
       "<Figure size 432x288 with 1 Axes>"
      ]
     },
     "metadata": {
      "needs_background": "light"
     },
     "output_type": "display_data"
    }
   ],
   "source": [
    "sns.barplot(x='discount_percentage', y='product_name', data=df,\n",
    "            order=df.groupby('product_name').discount_percentage.max().sort_values(ascending=False)[:10].index);"
   ]
  },
  {
   "cell_type": "code",
   "execution_count": null,
   "id": "784e8f69",
   "metadata": {},
   "outputs": [],
   "source": []
  },
  {
   "cell_type": "code",
   "execution_count": 89,
   "id": "681b07db",
   "metadata": {},
   "outputs": [
    {
     "data": {
      "text/plain": [
       "product_name\n",
       "Jazma E11A835LA Casual Analog Watch  - For Men                        0.0\n",
       "Maxima 20141CMGI Attivo Analog Watch  - For Men                       0.0\n",
       "Riva Carpets Cotton Free Bath Mat Classic Loop Shag Bathmat_RI-527    0.0\n",
       "Riva Carpets Cotton Free Bath Mat Classic Shag Bathmat-RI-04          0.0\n",
       "Maxima 20020LMGI Attivo Analog Watch  - For Men                       0.0\n",
       "Bajaj Majesty Grill Ultra Open Grill                                  0.0\n",
       "Maxima 19883BMLI Swarovski Analog Watch  - For Women                  0.0\n",
       "Fab Nisa Self Design Women's Straight Kurta                           0.0\n",
       "Fab Nisa Solid Women's Straight Kurta                                 0.0\n",
       "Baggit Pouch Potli                                                    0.0\n",
       "Name: discount_percentage, dtype: float64"
      ]
     },
     "execution_count": 89,
     "metadata": {},
     "output_type": "execute_result"
    }
   ],
   "source": [
    "## which product giving minimum dicount percentage\n",
    "df.groupby('product_name').discount_percentage.min().sort_values(ascending=True)[:10]"
   ]
  },
  {
   "cell_type": "code",
   "execution_count": null,
   "id": "e97c1dc4",
   "metadata": {},
   "outputs": [],
   "source": []
  }
 ],
 "metadata": {
  "kernelspec": {
   "display_name": "Python 3 (ipykernel)",
   "language": "python",
   "name": "python3"
  },
  "language_info": {
   "codemirror_mode": {
    "name": "ipython",
    "version": 3
   },
   "file_extension": ".py",
   "mimetype": "text/x-python",
   "name": "python",
   "nbconvert_exporter": "python",
   "pygments_lexer": "ipython3",
   "version": "3.9.7"
  }
 },
 "nbformat": 4,
 "nbformat_minor": 5
}
