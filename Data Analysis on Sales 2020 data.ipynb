{
 "cells": [
  {
   "cell_type": "code",
   "execution_count": 1,
   "id": "bfc192b7",
   "metadata": {},
   "outputs": [],
   "source": [
    "import pandas as pd\n",
    "import numpy as np\n",
    "import datetime as dt\n",
    "import matplotlib\n",
    "import matplotlib.pyplot as plt\n",
    "import seaborn as sns"
   ]
  },
  {
   "cell_type": "code",
   "execution_count": 2,
   "id": "0f96302c",
   "metadata": {},
   "outputs": [],
   "source": [
    "sales=pd.read_csv('D:\\\\PGP IN DATA SCIENCE with Careerera\\\\Files\\\\sales_06_FY2020-21.csv', low_memory=False)"
   ]
  },
  {
   "cell_type": "code",
   "execution_count": 3,
   "id": "e20b44ba",
   "metadata": {},
   "outputs": [],
   "source": [
    "sales_df=pd.read_csv('D:\\\\PGP IN DATA SCIENCE with Careerera\\\\Files\\\\sales_06_FY2020-21.csv', low_memory=False)"
   ]
  },
  {
   "cell_type": "code",
   "execution_count": 4,
   "id": "a3d3a969",
   "metadata": {},
   "outputs": [],
   "source": [
    "pd.options.display.max_columns=40"
   ]
  },
  {
   "cell_type": "code",
   "execution_count": 5,
   "id": "f82a03de",
   "metadata": {
    "scrolled": true
   },
   "outputs": [
    {
     "data": {
      "text/html": [
       "<div>\n",
       "<style scoped>\n",
       "    .dataframe tbody tr th:only-of-type {\n",
       "        vertical-align: middle;\n",
       "    }\n",
       "\n",
       "    .dataframe tbody tr th {\n",
       "        vertical-align: top;\n",
       "    }\n",
       "\n",
       "    .dataframe thead th {\n",
       "        text-align: right;\n",
       "    }\n",
       "</style>\n",
       "<table border=\"1\" class=\"dataframe\">\n",
       "  <thead>\n",
       "    <tr style=\"text-align: right;\">\n",
       "      <th></th>\n",
       "      <th>order_id</th>\n",
       "      <th>order_date</th>\n",
       "      <th>status</th>\n",
       "      <th>item_id</th>\n",
       "      <th>sku</th>\n",
       "      <th>qty_ordered</th>\n",
       "      <th>price</th>\n",
       "      <th>value</th>\n",
       "      <th>discount_amount</th>\n",
       "      <th>total</th>\n",
       "      <th>category</th>\n",
       "      <th>payment_method</th>\n",
       "      <th>bi_st</th>\n",
       "      <th>cust_id</th>\n",
       "      <th>year</th>\n",
       "      <th>month</th>\n",
       "      <th>ref_num</th>\n",
       "      <th>Name Prefix</th>\n",
       "      <th>First Name</th>\n",
       "      <th>Middle Initial</th>\n",
       "      <th>Last Name</th>\n",
       "      <th>Gender</th>\n",
       "      <th>age</th>\n",
       "      <th>full_name</th>\n",
       "      <th>E Mail</th>\n",
       "      <th>Customer Since</th>\n",
       "      <th>SSN</th>\n",
       "      <th>Phone No.</th>\n",
       "      <th>Place Name</th>\n",
       "      <th>County</th>\n",
       "      <th>City</th>\n",
       "      <th>State</th>\n",
       "      <th>Zip</th>\n",
       "      <th>Region</th>\n",
       "      <th>User Name</th>\n",
       "      <th>Discount_Percent</th>\n",
       "    </tr>\n",
       "  </thead>\n",
       "  <tbody>\n",
       "    <tr>\n",
       "      <th>0</th>\n",
       "      <td>100354678</td>\n",
       "      <td>2020-10-01</td>\n",
       "      <td>received</td>\n",
       "      <td>574772.0</td>\n",
       "      <td>oasis_Oasis-064-36</td>\n",
       "      <td>21.0</td>\n",
       "      <td>89.9</td>\n",
       "      <td>1798.0</td>\n",
       "      <td>0.0</td>\n",
       "      <td>1798.0</td>\n",
       "      <td>Men's Fashion</td>\n",
       "      <td>cod</td>\n",
       "      <td>Valid</td>\n",
       "      <td>60124.0</td>\n",
       "      <td>2020</td>\n",
       "      <td>Oct-2020</td>\n",
       "      <td>987867</td>\n",
       "      <td>Drs.</td>\n",
       "      <td>Jani</td>\n",
       "      <td>W</td>\n",
       "      <td>Titus</td>\n",
       "      <td>F</td>\n",
       "      <td>43.0</td>\n",
       "      <td>Titus, Jani</td>\n",
       "      <td>jani.titus@gmail.com</td>\n",
       "      <td>8/22/2006</td>\n",
       "      <td>627-31-5251</td>\n",
       "      <td>405-959-1129</td>\n",
       "      <td>Vinson</td>\n",
       "      <td>Harmon</td>\n",
       "      <td>Vinson</td>\n",
       "      <td>OK</td>\n",
       "      <td>73571</td>\n",
       "      <td>South</td>\n",
       "      <td>jwtitus</td>\n",
       "      <td>0.0</td>\n",
       "    </tr>\n",
       "    <tr>\n",
       "      <th>1</th>\n",
       "      <td>100354678</td>\n",
       "      <td>2020-10-01</td>\n",
       "      <td>received</td>\n",
       "      <td>574774.0</td>\n",
       "      <td>Fantastic_FT-48</td>\n",
       "      <td>11.0</td>\n",
       "      <td>19.0</td>\n",
       "      <td>190.0</td>\n",
       "      <td>0.0</td>\n",
       "      <td>190.0</td>\n",
       "      <td>Men's Fashion</td>\n",
       "      <td>cod</td>\n",
       "      <td>Valid</td>\n",
       "      <td>60124.0</td>\n",
       "      <td>2020</td>\n",
       "      <td>Oct-2020</td>\n",
       "      <td>987867</td>\n",
       "      <td>Drs.</td>\n",
       "      <td>Jani</td>\n",
       "      <td>W</td>\n",
       "      <td>Titus</td>\n",
       "      <td>F</td>\n",
       "      <td>43.0</td>\n",
       "      <td>Titus, Jani</td>\n",
       "      <td>jani.titus@gmail.com</td>\n",
       "      <td>8/22/2006</td>\n",
       "      <td>627-31-5251</td>\n",
       "      <td>405-959-1129</td>\n",
       "      <td>Vinson</td>\n",
       "      <td>Harmon</td>\n",
       "      <td>Vinson</td>\n",
       "      <td>OK</td>\n",
       "      <td>73571</td>\n",
       "      <td>South</td>\n",
       "      <td>jwtitus</td>\n",
       "      <td>0.0</td>\n",
       "    </tr>\n",
       "    <tr>\n",
       "      <th>2</th>\n",
       "      <td>100354680</td>\n",
       "      <td>2020-10-01</td>\n",
       "      <td>complete</td>\n",
       "      <td>574777.0</td>\n",
       "      <td>mdeal_DMC-610-8</td>\n",
       "      <td>9.0</td>\n",
       "      <td>149.9</td>\n",
       "      <td>1199.2</td>\n",
       "      <td>0.0</td>\n",
       "      <td>1199.2</td>\n",
       "      <td>Men's Fashion</td>\n",
       "      <td>cod</td>\n",
       "      <td>Net</td>\n",
       "      <td>60124.0</td>\n",
       "      <td>2020</td>\n",
       "      <td>Oct-2020</td>\n",
       "      <td>987867</td>\n",
       "      <td>Drs.</td>\n",
       "      <td>Jani</td>\n",
       "      <td>W</td>\n",
       "      <td>Titus</td>\n",
       "      <td>F</td>\n",
       "      <td>43.0</td>\n",
       "      <td>Titus, Jani</td>\n",
       "      <td>jani.titus@gmail.com</td>\n",
       "      <td>8/22/2006</td>\n",
       "      <td>627-31-5251</td>\n",
       "      <td>405-959-1129</td>\n",
       "      <td>Vinson</td>\n",
       "      <td>Harmon</td>\n",
       "      <td>Vinson</td>\n",
       "      <td>OK</td>\n",
       "      <td>73571</td>\n",
       "      <td>South</td>\n",
       "      <td>jwtitus</td>\n",
       "      <td>0.0</td>\n",
       "    </tr>\n",
       "    <tr>\n",
       "      <th>3</th>\n",
       "      <td>100354680</td>\n",
       "      <td>2020-10-01</td>\n",
       "      <td>complete</td>\n",
       "      <td>574779.0</td>\n",
       "      <td>oasis_Oasis-061-36</td>\n",
       "      <td>9.0</td>\n",
       "      <td>79.9</td>\n",
       "      <td>639.2</td>\n",
       "      <td>0.0</td>\n",
       "      <td>639.2</td>\n",
       "      <td>Men's Fashion</td>\n",
       "      <td>cod</td>\n",
       "      <td>Net</td>\n",
       "      <td>60124.0</td>\n",
       "      <td>2020</td>\n",
       "      <td>Oct-2020</td>\n",
       "      <td>987867</td>\n",
       "      <td>Drs.</td>\n",
       "      <td>Jani</td>\n",
       "      <td>W</td>\n",
       "      <td>Titus</td>\n",
       "      <td>F</td>\n",
       "      <td>43.0</td>\n",
       "      <td>Titus, Jani</td>\n",
       "      <td>jani.titus@gmail.com</td>\n",
       "      <td>8/22/2006</td>\n",
       "      <td>627-31-5251</td>\n",
       "      <td>405-959-1129</td>\n",
       "      <td>Vinson</td>\n",
       "      <td>Harmon</td>\n",
       "      <td>Vinson</td>\n",
       "      <td>OK</td>\n",
       "      <td>73571</td>\n",
       "      <td>South</td>\n",
       "      <td>jwtitus</td>\n",
       "      <td>0.0</td>\n",
       "    </tr>\n",
       "  </tbody>\n",
       "</table>\n",
       "</div>"
      ],
      "text/plain": [
       "    order_id  order_date    status   item_id                 sku  qty_ordered  \\\n",
       "0  100354678  2020-10-01  received  574772.0  oasis_Oasis-064-36         21.0   \n",
       "1  100354678  2020-10-01  received  574774.0     Fantastic_FT-48         11.0   \n",
       "2  100354680  2020-10-01  complete  574777.0     mdeal_DMC-610-8          9.0   \n",
       "3  100354680  2020-10-01  complete  574779.0  oasis_Oasis-061-36          9.0   \n",
       "\n",
       "   price   value  discount_amount   total       category payment_method  \\\n",
       "0   89.9  1798.0              0.0  1798.0  Men's Fashion            cod   \n",
       "1   19.0   190.0              0.0   190.0  Men's Fashion            cod   \n",
       "2  149.9  1199.2              0.0  1199.2  Men's Fashion            cod   \n",
       "3   79.9   639.2              0.0   639.2  Men's Fashion            cod   \n",
       "\n",
       "   bi_st  cust_id  year     month  ref_num Name Prefix First Name  \\\n",
       "0  Valid  60124.0  2020  Oct-2020   987867        Drs.       Jani   \n",
       "1  Valid  60124.0  2020  Oct-2020   987867        Drs.       Jani   \n",
       "2    Net  60124.0  2020  Oct-2020   987867        Drs.       Jani   \n",
       "3    Net  60124.0  2020  Oct-2020   987867        Drs.       Jani   \n",
       "\n",
       "  Middle Initial Last Name Gender   age    full_name                E Mail  \\\n",
       "0              W     Titus      F  43.0  Titus, Jani  jani.titus@gmail.com   \n",
       "1              W     Titus      F  43.0  Titus, Jani  jani.titus@gmail.com   \n",
       "2              W     Titus      F  43.0  Titus, Jani  jani.titus@gmail.com   \n",
       "3              W     Titus      F  43.0  Titus, Jani  jani.titus@gmail.com   \n",
       "\n",
       "  Customer Since          SSN    Phone No.  Place Name  County    City State  \\\n",
       "0      8/22/2006  627-31-5251  405-959-1129     Vinson  Harmon  Vinson    OK   \n",
       "1      8/22/2006  627-31-5251  405-959-1129     Vinson  Harmon  Vinson    OK   \n",
       "2      8/22/2006  627-31-5251  405-959-1129     Vinson  Harmon  Vinson    OK   \n",
       "3      8/22/2006  627-31-5251  405-959-1129     Vinson  Harmon  Vinson    OK   \n",
       "\n",
       "     Zip Region User Name  Discount_Percent  \n",
       "0  73571  South   jwtitus               0.0  \n",
       "1  73571  South   jwtitus               0.0  \n",
       "2  73571  South   jwtitus               0.0  \n",
       "3  73571  South   jwtitus               0.0  "
      ]
     },
     "execution_count": 5,
     "metadata": {},
     "output_type": "execute_result"
    }
   ],
   "source": [
    "sales.head(4)"
   ]
  },
  {
   "cell_type": "code",
   "execution_count": 6,
   "id": "2c2561d6",
   "metadata": {},
   "outputs": [
    {
     "data": {
      "text/plain": [
       "(286392, 36)"
      ]
     },
     "execution_count": 6,
     "metadata": {},
     "output_type": "execute_result"
    }
   ],
   "source": [
    "sales.shape"
   ]
  },
  {
   "cell_type": "code",
   "execution_count": 7,
   "id": "0326e935",
   "metadata": {
    "scrolled": true
   },
   "outputs": [
    {
     "name": "stdout",
     "output_type": "stream",
     "text": [
      "<class 'pandas.core.frame.DataFrame'>\n",
      "RangeIndex: 286392 entries, 0 to 286391\n",
      "Data columns (total 36 columns):\n",
      " #   Column            Non-Null Count   Dtype  \n",
      "---  ------            --------------   -----  \n",
      " 0   order_id          286392 non-null  object \n",
      " 1   order_date        286392 non-null  object \n",
      " 2   status            286392 non-null  object \n",
      " 3   item_id           286392 non-null  float64\n",
      " 4   sku               286392 non-null  object \n",
      " 5   qty_ordered       286392 non-null  float64\n",
      " 6   price             286392 non-null  float64\n",
      " 7   value             286392 non-null  float64\n",
      " 8   discount_amount   286392 non-null  float64\n",
      " 9   total             286392 non-null  float64\n",
      " 10  category          286392 non-null  object \n",
      " 11  payment_method    286392 non-null  object \n",
      " 12  bi_st             286392 non-null  object \n",
      " 13  cust_id           286392 non-null  float64\n",
      " 14  year              286392 non-null  int64  \n",
      " 15  month             286392 non-null  object \n",
      " 16  ref_num           286392 non-null  int64  \n",
      " 17  Name Prefix       286392 non-null  object \n",
      " 18  First Name        286392 non-null  object \n",
      " 19  Middle Initial    286392 non-null  object \n",
      " 20  Last Name         286392 non-null  object \n",
      " 21  Gender            286392 non-null  object \n",
      " 22  age               286392 non-null  float64\n",
      " 23  full_name         286392 non-null  object \n",
      " 24  E Mail            286392 non-null  object \n",
      " 25  Customer Since    286392 non-null  object \n",
      " 26  SSN               286392 non-null  object \n",
      " 27  Phone No.         286392 non-null  object \n",
      " 28  Place Name        286392 non-null  object \n",
      " 29  County            286392 non-null  object \n",
      " 30  City              286392 non-null  object \n",
      " 31  State             286392 non-null  object \n",
      " 32  Zip               286392 non-null  int64  \n",
      " 33  Region            286392 non-null  object \n",
      " 34  User Name         286392 non-null  object \n",
      " 35  Discount_Percent  286392 non-null  float64\n",
      "dtypes: float64(9), int64(3), object(24)\n",
      "memory usage: 78.7+ MB\n"
     ]
    }
   ],
   "source": [
    "sales.info()"
   ]
  },
  {
   "cell_type": "code",
   "execution_count": 6,
   "id": "bfb8ebd2",
   "metadata": {},
   "outputs": [],
   "source": [
    "sales.drop(['cust_id', 'ref_num', 'Name Prefix', 'First Name', 'Middle Initial', 'Last Name', 'User Name'], axis=1, inplace=True)\n",
    "sales_df.drop(['cust_id', 'ref_num', 'Name Prefix', 'First Name', 'Middle Initial', 'Last Name', 'User Name'], axis=1, inplace=True)"
   ]
  },
  {
   "cell_type": "code",
   "execution_count": 9,
   "id": "e8440770",
   "metadata": {},
   "outputs": [
    {
     "data": {
      "text/html": [
       "<div>\n",
       "<style scoped>\n",
       "    .dataframe tbody tr th:only-of-type {\n",
       "        vertical-align: middle;\n",
       "    }\n",
       "\n",
       "    .dataframe tbody tr th {\n",
       "        vertical-align: top;\n",
       "    }\n",
       "\n",
       "    .dataframe thead th {\n",
       "        text-align: right;\n",
       "    }\n",
       "</style>\n",
       "<table border=\"1\" class=\"dataframe\">\n",
       "  <thead>\n",
       "    <tr style=\"text-align: right;\">\n",
       "      <th></th>\n",
       "      <th>order_id</th>\n",
       "      <th>order_date</th>\n",
       "      <th>status</th>\n",
       "      <th>item_id</th>\n",
       "      <th>sku</th>\n",
       "      <th>qty_ordered</th>\n",
       "      <th>price</th>\n",
       "      <th>value</th>\n",
       "      <th>discount_amount</th>\n",
       "      <th>total</th>\n",
       "      <th>category</th>\n",
       "      <th>payment_method</th>\n",
       "      <th>bi_st</th>\n",
       "      <th>year</th>\n",
       "      <th>month</th>\n",
       "      <th>Gender</th>\n",
       "      <th>age</th>\n",
       "      <th>full_name</th>\n",
       "      <th>E Mail</th>\n",
       "      <th>Customer Since</th>\n",
       "      <th>SSN</th>\n",
       "      <th>Phone No.</th>\n",
       "      <th>Place Name</th>\n",
       "      <th>County</th>\n",
       "      <th>City</th>\n",
       "      <th>State</th>\n",
       "      <th>Zip</th>\n",
       "      <th>Region</th>\n",
       "      <th>Discount_Percent</th>\n",
       "    </tr>\n",
       "  </thead>\n",
       "  <tbody>\n",
       "    <tr>\n",
       "      <th>0</th>\n",
       "      <td>100354678</td>\n",
       "      <td>2020-10-01</td>\n",
       "      <td>received</td>\n",
       "      <td>574772.0</td>\n",
       "      <td>oasis_Oasis-064-36</td>\n",
       "      <td>21.0</td>\n",
       "      <td>89.9</td>\n",
       "      <td>1798.0</td>\n",
       "      <td>0.0</td>\n",
       "      <td>1798.0</td>\n",
       "      <td>Men's Fashion</td>\n",
       "      <td>cod</td>\n",
       "      <td>Valid</td>\n",
       "      <td>2020</td>\n",
       "      <td>Oct-2020</td>\n",
       "      <td>F</td>\n",
       "      <td>43.0</td>\n",
       "      <td>Titus, Jani</td>\n",
       "      <td>jani.titus@gmail.com</td>\n",
       "      <td>8/22/2006</td>\n",
       "      <td>627-31-5251</td>\n",
       "      <td>405-959-1129</td>\n",
       "      <td>Vinson</td>\n",
       "      <td>Harmon</td>\n",
       "      <td>Vinson</td>\n",
       "      <td>OK</td>\n",
       "      <td>73571</td>\n",
       "      <td>South</td>\n",
       "      <td>0.0</td>\n",
       "    </tr>\n",
       "    <tr>\n",
       "      <th>1</th>\n",
       "      <td>100354678</td>\n",
       "      <td>2020-10-01</td>\n",
       "      <td>received</td>\n",
       "      <td>574774.0</td>\n",
       "      <td>Fantastic_FT-48</td>\n",
       "      <td>11.0</td>\n",
       "      <td>19.0</td>\n",
       "      <td>190.0</td>\n",
       "      <td>0.0</td>\n",
       "      <td>190.0</td>\n",
       "      <td>Men's Fashion</td>\n",
       "      <td>cod</td>\n",
       "      <td>Valid</td>\n",
       "      <td>2020</td>\n",
       "      <td>Oct-2020</td>\n",
       "      <td>F</td>\n",
       "      <td>43.0</td>\n",
       "      <td>Titus, Jani</td>\n",
       "      <td>jani.titus@gmail.com</td>\n",
       "      <td>8/22/2006</td>\n",
       "      <td>627-31-5251</td>\n",
       "      <td>405-959-1129</td>\n",
       "      <td>Vinson</td>\n",
       "      <td>Harmon</td>\n",
       "      <td>Vinson</td>\n",
       "      <td>OK</td>\n",
       "      <td>73571</td>\n",
       "      <td>South</td>\n",
       "      <td>0.0</td>\n",
       "    </tr>\n",
       "    <tr>\n",
       "      <th>2</th>\n",
       "      <td>100354680</td>\n",
       "      <td>2020-10-01</td>\n",
       "      <td>complete</td>\n",
       "      <td>574777.0</td>\n",
       "      <td>mdeal_DMC-610-8</td>\n",
       "      <td>9.0</td>\n",
       "      <td>149.9</td>\n",
       "      <td>1199.2</td>\n",
       "      <td>0.0</td>\n",
       "      <td>1199.2</td>\n",
       "      <td>Men's Fashion</td>\n",
       "      <td>cod</td>\n",
       "      <td>Net</td>\n",
       "      <td>2020</td>\n",
       "      <td>Oct-2020</td>\n",
       "      <td>F</td>\n",
       "      <td>43.0</td>\n",
       "      <td>Titus, Jani</td>\n",
       "      <td>jani.titus@gmail.com</td>\n",
       "      <td>8/22/2006</td>\n",
       "      <td>627-31-5251</td>\n",
       "      <td>405-959-1129</td>\n",
       "      <td>Vinson</td>\n",
       "      <td>Harmon</td>\n",
       "      <td>Vinson</td>\n",
       "      <td>OK</td>\n",
       "      <td>73571</td>\n",
       "      <td>South</td>\n",
       "      <td>0.0</td>\n",
       "    </tr>\n",
       "    <tr>\n",
       "      <th>3</th>\n",
       "      <td>100354680</td>\n",
       "      <td>2020-10-01</td>\n",
       "      <td>complete</td>\n",
       "      <td>574779.0</td>\n",
       "      <td>oasis_Oasis-061-36</td>\n",
       "      <td>9.0</td>\n",
       "      <td>79.9</td>\n",
       "      <td>639.2</td>\n",
       "      <td>0.0</td>\n",
       "      <td>639.2</td>\n",
       "      <td>Men's Fashion</td>\n",
       "      <td>cod</td>\n",
       "      <td>Net</td>\n",
       "      <td>2020</td>\n",
       "      <td>Oct-2020</td>\n",
       "      <td>F</td>\n",
       "      <td>43.0</td>\n",
       "      <td>Titus, Jani</td>\n",
       "      <td>jani.titus@gmail.com</td>\n",
       "      <td>8/22/2006</td>\n",
       "      <td>627-31-5251</td>\n",
       "      <td>405-959-1129</td>\n",
       "      <td>Vinson</td>\n",
       "      <td>Harmon</td>\n",
       "      <td>Vinson</td>\n",
       "      <td>OK</td>\n",
       "      <td>73571</td>\n",
       "      <td>South</td>\n",
       "      <td>0.0</td>\n",
       "    </tr>\n",
       "    <tr>\n",
       "      <th>4</th>\n",
       "      <td>100367357</td>\n",
       "      <td>2020-11-13</td>\n",
       "      <td>received</td>\n",
       "      <td>595185.0</td>\n",
       "      <td>MEFNAR59C38B6CA08CD</td>\n",
       "      <td>2.0</td>\n",
       "      <td>99.9</td>\n",
       "      <td>99.9</td>\n",
       "      <td>0.0</td>\n",
       "      <td>99.9</td>\n",
       "      <td>Men's Fashion</td>\n",
       "      <td>cod</td>\n",
       "      <td>Valid</td>\n",
       "      <td>2020</td>\n",
       "      <td>Nov-2020</td>\n",
       "      <td>F</td>\n",
       "      <td>43.0</td>\n",
       "      <td>Titus, Jani</td>\n",
       "      <td>jani.titus@gmail.com</td>\n",
       "      <td>8/22/2006</td>\n",
       "      <td>627-31-5251</td>\n",
       "      <td>405-959-1129</td>\n",
       "      <td>Vinson</td>\n",
       "      <td>Harmon</td>\n",
       "      <td>Vinson</td>\n",
       "      <td>OK</td>\n",
       "      <td>73571</td>\n",
       "      <td>South</td>\n",
       "      <td>0.0</td>\n",
       "    </tr>\n",
       "  </tbody>\n",
       "</table>\n",
       "</div>"
      ],
      "text/plain": [
       "    order_id  order_date    status   item_id                  sku  \\\n",
       "0  100354678  2020-10-01  received  574772.0   oasis_Oasis-064-36   \n",
       "1  100354678  2020-10-01  received  574774.0      Fantastic_FT-48   \n",
       "2  100354680  2020-10-01  complete  574777.0      mdeal_DMC-610-8   \n",
       "3  100354680  2020-10-01  complete  574779.0   oasis_Oasis-061-36   \n",
       "4  100367357  2020-11-13  received  595185.0  MEFNAR59C38B6CA08CD   \n",
       "\n",
       "   qty_ordered  price   value  discount_amount   total       category  \\\n",
       "0         21.0   89.9  1798.0              0.0  1798.0  Men's Fashion   \n",
       "1         11.0   19.0   190.0              0.0   190.0  Men's Fashion   \n",
       "2          9.0  149.9  1199.2              0.0  1199.2  Men's Fashion   \n",
       "3          9.0   79.9   639.2              0.0   639.2  Men's Fashion   \n",
       "4          2.0   99.9    99.9              0.0    99.9  Men's Fashion   \n",
       "\n",
       "  payment_method  bi_st  year     month Gender   age    full_name  \\\n",
       "0            cod  Valid  2020  Oct-2020      F  43.0  Titus, Jani   \n",
       "1            cod  Valid  2020  Oct-2020      F  43.0  Titus, Jani   \n",
       "2            cod    Net  2020  Oct-2020      F  43.0  Titus, Jani   \n",
       "3            cod    Net  2020  Oct-2020      F  43.0  Titus, Jani   \n",
       "4            cod  Valid  2020  Nov-2020      F  43.0  Titus, Jani   \n",
       "\n",
       "                 E Mail Customer Since          SSN    Phone No.  Place Name  \\\n",
       "0  jani.titus@gmail.com      8/22/2006  627-31-5251  405-959-1129     Vinson   \n",
       "1  jani.titus@gmail.com      8/22/2006  627-31-5251  405-959-1129     Vinson   \n",
       "2  jani.titus@gmail.com      8/22/2006  627-31-5251  405-959-1129     Vinson   \n",
       "3  jani.titus@gmail.com      8/22/2006  627-31-5251  405-959-1129     Vinson   \n",
       "4  jani.titus@gmail.com      8/22/2006  627-31-5251  405-959-1129     Vinson   \n",
       "\n",
       "   County    City State    Zip Region  Discount_Percent  \n",
       "0  Harmon  Vinson    OK  73571  South               0.0  \n",
       "1  Harmon  Vinson    OK  73571  South               0.0  \n",
       "2  Harmon  Vinson    OK  73571  South               0.0  \n",
       "3  Harmon  Vinson    OK  73571  South               0.0  \n",
       "4  Harmon  Vinson    OK  73571  South               0.0  "
      ]
     },
     "execution_count": 9,
     "metadata": {},
     "output_type": "execute_result"
    }
   ],
   "source": [
    "sales.head(5)"
   ]
  },
  {
   "cell_type": "code",
   "execution_count": 11,
   "id": "d34bd008",
   "metadata": {},
   "outputs": [],
   "source": [
    "## not possible to extract year/month/day from object column, have to convert it to datetime column first then extract year or month \n",
    " ## sales['order_date'] = pd.to_datetime(sales['order_date'])\n",
    " ## sales['Year']=sales['order_date'].dt.year"
   ]
  },
  {
   "cell_type": "code",
   "execution_count": null,
   "id": "8e7380d4",
   "metadata": {},
   "outputs": [],
   "source": []
  },
  {
   "cell_type": "code",
   "execution_count": 10,
   "id": "646f6035",
   "metadata": {
    "scrolled": false
   },
   "outputs": [
    {
     "data": {
      "text/plain": [
       "array([2020, 2021], dtype=int64)"
      ]
     },
     "execution_count": 10,
     "metadata": {},
     "output_type": "execute_result"
    }
   ],
   "source": [
    "sales.year.unique()"
   ]
  },
  {
   "cell_type": "code",
   "execution_count": null,
   "id": "8fbfbcdf",
   "metadata": {},
   "outputs": [],
   "source": []
  },
  {
   "cell_type": "code",
   "execution_count": null,
   "id": "7319a235",
   "metadata": {},
   "outputs": [],
   "source": []
  },
  {
   "cell_type": "markdown",
   "id": "8e278d0a",
   "metadata": {},
   "source": [
    "## Which category products are ordered most of times"
   ]
  },
  {
   "cell_type": "code",
   "execution_count": 11,
   "id": "dc82800d",
   "metadata": {
    "scrolled": true
   },
   "outputs": [
    {
     "data": {
      "text/plain": [
       "array([\"Men's Fashion\", 'Mobiles & Tablets', 'Computing', 'Appliances',\n",
       "       'Home & Living', \"Women's Fashion\", 'Health & Sports',\n",
       "       'Beauty & Grooming', 'Superstore', 'Others', 'Entertainment',\n",
       "       'Soghaat', 'Kids & Baby', 'Books', 'School & Education'],\n",
       "      dtype=object)"
      ]
     },
     "execution_count": 11,
     "metadata": {},
     "output_type": "execute_result"
    }
   ],
   "source": [
    "sales.category.unique()"
   ]
  },
  {
   "cell_type": "code",
   "execution_count": 12,
   "id": "cc3224ff",
   "metadata": {},
   "outputs": [
    {
     "data": {
      "text/plain": [
       "Mobiles & Tablets     61761\n",
       "Men's Fashion         40713\n",
       "Appliances            33034\n",
       "Women's Fashion       28334\n",
       "Others                26108\n",
       "Beauty & Grooming     17899\n",
       "Entertainment         17352\n",
       "Superstore            15024\n",
       "Home & Living         13990\n",
       "Health & Sports        8421\n",
       "Computing              8110\n",
       "Soghaat                7250\n",
       "Kids & Baby            6492\n",
       "School & Education     1090\n",
       "Books                   814\n",
       "Name: category, dtype: int64"
      ]
     },
     "execution_count": 12,
     "metadata": {},
     "output_type": "execute_result"
    }
   ],
   "source": [
    "sales.category.value_counts()"
   ]
  },
  {
   "cell_type": "code",
   "execution_count": 9,
   "id": "2065e1d1",
   "metadata": {},
   "outputs": [
    {
     "data": {
      "image/png": "[encoded data removed]",
      "text/plain": [
       "<Figure size 576x432 with 1 Axes>"
      ]
     },
     "metadata": {
      "needs_background": "light"
     },
     "output_type": "display_data"
    }
   ],
   "source": [
    "plt.figure(figsize=(8,6))\n",
    "ax=sns.countplot(x='category', data=sales,\n",
    "             order=sales.category.value_counts().index)\n",
    "plt.xticks(rotation=45, ha='right')\n",
    "\n",
    "abs_values = sales['category'].value_counts(ascending=False).values\n",
    "\n",
    "ax.bar_label(container=ax.containers[0], labels=abs_values);"
   ]
  },
  {
   "cell_type": "code",
   "execution_count": null,
   "id": "e27880c8",
   "metadata": {},
   "outputs": [],
   "source": []
  },
  {
   "cell_type": "code",
   "execution_count": null,
   "id": "ba3a8103",
   "metadata": {},
   "outputs": [],
   "source": []
  },
  {
   "cell_type": "markdown",
   "id": "80096d61",
   "metadata": {},
   "source": [
    "## Which payment method is most preffered"
   ]
  },
  {
   "cell_type": "code",
   "execution_count": 15,
   "id": "4e3925dd",
   "metadata": {
    "scrolled": true
   },
   "outputs": [
    {
     "data": {
      "text/plain": [
       "array(['cod', 'Payaxis', 'Easypay', 'jazzwallet', 'Easypay_MA',\n",
       "       'jazzvoucher', 'easypay_voucher', 'customercredit', 'bankalfalah',\n",
       "       'apg', 'mcblite', 'cashatdoorstep', 'financesettlement'],\n",
       "      dtype=object)"
      ]
     },
     "execution_count": 15,
     "metadata": {},
     "output_type": "execute_result"
    }
   ],
   "source": [
    "sales.payment_method.unique()"
   ]
  },
  {
   "cell_type": "code",
   "execution_count": 16,
   "id": "d197d6e0",
   "metadata": {},
   "outputs": [
    {
     "data": {
      "text/plain": [
       "cod                  102916\n",
       "Easypay               69679\n",
       "Payaxis               31049\n",
       "easypay_voucher       29763\n",
       "bankalfalah           23057\n",
       "Easypay_MA            11536\n",
       "jazzwallet             6669\n",
       "jazzvoucher            6045\n",
       "customercredit         3702\n",
       "apg                    1758\n",
       "mcblite                 208\n",
       "cashatdoorstep            9\n",
       "financesettlement         1\n",
       "Name: payment_method, dtype: int64"
      ]
     },
     "execution_count": 16,
     "metadata": {},
     "output_type": "execute_result"
    }
   ],
   "source": [
    "sales.payment_method.value_counts()"
   ]
  },
  {
   "cell_type": "code",
   "execution_count": 10,
   "id": "5f4f0d45",
   "metadata": {},
   "outputs": [
    {
     "data": {
      "image/png": "[encoded data removed]",
      "text/plain": [
       "<Figure size 576x360 with 1 Axes>"
      ]
     },
     "metadata": {
      "needs_background": "light"
     },
     "output_type": "display_data"
    }
   ],
   "source": [
    "plt.figure(figsize=(8,5))\n",
    "ax=sns.countplot(x='payment_method', data=sales,\n",
    "              order=sales.payment_method.value_counts().index)\n",
    "plt.xticks(rotation=45)\n",
    "\n",
    "abs_values = sales['payment_method'].value_counts(ascending=False).values\n",
    "\n",
    "ax.bar_label(container=ax.containers[0], labels=abs_values);"
   ]
  },
  {
   "cell_type": "code",
   "execution_count": null,
   "id": "75297c53",
   "metadata": {},
   "outputs": [],
   "source": []
  },
  {
   "cell_type": "code",
   "execution_count": null,
   "id": "f9fc4983",
   "metadata": {},
   "outputs": [],
   "source": []
  },
  {
   "cell_type": "markdown",
   "id": "1ef7135b",
   "metadata": {},
   "source": [
    "## Which sku has given maximum discount"
   ]
  },
  {
   "cell_type": "code",
   "execution_count": 18,
   "id": "6b9ebaee",
   "metadata": {
    "scrolled": true
   },
   "outputs": [
    {
     "data": {
      "text/plain": [
       "47932"
      ]
     },
     "execution_count": 18,
     "metadata": {},
     "output_type": "execute_result"
    }
   ],
   "source": [
    "sales.sku.nunique()"
   ]
  },
  {
   "cell_type": "code",
   "execution_count": 20,
   "id": "22acf4cf",
   "metadata": {},
   "outputs": [],
   "source": [
    "##pd.pivot_table(sales, index='sku', values='discount_amount', aggfunc=sum, sort=True)"
   ]
  },
  {
   "cell_type": "code",
   "execution_count": 19,
   "id": "9496ed88",
   "metadata": {},
   "outputs": [
    {
     "data": {
      "text/plain": [
       "sku\n",
       " jjp_15000006-100-NIL     0.000000e+00\n",
       "MEFIDO5B03BA4C38768-XL    0.000000e+00\n",
       "MEFIDO5B03BA52A9140-XL    0.000000e+00\n",
       "MEFIDO5B03BA609AC72-XL    0.000000e+00\n",
       "MEFIDO5B03BA6E3E11F-M     0.000000e+00\n",
       "                              ...     \n",
       "MATSAM5A0BFFF19C40A       2.639995e+05\n",
       "MATSAM59DB7583ED7C0       2.896359e+05\n",
       "MATSAM5A7463EE3C1A5       3.826640e+05\n",
       "MATSAM59DB757FB47A2       6.860361e+05\n",
       "MATSAM59DB75ADB2F80       1.125850e+06\n",
       "Name: discount_amount, Length: 47932, dtype: float64"
      ]
     },
     "execution_count": 19,
     "metadata": {},
     "output_type": "execute_result"
    }
   ],
   "source": [
    "sales.groupby('sku').discount_amount.sum().sort_values(ascending=True)"
   ]
  },
  {
   "cell_type": "code",
   "execution_count": 21,
   "id": "2c2d23ca",
   "metadata": {},
   "outputs": [],
   "source": [
    "##pd.pivot_table(sales, index='sku', values='Discount_Percent', aggfunc=sum, sort=True)"
   ]
  },
  {
   "cell_type": "code",
   "execution_count": 22,
   "id": "11505f0a",
   "metadata": {},
   "outputs": [
    {
     "data": {
      "text/plain": [
       "sku\n",
       " jjp_15000006-100-NIL         0.000000\n",
       "MEFHOU5AACDD8DC6D91-38        0.000000\n",
       "MEFHOU5ABCCD80ADC96           0.000000\n",
       "MEFHOU5ABCD0C51AF8C           0.000000\n",
       "MEFHOU5ABD1A9F50F28           0.000000\n",
       "                              ...     \n",
       "MATSAM59DB757FB47A2       14369.763651\n",
       "MATTEL5A462528E403F       14579.007518\n",
       "APPNAT5A0A01860CE92       14653.841673\n",
       "MATSAM5A7463EE3C1A5       15291.636726\n",
       "MATSAM59DB75ADB2F80       62018.323185\n",
       "Name: Discount_Percent, Length: 47932, dtype: float64"
      ]
     },
     "execution_count": 22,
     "metadata": {},
     "output_type": "execute_result"
    }
   ],
   "source": [
    "sales.groupby('sku').Discount_Percent.sum().sort_values(ascending=True)"
   ]
  },
  {
   "cell_type": "code",
   "execution_count": null,
   "id": "3d44de67",
   "metadata": {},
   "outputs": [],
   "source": [
    "###  (MATSAM59DB75ADB2F80 ) this sku has gives more discount"
   ]
  },
  {
   "cell_type": "code",
   "execution_count": null,
   "id": "33b0ebe9",
   "metadata": {},
   "outputs": [],
   "source": []
  },
  {
   "cell_type": "code",
   "execution_count": 23,
   "id": "f90e62bb",
   "metadata": {},
   "outputs": [],
   "source": [
    "sales_sku_max_disc=sales[sales['sku']=='MATSAM59DB75ADB2F80' ]"
   ]
  },
  {
   "cell_type": "code",
   "execution_count": 24,
   "id": "cb786ce1",
   "metadata": {},
   "outputs": [
    {
     "data": {
      "text/html": [
       "<div>\n",
       "<style scoped>\n",
       "    .dataframe tbody tr th:only-of-type {\n",
       "        vertical-align: middle;\n",
       "    }\n",
       "\n",
       "    .dataframe tbody tr th {\n",
       "        vertical-align: top;\n",
       "    }\n",
       "\n",
       "    .dataframe thead th {\n",
       "        text-align: right;\n",
       "    }\n",
       "</style>\n",
       "<table border=\"1\" class=\"dataframe\">\n",
       "  <thead>\n",
       "    <tr style=\"text-align: right;\">\n",
       "      <th></th>\n",
       "      <th>order_id</th>\n",
       "      <th>order_date</th>\n",
       "      <th>status</th>\n",
       "      <th>item_id</th>\n",
       "      <th>sku</th>\n",
       "      <th>qty_ordered</th>\n",
       "      <th>price</th>\n",
       "      <th>value</th>\n",
       "      <th>discount_amount</th>\n",
       "      <th>total</th>\n",
       "      <th>category</th>\n",
       "      <th>payment_method</th>\n",
       "      <th>bi_st</th>\n",
       "      <th>year</th>\n",
       "      <th>month</th>\n",
       "      <th>Gender</th>\n",
       "      <th>age</th>\n",
       "      <th>full_name</th>\n",
       "      <th>E Mail</th>\n",
       "      <th>Customer Since</th>\n",
       "      <th>SSN</th>\n",
       "      <th>Phone No.</th>\n",
       "      <th>Place Name</th>\n",
       "      <th>County</th>\n",
       "      <th>City</th>\n",
       "      <th>State</th>\n",
       "      <th>Zip</th>\n",
       "      <th>Region</th>\n",
       "      <th>Discount_Percent</th>\n",
       "    </tr>\n",
       "  </thead>\n",
       "  <tbody>\n",
       "    <tr>\n",
       "      <th>293</th>\n",
       "      <td>100412711</td>\n",
       "      <td>2020-12-27</td>\n",
       "      <td>complete</td>\n",
       "      <td>673813.0</td>\n",
       "      <td>MATSAM59DB75ADB2F80</td>\n",
       "      <td>3.0</td>\n",
       "      <td>1369.8</td>\n",
       "      <td>2739.6</td>\n",
       "      <td>579.96</td>\n",
       "      <td>2159.64</td>\n",
       "      <td>Mobiles &amp; Tablets</td>\n",
       "      <td>easypay_voucher</td>\n",
       "      <td>Net</td>\n",
       "      <td>2020</td>\n",
       "      <td>Dec-2020</td>\n",
       "      <td>F</td>\n",
       "      <td>54.0</td>\n",
       "      <td>Roach, Skye</td>\n",
       "      <td>skye.roach@outlook.com</td>\n",
       "      <td>12/8/1999</td>\n",
       "      <td>207-84-0611</td>\n",
       "      <td>225-428-0080</td>\n",
       "      <td>Lake Charles</td>\n",
       "      <td>Calcasieu</td>\n",
       "      <td>Lake Charles</td>\n",
       "      <td>LA</td>\n",
       "      <td>70629</td>\n",
       "      <td>South</td>\n",
       "      <td>21.169514</td>\n",
       "    </tr>\n",
       "    <tr>\n",
       "      <th>1176</th>\n",
       "      <td>100424351</td>\n",
       "      <td>2020-12-28</td>\n",
       "      <td>canceled</td>\n",
       "      <td>693220.0</td>\n",
       "      <td>MATSAM59DB75ADB2F80</td>\n",
       "      <td>2.0</td>\n",
       "      <td>1369.8</td>\n",
       "      <td>1369.8</td>\n",
       "      <td>210.99</td>\n",
       "      <td>1158.81</td>\n",
       "      <td>Mobiles &amp; Tablets</td>\n",
       "      <td>easypay_voucher</td>\n",
       "      <td>Gross</td>\n",
       "      <td>2020</td>\n",
       "      <td>Dec-2020</td>\n",
       "      <td>M</td>\n",
       "      <td>32.0</td>\n",
       "      <td>Meredith, Juan</td>\n",
       "      <td>juan.meredith@gmail.com</td>\n",
       "      <td>12/19/1997</td>\n",
       "      <td>601-99-2887</td>\n",
       "      <td>236-271-2330</td>\n",
       "      <td>Wylliesburg</td>\n",
       "      <td>Charlotte</td>\n",
       "      <td>Wylliesburg</td>\n",
       "      <td>VA</td>\n",
       "      <td>23976</td>\n",
       "      <td>South</td>\n",
       "      <td>15.402979</td>\n",
       "    </tr>\n",
       "    <tr>\n",
       "      <th>1177</th>\n",
       "      <td>100424361</td>\n",
       "      <td>2020-12-28</td>\n",
       "      <td>complete</td>\n",
       "      <td>693230.0</td>\n",
       "      <td>MATSAM59DB75ADB2F80</td>\n",
       "      <td>2.0</td>\n",
       "      <td>1369.8</td>\n",
       "      <td>1369.8</td>\n",
       "      <td>210.99</td>\n",
       "      <td>1158.81</td>\n",
       "      <td>Mobiles &amp; Tablets</td>\n",
       "      <td>easypay_voucher</td>\n",
       "      <td>Net</td>\n",
       "      <td>2020</td>\n",
       "      <td>Dec-2020</td>\n",
       "      <td>M</td>\n",
       "      <td>32.0</td>\n",
       "      <td>Meredith, Juan</td>\n",
       "      <td>juan.meredith@gmail.com</td>\n",
       "      <td>12/19/1997</td>\n",
       "      <td>601-99-2887</td>\n",
       "      <td>236-271-2330</td>\n",
       "      <td>Wylliesburg</td>\n",
       "      <td>Charlotte</td>\n",
       "      <td>Wylliesburg</td>\n",
       "      <td>VA</td>\n",
       "      <td>23976</td>\n",
       "      <td>South</td>\n",
       "      <td>15.402979</td>\n",
       "    </tr>\n",
       "  </tbody>\n",
       "</table>\n",
       "</div>"
      ],
      "text/plain": [
       "       order_id  order_date    status   item_id                  sku  \\\n",
       "293   100412711  2020-12-27  complete  673813.0  MATSAM59DB75ADB2F80   \n",
       "1176  100424351  2020-12-28  canceled  693220.0  MATSAM59DB75ADB2F80   \n",
       "1177  100424361  2020-12-28  complete  693230.0  MATSAM59DB75ADB2F80   \n",
       "\n",
       "      qty_ordered   price   value  discount_amount    total  \\\n",
       "293           3.0  1369.8  2739.6           579.96  2159.64   \n",
       "1176          2.0  1369.8  1369.8           210.99  1158.81   \n",
       "1177          2.0  1369.8  1369.8           210.99  1158.81   \n",
       "\n",
       "               category   payment_method  bi_st  year     month Gender   age  \\\n",
       "293   Mobiles & Tablets  easypay_voucher    Net  2020  Dec-2020      F  54.0   \n",
       "1176  Mobiles & Tablets  easypay_voucher  Gross  2020  Dec-2020      M  32.0   \n",
       "1177  Mobiles & Tablets  easypay_voucher    Net  2020  Dec-2020      M  32.0   \n",
       "\n",
       "           full_name                   E Mail Customer Since          SSN  \\\n",
       "293      Roach, Skye   skye.roach@outlook.com      12/8/1999  207-84-0611   \n",
       "1176  Meredith, Juan  juan.meredith@gmail.com     12/19/1997  601-99-2887   \n",
       "1177  Meredith, Juan  juan.meredith@gmail.com     12/19/1997  601-99-2887   \n",
       "\n",
       "        Phone No.     Place Name     County          City State    Zip Region  \\\n",
       "293   225-428-0080  Lake Charles  Calcasieu  Lake Charles    LA  70629  South   \n",
       "1176  236-271-2330   Wylliesburg  Charlotte   Wylliesburg    VA  23976  South   \n",
       "1177  236-271-2330   Wylliesburg  Charlotte   Wylliesburg    VA  23976  South   \n",
       "\n",
       "      Discount_Percent  \n",
       "293          21.169514  \n",
       "1176         15.402979  \n",
       "1177         15.402979  "
      ]
     },
     "execution_count": 24,
     "metadata": {},
     "output_type": "execute_result"
    }
   ],
   "source": [
    "sales_sku_max_disc.head(3)"
   ]
  },
  {
   "cell_type": "code",
   "execution_count": 25,
   "id": "3b993d65",
   "metadata": {},
   "outputs": [
    {
     "data": {
      "text/plain": [
       "1125849.58992"
      ]
     },
     "execution_count": 25,
     "metadata": {},
     "output_type": "execute_result"
    }
   ],
   "source": [
    "sales_sku_max_disc.discount_amount.sum()"
   ]
  },
  {
   "cell_type": "code",
   "execution_count": null,
   "id": "7a6ede57",
   "metadata": {},
   "outputs": [],
   "source": []
  },
  {
   "cell_type": "code",
   "execution_count": null,
   "id": "f8fed85d",
   "metadata": {},
   "outputs": [],
   "source": []
  },
  {
   "cell_type": "code",
   "execution_count": 26,
   "id": "e5cafcae",
   "metadata": {},
   "outputs": [],
   "source": [
    "## to know dicount given by all other sku combine except the sku which has max discount, drop that max giving sku and sum the discount column"
   ]
  },
  {
   "cell_type": "code",
   "execution_count": 27,
   "id": "9a02f41a",
   "metadata": {},
   "outputs": [],
   "source": [
    "sales_df.set_index('sku', inplace=True)"
   ]
  },
  {
   "cell_type": "code",
   "execution_count": 28,
   "id": "20aa86d6",
   "metadata": {},
   "outputs": [
    {
     "data": {
      "text/html": [
       "<div>\n",
       "<style scoped>\n",
       "    .dataframe tbody tr th:only-of-type {\n",
       "        vertical-align: middle;\n",
       "    }\n",
       "\n",
       "    .dataframe tbody tr th {\n",
       "        vertical-align: top;\n",
       "    }\n",
       "\n",
       "    .dataframe thead th {\n",
       "        text-align: right;\n",
       "    }\n",
       "</style>\n",
       "<table border=\"1\" class=\"dataframe\">\n",
       "  <thead>\n",
       "    <tr style=\"text-align: right;\">\n",
       "      <th></th>\n",
       "      <th>order_id</th>\n",
       "      <th>order_date</th>\n",
       "      <th>status</th>\n",
       "      <th>item_id</th>\n",
       "      <th>qty_ordered</th>\n",
       "      <th>price</th>\n",
       "      <th>value</th>\n",
       "      <th>discount_amount</th>\n",
       "      <th>total</th>\n",
       "      <th>category</th>\n",
       "      <th>payment_method</th>\n",
       "      <th>bi_st</th>\n",
       "      <th>year</th>\n",
       "      <th>month</th>\n",
       "      <th>Gender</th>\n",
       "      <th>age</th>\n",
       "      <th>full_name</th>\n",
       "      <th>E Mail</th>\n",
       "      <th>Customer Since</th>\n",
       "      <th>SSN</th>\n",
       "      <th>Phone No.</th>\n",
       "      <th>Place Name</th>\n",
       "      <th>County</th>\n",
       "      <th>City</th>\n",
       "      <th>State</th>\n",
       "      <th>Zip</th>\n",
       "      <th>Region</th>\n",
       "      <th>Discount_Percent</th>\n",
       "    </tr>\n",
       "    <tr>\n",
       "      <th>sku</th>\n",
       "      <th></th>\n",
       "      <th></th>\n",
       "      <th></th>\n",
       "      <th></th>\n",
       "      <th></th>\n",
       "      <th></th>\n",
       "      <th></th>\n",
       "      <th></th>\n",
       "      <th></th>\n",
       "      <th></th>\n",
       "      <th></th>\n",
       "      <th></th>\n",
       "      <th></th>\n",
       "      <th></th>\n",
       "      <th></th>\n",
       "      <th></th>\n",
       "      <th></th>\n",
       "      <th></th>\n",
       "      <th></th>\n",
       "      <th></th>\n",
       "      <th></th>\n",
       "      <th></th>\n",
       "      <th></th>\n",
       "      <th></th>\n",
       "      <th></th>\n",
       "      <th></th>\n",
       "      <th></th>\n",
       "      <th></th>\n",
       "    </tr>\n",
       "  </thead>\n",
       "  <tbody>\n",
       "    <tr>\n",
       "      <th>oasis_Oasis-064-36</th>\n",
       "      <td>100354678</td>\n",
       "      <td>2020-10-01</td>\n",
       "      <td>received</td>\n",
       "      <td>574772.0</td>\n",
       "      <td>21.0</td>\n",
       "      <td>89.9</td>\n",
       "      <td>1798.0</td>\n",
       "      <td>0.0</td>\n",
       "      <td>1798.0</td>\n",
       "      <td>Men's Fashion</td>\n",
       "      <td>cod</td>\n",
       "      <td>Valid</td>\n",
       "      <td>2020</td>\n",
       "      <td>Oct-2020</td>\n",
       "      <td>F</td>\n",
       "      <td>43.0</td>\n",
       "      <td>Titus, Jani</td>\n",
       "      <td>jani.titus@gmail.com</td>\n",
       "      <td>8/22/2006</td>\n",
       "      <td>627-31-5251</td>\n",
       "      <td>405-959-1129</td>\n",
       "      <td>Vinson</td>\n",
       "      <td>Harmon</td>\n",
       "      <td>Vinson</td>\n",
       "      <td>OK</td>\n",
       "      <td>73571</td>\n",
       "      <td>South</td>\n",
       "      <td>0.0</td>\n",
       "    </tr>\n",
       "    <tr>\n",
       "      <th>Fantastic_FT-48</th>\n",
       "      <td>100354678</td>\n",
       "      <td>2020-10-01</td>\n",
       "      <td>received</td>\n",
       "      <td>574774.0</td>\n",
       "      <td>11.0</td>\n",
       "      <td>19.0</td>\n",
       "      <td>190.0</td>\n",
       "      <td>0.0</td>\n",
       "      <td>190.0</td>\n",
       "      <td>Men's Fashion</td>\n",
       "      <td>cod</td>\n",
       "      <td>Valid</td>\n",
       "      <td>2020</td>\n",
       "      <td>Oct-2020</td>\n",
       "      <td>F</td>\n",
       "      <td>43.0</td>\n",
       "      <td>Titus, Jani</td>\n",
       "      <td>jani.titus@gmail.com</td>\n",
       "      <td>8/22/2006</td>\n",
       "      <td>627-31-5251</td>\n",
       "      <td>405-959-1129</td>\n",
       "      <td>Vinson</td>\n",
       "      <td>Harmon</td>\n",
       "      <td>Vinson</td>\n",
       "      <td>OK</td>\n",
       "      <td>73571</td>\n",
       "      <td>South</td>\n",
       "      <td>0.0</td>\n",
       "    </tr>\n",
       "    <tr>\n",
       "      <th>mdeal_DMC-610-8</th>\n",
       "      <td>100354680</td>\n",
       "      <td>2020-10-01</td>\n",
       "      <td>complete</td>\n",
       "      <td>574777.0</td>\n",
       "      <td>9.0</td>\n",
       "      <td>149.9</td>\n",
       "      <td>1199.2</td>\n",
       "      <td>0.0</td>\n",
       "      <td>1199.2</td>\n",
       "      <td>Men's Fashion</td>\n",
       "      <td>cod</td>\n",
       "      <td>Net</td>\n",
       "      <td>2020</td>\n",
       "      <td>Oct-2020</td>\n",
       "      <td>F</td>\n",
       "      <td>43.0</td>\n",
       "      <td>Titus, Jani</td>\n",
       "      <td>jani.titus@gmail.com</td>\n",
       "      <td>8/22/2006</td>\n",
       "      <td>627-31-5251</td>\n",
       "      <td>405-959-1129</td>\n",
       "      <td>Vinson</td>\n",
       "      <td>Harmon</td>\n",
       "      <td>Vinson</td>\n",
       "      <td>OK</td>\n",
       "      <td>73571</td>\n",
       "      <td>South</td>\n",
       "      <td>0.0</td>\n",
       "    </tr>\n",
       "  </tbody>\n",
       "</table>\n",
       "</div>"
      ],
      "text/plain": [
       "                     order_id  order_date    status   item_id  qty_ordered  \\\n",
       "sku                                                                          \n",
       "oasis_Oasis-064-36  100354678  2020-10-01  received  574772.0         21.0   \n",
       "Fantastic_FT-48     100354678  2020-10-01  received  574774.0         11.0   \n",
       "mdeal_DMC-610-8     100354680  2020-10-01  complete  574777.0          9.0   \n",
       "\n",
       "                    price   value  discount_amount   total       category  \\\n",
       "sku                                                                         \n",
       "oasis_Oasis-064-36   89.9  1798.0              0.0  1798.0  Men's Fashion   \n",
       "Fantastic_FT-48      19.0   190.0              0.0   190.0  Men's Fashion   \n",
       "mdeal_DMC-610-8     149.9  1199.2              0.0  1199.2  Men's Fashion   \n",
       "\n",
       "                   payment_method  bi_st  year     month Gender   age  \\\n",
       "sku                                                                     \n",
       "oasis_Oasis-064-36            cod  Valid  2020  Oct-2020      F  43.0   \n",
       "Fantastic_FT-48               cod  Valid  2020  Oct-2020      F  43.0   \n",
       "mdeal_DMC-610-8               cod    Net  2020  Oct-2020      F  43.0   \n",
       "\n",
       "                      full_name                E Mail Customer Since  \\\n",
       "sku                                                                    \n",
       "oasis_Oasis-064-36  Titus, Jani  jani.titus@gmail.com      8/22/2006   \n",
       "Fantastic_FT-48     Titus, Jani  jani.titus@gmail.com      8/22/2006   \n",
       "mdeal_DMC-610-8     Titus, Jani  jani.titus@gmail.com      8/22/2006   \n",
       "\n",
       "                            SSN    Phone No.  Place Name  County    City  \\\n",
       "sku                                                                        \n",
       "oasis_Oasis-064-36  627-31-5251  405-959-1129     Vinson  Harmon  Vinson   \n",
       "Fantastic_FT-48     627-31-5251  405-959-1129     Vinson  Harmon  Vinson   \n",
       "mdeal_DMC-610-8     627-31-5251  405-959-1129     Vinson  Harmon  Vinson   \n",
       "\n",
       "                   State    Zip Region  Discount_Percent  \n",
       "sku                                                       \n",
       "oasis_Oasis-064-36    OK  73571  South               0.0  \n",
       "Fantastic_FT-48       OK  73571  South               0.0  \n",
       "mdeal_DMC-610-8       OK  73571  South               0.0  "
      ]
     },
     "execution_count": 28,
     "metadata": {},
     "output_type": "execute_result"
    }
   ],
   "source": [
    "sales_df.head(3)"
   ]
  },
  {
   "cell_type": "code",
   "execution_count": 29,
   "id": "9c90233d",
   "metadata": {},
   "outputs": [],
   "source": [
    "sales_df.drop('MATSAM59DB75ADB2F80', axis=0, inplace=True)"
   ]
  },
  {
   "cell_type": "code",
   "execution_count": 30,
   "id": "e19fdd69",
   "metadata": {},
   "outputs": [
    {
     "data": {
      "text/plain": [
       "18932882.051990002"
      ]
     },
     "execution_count": 30,
     "metadata": {},
     "output_type": "execute_result"
    }
   ],
   "source": [
    "sales_df.discount_amount.sum()"
   ]
  },
  {
   "cell_type": "code",
   "execution_count": null,
   "id": "71fb2edb",
   "metadata": {},
   "outputs": [],
   "source": [
    "## There is huge difference between the sku which has maximum discount and all other sku combine "
   ]
  },
  {
   "cell_type": "code",
   "execution_count": null,
   "id": "3fcba5ad",
   "metadata": {},
   "outputs": [],
   "source": []
  },
  {
   "cell_type": "code",
   "execution_count": null,
   "id": "1deea2ba",
   "metadata": {},
   "outputs": [],
   "source": []
  },
  {
   "cell_type": "markdown",
   "id": "9c0f8cb0",
   "metadata": {},
   "source": [
    "## Which sku has maximum sales"
   ]
  },
  {
   "cell_type": "code",
   "execution_count": 32,
   "id": "42103f93",
   "metadata": {},
   "outputs": [
    {
     "data": {
      "text/plain": [
       "sku\n",
       "MATSAM5B10F7E2AC8C1    7.437177e+06\n",
       "MATSAM59DB75ADB2F80    4.972349e+06\n",
       "MATSAM59DB757FB47A2    4.807788e+06\n",
       "MATSAM5B10F91A9B6AB    2.670725e+06\n",
       "MATSAM5B1509B4696EA    2.500298e+06\n",
       "                           ...     \n",
       "HALSHO59F86532630A0    0.000000e+00\n",
       "WOFALK59EE561B427AF    0.000000e+00\n",
       "HALSHO59F8376CA2E1B    0.000000e+00\n",
       "SADMTO5A9D302F6C5EA    0.000000e+00\n",
       "COMHP59D5F64B90CF0     0.000000e+00\n",
       "Name: total, Length: 47932, dtype: float64"
      ]
     },
     "execution_count": 32,
     "metadata": {},
     "output_type": "execute_result"
    }
   ],
   "source": [
    "sales.groupby('sku').total.sum().sort_values(ascending=False)"
   ]
  },
  {
   "cell_type": "code",
   "execution_count": 33,
   "id": "4cc4e94b",
   "metadata": {},
   "outputs": [],
   "source": [
    "##pd.pivot_table(sales, index='sku', values='total', aggfunc=sum, sort=True)"
   ]
  },
  {
   "cell_type": "code",
   "execution_count": 68,
   "id": "0a5fb2df",
   "metadata": {},
   "outputs": [],
   "source": [
    "## (MATSAM5B10F7E2AC8C1) tis sku has more sale"
   ]
  },
  {
   "cell_type": "code",
   "execution_count": null,
   "id": "744aa6c0",
   "metadata": {},
   "outputs": [],
   "source": []
  },
  {
   "cell_type": "markdown",
   "id": "fdeeeea5",
   "metadata": {},
   "source": [
    "## To understand what is the total sales combine of all sku except the sku who has maximum sales"
   ]
  },
  {
   "cell_type": "code",
   "execution_count": 34,
   "id": "f2fdab55",
   "metadata": {},
   "outputs": [
    {
     "data": {
      "text/html": [
       "<div>\n",
       "<style scoped>\n",
       "    .dataframe tbody tr th:only-of-type {\n",
       "        vertical-align: middle;\n",
       "    }\n",
       "\n",
       "    .dataframe tbody tr th {\n",
       "        vertical-align: top;\n",
       "    }\n",
       "\n",
       "    .dataframe thead th {\n",
       "        text-align: right;\n",
       "    }\n",
       "</style>\n",
       "<table border=\"1\" class=\"dataframe\">\n",
       "  <thead>\n",
       "    <tr style=\"text-align: right;\">\n",
       "      <th></th>\n",
       "      <th>order_id</th>\n",
       "      <th>order_date</th>\n",
       "      <th>status</th>\n",
       "      <th>item_id</th>\n",
       "      <th>qty_ordered</th>\n",
       "      <th>price</th>\n",
       "      <th>value</th>\n",
       "      <th>discount_amount</th>\n",
       "      <th>total</th>\n",
       "      <th>category</th>\n",
       "      <th>payment_method</th>\n",
       "      <th>bi_st</th>\n",
       "      <th>year</th>\n",
       "      <th>month</th>\n",
       "      <th>Gender</th>\n",
       "      <th>age</th>\n",
       "      <th>full_name</th>\n",
       "      <th>E Mail</th>\n",
       "      <th>Customer Since</th>\n",
       "      <th>SSN</th>\n",
       "      <th>Phone No.</th>\n",
       "      <th>Place Name</th>\n",
       "      <th>County</th>\n",
       "      <th>City</th>\n",
       "      <th>State</th>\n",
       "      <th>Zip</th>\n",
       "      <th>Region</th>\n",
       "      <th>Discount_Percent</th>\n",
       "    </tr>\n",
       "    <tr>\n",
       "      <th>sku</th>\n",
       "      <th></th>\n",
       "      <th></th>\n",
       "      <th></th>\n",
       "      <th></th>\n",
       "      <th></th>\n",
       "      <th></th>\n",
       "      <th></th>\n",
       "      <th></th>\n",
       "      <th></th>\n",
       "      <th></th>\n",
       "      <th></th>\n",
       "      <th></th>\n",
       "      <th></th>\n",
       "      <th></th>\n",
       "      <th></th>\n",
       "      <th></th>\n",
       "      <th></th>\n",
       "      <th></th>\n",
       "      <th></th>\n",
       "      <th></th>\n",
       "      <th></th>\n",
       "      <th></th>\n",
       "      <th></th>\n",
       "      <th></th>\n",
       "      <th></th>\n",
       "      <th></th>\n",
       "      <th></th>\n",
       "      <th></th>\n",
       "    </tr>\n",
       "  </thead>\n",
       "  <tbody>\n",
       "    <tr>\n",
       "      <th>oasis_Oasis-064-36</th>\n",
       "      <td>100354678</td>\n",
       "      <td>2020-10-01</td>\n",
       "      <td>received</td>\n",
       "      <td>574772.0</td>\n",
       "      <td>21.0</td>\n",
       "      <td>89.9</td>\n",
       "      <td>1798.0</td>\n",
       "      <td>0.0</td>\n",
       "      <td>1798.0</td>\n",
       "      <td>Men's Fashion</td>\n",
       "      <td>cod</td>\n",
       "      <td>Valid</td>\n",
       "      <td>2020</td>\n",
       "      <td>Oct-2020</td>\n",
       "      <td>F</td>\n",
       "      <td>43.0</td>\n",
       "      <td>Titus, Jani</td>\n",
       "      <td>jani.titus@gmail.com</td>\n",
       "      <td>8/22/2006</td>\n",
       "      <td>627-31-5251</td>\n",
       "      <td>405-959-1129</td>\n",
       "      <td>Vinson</td>\n",
       "      <td>Harmon</td>\n",
       "      <td>Vinson</td>\n",
       "      <td>OK</td>\n",
       "      <td>73571</td>\n",
       "      <td>South</td>\n",
       "      <td>0.0</td>\n",
       "    </tr>\n",
       "    <tr>\n",
       "      <th>Fantastic_FT-48</th>\n",
       "      <td>100354678</td>\n",
       "      <td>2020-10-01</td>\n",
       "      <td>received</td>\n",
       "      <td>574774.0</td>\n",
       "      <td>11.0</td>\n",
       "      <td>19.0</td>\n",
       "      <td>190.0</td>\n",
       "      <td>0.0</td>\n",
       "      <td>190.0</td>\n",
       "      <td>Men's Fashion</td>\n",
       "      <td>cod</td>\n",
       "      <td>Valid</td>\n",
       "      <td>2020</td>\n",
       "      <td>Oct-2020</td>\n",
       "      <td>F</td>\n",
       "      <td>43.0</td>\n",
       "      <td>Titus, Jani</td>\n",
       "      <td>jani.titus@gmail.com</td>\n",
       "      <td>8/22/2006</td>\n",
       "      <td>627-31-5251</td>\n",
       "      <td>405-959-1129</td>\n",
       "      <td>Vinson</td>\n",
       "      <td>Harmon</td>\n",
       "      <td>Vinson</td>\n",
       "      <td>OK</td>\n",
       "      <td>73571</td>\n",
       "      <td>South</td>\n",
       "      <td>0.0</td>\n",
       "    </tr>\n",
       "    <tr>\n",
       "      <th>mdeal_DMC-610-8</th>\n",
       "      <td>100354680</td>\n",
       "      <td>2020-10-01</td>\n",
       "      <td>complete</td>\n",
       "      <td>574777.0</td>\n",
       "      <td>9.0</td>\n",
       "      <td>149.9</td>\n",
       "      <td>1199.2</td>\n",
       "      <td>0.0</td>\n",
       "      <td>1199.2</td>\n",
       "      <td>Men's Fashion</td>\n",
       "      <td>cod</td>\n",
       "      <td>Net</td>\n",
       "      <td>2020</td>\n",
       "      <td>Oct-2020</td>\n",
       "      <td>F</td>\n",
       "      <td>43.0</td>\n",
       "      <td>Titus, Jani</td>\n",
       "      <td>jani.titus@gmail.com</td>\n",
       "      <td>8/22/2006</td>\n",
       "      <td>627-31-5251</td>\n",
       "      <td>405-959-1129</td>\n",
       "      <td>Vinson</td>\n",
       "      <td>Harmon</td>\n",
       "      <td>Vinson</td>\n",
       "      <td>OK</td>\n",
       "      <td>73571</td>\n",
       "      <td>South</td>\n",
       "      <td>0.0</td>\n",
       "    </tr>\n",
       "  </tbody>\n",
       "</table>\n",
       "</div>"
      ],
      "text/plain": [
       "                     order_id  order_date    status   item_id  qty_ordered  \\\n",
       "sku                                                                          \n",
       "oasis_Oasis-064-36  100354678  2020-10-01  received  574772.0         21.0   \n",
       "Fantastic_FT-48     100354678  2020-10-01  received  574774.0         11.0   \n",
       "mdeal_DMC-610-8     100354680  2020-10-01  complete  574777.0          9.0   \n",
       "\n",
       "                    price   value  discount_amount   total       category  \\\n",
       "sku                                                                         \n",
       "oasis_Oasis-064-36   89.9  1798.0              0.0  1798.0  Men's Fashion   \n",
       "Fantastic_FT-48      19.0   190.0              0.0   190.0  Men's Fashion   \n",
       "mdeal_DMC-610-8     149.9  1199.2              0.0  1199.2  Men's Fashion   \n",
       "\n",
       "                   payment_method  bi_st  year     month Gender   age  \\\n",
       "sku                                                                     \n",
       "oasis_Oasis-064-36            cod  Valid  2020  Oct-2020      F  43.0   \n",
       "Fantastic_FT-48               cod  Valid  2020  Oct-2020      F  43.0   \n",
       "mdeal_DMC-610-8               cod    Net  2020  Oct-2020      F  43.0   \n",
       "\n",
       "                      full_name                E Mail Customer Since  \\\n",
       "sku                                                                    \n",
       "oasis_Oasis-064-36  Titus, Jani  jani.titus@gmail.com      8/22/2006   \n",
       "Fantastic_FT-48     Titus, Jani  jani.titus@gmail.com      8/22/2006   \n",
       "mdeal_DMC-610-8     Titus, Jani  jani.titus@gmail.com      8/22/2006   \n",
       "\n",
       "                            SSN    Phone No.  Place Name  County    City  \\\n",
       "sku                                                                        \n",
       "oasis_Oasis-064-36  627-31-5251  405-959-1129     Vinson  Harmon  Vinson   \n",
       "Fantastic_FT-48     627-31-5251  405-959-1129     Vinson  Harmon  Vinson   \n",
       "mdeal_DMC-610-8     627-31-5251  405-959-1129     Vinson  Harmon  Vinson   \n",
       "\n",
       "                   State    Zip Region  Discount_Percent  \n",
       "sku                                                       \n",
       "oasis_Oasis-064-36    OK  73571  South               0.0  \n",
       "Fantastic_FT-48       OK  73571  South               0.0  \n",
       "mdeal_DMC-610-8       OK  73571  South               0.0  "
      ]
     },
     "execution_count": 34,
     "metadata": {},
     "output_type": "execute_result"
    }
   ],
   "source": [
    "sales_df.head(3)"
   ]
  },
  {
   "cell_type": "code",
   "execution_count": 35,
   "id": "93479836",
   "metadata": {},
   "outputs": [],
   "source": [
    "## to get total sales combine drop the sku which is giving maximum sales\n",
    "sales_df.drop('MATSAM5B10F7E2AC8C1', axis=0, inplace=True)"
   ]
  },
  {
   "cell_type": "code",
   "execution_count": 36,
   "id": "792afc9a",
   "metadata": {},
   "outputs": [
    {
     "data": {
      "text/plain": [
       "221240668.72200996"
      ]
     },
     "execution_count": 36,
     "metadata": {},
     "output_type": "execute_result"
    }
   ],
   "source": [
    "sales_df.total.sum()"
   ]
  },
  {
   "cell_type": "code",
   "execution_count": null,
   "id": "9711444a",
   "metadata": {},
   "outputs": [],
   "source": [
    "## concluded that the sku who has maximum sales value is less than the sales value of all the other combine"
   ]
  },
  {
   "cell_type": "code",
   "execution_count": null,
   "id": "73be46bc",
   "metadata": {},
   "outputs": [],
   "source": []
  },
  {
   "cell_type": "code",
   "execution_count": null,
   "id": "8dc41838",
   "metadata": {},
   "outputs": [],
   "source": []
  },
  {
   "cell_type": "markdown",
   "id": "0ab73a25",
   "metadata": {},
   "source": [
    "## Which category has more sales"
   ]
  },
  {
   "cell_type": "code",
   "execution_count": 38,
   "id": "2e443b94",
   "metadata": {
    "scrolled": true
   },
   "outputs": [],
   "source": [
    "##pd.pivot_table(sales, values='total', index='category', aggfunc=sum)"
   ]
  },
  {
   "cell_type": "code",
   "execution_count": 39,
   "id": "f271bf26",
   "metadata": {},
   "outputs": [
    {
     "data": {
      "text/plain": [
       "category\n",
       "Mobiles & Tablets     1.301120e+08\n",
       "Appliances            3.006084e+07\n",
       "Entertainment         2.713843e+07\n",
       "Others                1.556433e+07\n",
       "Computing             9.362343e+06\n",
       "Women's Fashion       6.649842e+06\n",
       "Men's Fashion         4.820147e+06\n",
       "Superstore            2.886907e+06\n",
       "Beauty & Grooming     2.644748e+06\n",
       "Home & Living         1.810582e+06\n",
       "Health & Sports       1.019958e+06\n",
       "Kids & Baby           8.562133e+05\n",
       "Soghaat               5.766999e+05\n",
       "School & Education    1.147401e+05\n",
       "Books                 3.241695e+04\n",
       "Name: total, dtype: float64"
      ]
     },
     "execution_count": 39,
     "metadata": {},
     "output_type": "execute_result"
    }
   ],
   "source": [
    "sales.groupby('category').total.sum().sort_values(ascending=False)"
   ]
  },
  {
   "cell_type": "code",
   "execution_count": 13,
   "id": "1b9b28e0",
   "metadata": {},
   "outputs": [
    {
     "data": {
      "image/png": "[encoded data removed]",
      "text/plain": [
       "<Figure size 576x576 with 1 Axes>"
      ]
     },
     "metadata": {},
     "output_type": "display_data"
    }
   ],
   "source": [
    "def add_value_label(x_list,y_list):\n",
    "    for i in range(len(x_list)):\n",
    "        plt.annotate(y_list[i],(i,y_list[i]), ha='center')\n",
    "\n",
    "plt.figure(figsize=(8,8))\n",
    "sns.set_style('dark')\n",
    "sns.barplot(x='category', y='total', data= sales, estimator=sum, ci=None,\n",
    "           order=sales.groupby('category').total.sum().sort_values(ascending=False)[:5].index)\n",
    "plt.xticks(rotation=45)\n",
    "plt.xlabel('Category', fontsize=15)\n",
    "plt.ylabel('Total', fontsize=15)\n",
    "plt.title('Category wise Sales', fontsize=20, fontstyle='italic')\n",
    "\n",
    "a=sales.groupby('category').total.sum().sort_values(ascending=False)[:5].index\n",
    "b=sales.groupby('category').total.sum().sort_values(ascending=False)[:5].values\n",
    "\n",
    "add_value_label(a,b);"
   ]
  },
  {
   "cell_type": "code",
   "execution_count": null,
   "id": "4c0e930c",
   "metadata": {},
   "outputs": [],
   "source": []
  },
  {
   "cell_type": "code",
   "execution_count": null,
   "id": "997ba438",
   "metadata": {},
   "outputs": [],
   "source": []
  },
  {
   "cell_type": "markdown",
   "id": "90ae92d5",
   "metadata": {},
   "source": [
    "## Which payment mode is most preffered in high selling category"
   ]
  },
  {
   "cell_type": "code",
   "execution_count": 15,
   "id": "55780174",
   "metadata": {},
   "outputs": [],
   "source": [
    "mobile_tablet=sales[sales['category']=='Mobiles & Tablets']"
   ]
  },
  {
   "cell_type": "code",
   "execution_count": 16,
   "id": "871d18f7",
   "metadata": {},
   "outputs": [
    {
     "data": {
      "text/html": [
       "<div>\n",
       "<style scoped>\n",
       "    .dataframe tbody tr th:only-of-type {\n",
       "        vertical-align: middle;\n",
       "    }\n",
       "\n",
       "    .dataframe tbody tr th {\n",
       "        vertical-align: top;\n",
       "    }\n",
       "\n",
       "    .dataframe thead th {\n",
       "        text-align: right;\n",
       "    }\n",
       "</style>\n",
       "<table border=\"1\" class=\"dataframe\">\n",
       "  <thead>\n",
       "    <tr style=\"text-align: right;\">\n",
       "      <th></th>\n",
       "      <th>order_id</th>\n",
       "      <th>order_date</th>\n",
       "      <th>status</th>\n",
       "      <th>item_id</th>\n",
       "      <th>sku</th>\n",
       "      <th>qty_ordered</th>\n",
       "      <th>price</th>\n",
       "      <th>value</th>\n",
       "      <th>discount_amount</th>\n",
       "      <th>total</th>\n",
       "      <th>category</th>\n",
       "      <th>payment_method</th>\n",
       "      <th>bi_st</th>\n",
       "      <th>year</th>\n",
       "      <th>month</th>\n",
       "      <th>Gender</th>\n",
       "      <th>age</th>\n",
       "      <th>full_name</th>\n",
       "      <th>E Mail</th>\n",
       "      <th>Customer Since</th>\n",
       "      <th>SSN</th>\n",
       "      <th>Phone No.</th>\n",
       "      <th>Place Name</th>\n",
       "      <th>County</th>\n",
       "      <th>City</th>\n",
       "      <th>State</th>\n",
       "      <th>Zip</th>\n",
       "      <th>Region</th>\n",
       "      <th>Discount_Percent</th>\n",
       "    </tr>\n",
       "  </thead>\n",
       "  <tbody>\n",
       "    <tr>\n",
       "      <th>6</th>\n",
       "      <td>100367360</td>\n",
       "      <td>2020-11-13</td>\n",
       "      <td>order_refunded</td>\n",
       "      <td>595192.0</td>\n",
       "      <td>MATDAN59C3C845B38F0</td>\n",
       "      <td>2.0</td>\n",
       "      <td>47.6</td>\n",
       "      <td>47.6</td>\n",
       "      <td>0.0</td>\n",
       "      <td>47.6</td>\n",
       "      <td>Mobiles &amp; Tablets</td>\n",
       "      <td>cod</td>\n",
       "      <td>Valid</td>\n",
       "      <td>2020</td>\n",
       "      <td>Nov-2020</td>\n",
       "      <td>F</td>\n",
       "      <td>43.0</td>\n",
       "      <td>Titus, Jani</td>\n",
       "      <td>jani.titus@gmail.com</td>\n",
       "      <td>8/22/2006</td>\n",
       "      <td>627-31-5251</td>\n",
       "      <td>405-959-1129</td>\n",
       "      <td>Vinson</td>\n",
       "      <td>Harmon</td>\n",
       "      <td>Vinson</td>\n",
       "      <td>OK</td>\n",
       "      <td>73571</td>\n",
       "      <td>South</td>\n",
       "      <td>0.0</td>\n",
       "    </tr>\n",
       "    <tr>\n",
       "      <th>7</th>\n",
       "      <td>100354677</td>\n",
       "      <td>2020-10-01</td>\n",
       "      <td>canceled</td>\n",
       "      <td>574769.0</td>\n",
       "      <td>GFE_19_USBLEDLight</td>\n",
       "      <td>2.0</td>\n",
       "      <td>49.0</td>\n",
       "      <td>49.0</td>\n",
       "      <td>0.0</td>\n",
       "      <td>49.0</td>\n",
       "      <td>Mobiles &amp; Tablets</td>\n",
       "      <td>Payaxis</td>\n",
       "      <td>Gross</td>\n",
       "      <td>2020</td>\n",
       "      <td>Oct-2020</td>\n",
       "      <td>M</td>\n",
       "      <td>28.0</td>\n",
       "      <td>Eaker, Lee</td>\n",
       "      <td>lee.eaker@gmail.com</td>\n",
       "      <td>2/4/1981</td>\n",
       "      <td>185-86-4345</td>\n",
       "      <td>239-335-6755</td>\n",
       "      <td>Graham</td>\n",
       "      <td>Bradford</td>\n",
       "      <td>Graham</td>\n",
       "      <td>FL</td>\n",
       "      <td>32042</td>\n",
       "      <td>South</td>\n",
       "      <td>0.0</td>\n",
       "    </tr>\n",
       "    <tr>\n",
       "      <th>48</th>\n",
       "      <td>100354685</td>\n",
       "      <td>2020-10-01</td>\n",
       "      <td>canceled</td>\n",
       "      <td>574788.0</td>\n",
       "      <td>cc_samsung_a320-black</td>\n",
       "      <td>2.0</td>\n",
       "      <td>3139.2</td>\n",
       "      <td>3139.2</td>\n",
       "      <td>0.0</td>\n",
       "      <td>3139.2</td>\n",
       "      <td>Mobiles &amp; Tablets</td>\n",
       "      <td>Payaxis</td>\n",
       "      <td>Gross</td>\n",
       "      <td>2020</td>\n",
       "      <td>Oct-2020</td>\n",
       "      <td>F</td>\n",
       "      <td>64.0</td>\n",
       "      <td>Galle, Drema</td>\n",
       "      <td>drema.galle@gmail.com</td>\n",
       "      <td>10/19/2016</td>\n",
       "      <td>652-62-4375</td>\n",
       "      <td>229-364-7348</td>\n",
       "      <td>Farmington</td>\n",
       "      <td>Oconee</td>\n",
       "      <td>Farmington</td>\n",
       "      <td>GA</td>\n",
       "      <td>30638</td>\n",
       "      <td>South</td>\n",
       "      <td>0.0</td>\n",
       "    </tr>\n",
       "  </tbody>\n",
       "</table>\n",
       "</div>"
      ],
      "text/plain": [
       "     order_id  order_date          status   item_id                    sku  \\\n",
       "6   100367360  2020-11-13  order_refunded  595192.0    MATDAN59C3C845B38F0   \n",
       "7   100354677  2020-10-01        canceled  574769.0     GFE_19_USBLEDLight   \n",
       "48  100354685  2020-10-01        canceled  574788.0  cc_samsung_a320-black   \n",
       "\n",
       "    qty_ordered   price   value  discount_amount   total           category  \\\n",
       "6           2.0    47.6    47.6              0.0    47.6  Mobiles & Tablets   \n",
       "7           2.0    49.0    49.0              0.0    49.0  Mobiles & Tablets   \n",
       "48          2.0  3139.2  3139.2              0.0  3139.2  Mobiles & Tablets   \n",
       "\n",
       "   payment_method  bi_st  year     month Gender   age     full_name  \\\n",
       "6             cod  Valid  2020  Nov-2020      F  43.0   Titus, Jani   \n",
       "7         Payaxis  Gross  2020  Oct-2020      M  28.0    Eaker, Lee   \n",
       "48        Payaxis  Gross  2020  Oct-2020      F  64.0  Galle, Drema   \n",
       "\n",
       "                   E Mail Customer Since          SSN    Phone No.   \\\n",
       "6    jani.titus@gmail.com      8/22/2006  627-31-5251  405-959-1129   \n",
       "7     lee.eaker@gmail.com       2/4/1981  185-86-4345  239-335-6755   \n",
       "48  drema.galle@gmail.com     10/19/2016  652-62-4375  229-364-7348   \n",
       "\n",
       "    Place Name    County        City State    Zip Region  Discount_Percent  \n",
       "6       Vinson    Harmon      Vinson    OK  73571  South               0.0  \n",
       "7       Graham  Bradford      Graham    FL  32042  South               0.0  \n",
       "48  Farmington    Oconee  Farmington    GA  30638  South               0.0  "
      ]
     },
     "execution_count": 16,
     "metadata": {},
     "output_type": "execute_result"
    }
   ],
   "source": [
    "mobile_tablet.head(3)"
   ]
  },
  {
   "cell_type": "code",
   "execution_count": 43,
   "id": "18df545a",
   "metadata": {},
   "outputs": [
    {
     "data": {
      "text/plain": [
       "Easypay              15620\n",
       "cod                  11913\n",
       "easypay_voucher      11828\n",
       "Payaxis               9001\n",
       "bankalfalah           7352\n",
       "jazzvoucher           2595\n",
       "Easypay_MA            2012\n",
       "jazzwallet             658\n",
       "customercredit         442\n",
       "apg                    294\n",
       "mcblite                 36\n",
       "cashatdoorstep           9\n",
       "financesettlement        1\n",
       "Name: payment_method, dtype: int64"
      ]
     },
     "execution_count": 43,
     "metadata": {},
     "output_type": "execute_result"
    }
   ],
   "source": [
    "mobile_tablet.payment_method.value_counts()"
   ]
  },
  {
   "cell_type": "code",
   "execution_count": 20,
   "id": "5596ef0e",
   "metadata": {},
   "outputs": [
    {
     "data": {
      "image/png": "[encoded data removed]",
      "text/plain": [
       "<Figure size 1080x576 with 1 Axes>"
      ]
     },
     "metadata": {},
     "output_type": "display_data"
    }
   ],
   "source": [
    "plt.figure(figsize=(15,8))\n",
    "ax=sns.countplot(y='payment_method', data=mobile_tablet,\n",
    "             order=mobile_tablet.payment_method.value_counts().index,\n",
    "             linewidth=0.5, edgecolor='black')\n",
    "label_values=mobile_tablet.payment_method.value_counts(ascending=False).values\n",
    "ax.bar_label(container=ax.containers[0], labels=label_values);"
   ]
  },
  {
   "cell_type": "code",
   "execution_count": 19,
   "id": "a0bc2b0a",
   "metadata": {},
   "outputs": [
    {
     "name": "stdout",
     "output_type": "stream",
     "text": [
      "Men's Fashion\n",
      "Men's Fashion\n",
      "Men's Fashion\n",
      "Men's Fashion\n",
      "Men's Fashion\n",
      "Men's Fashion\n",
      "Mobiles & Tablets\n",
      "Mobiles & Tablets\n"
     ]
    },
    {
     "ename": "KeyboardInterrupt",
     "evalue": "",
     "output_type": "error",
     "traceback": [
      "\u001b[1;31m---------------------------------------------------------------------------\u001b[0m",
      "\u001b[1;31mKeyboardInterrupt\u001b[0m                         Traceback (most recent call last)",
      "\u001b[1;32m~\\AppData\\Local\\Temp/ipykernel_16324/1682117049.py\u001b[0m in \u001b[0;36m<module>\u001b[1;34m\u001b[0m\n\u001b[0;32m      1\u001b[0m \u001b[1;32mfor\u001b[0m \u001b[0mx\u001b[0m \u001b[1;32min\u001b[0m \u001b[0msales\u001b[0m\u001b[1;33m.\u001b[0m\u001b[0mcategory\u001b[0m\u001b[1;33m:\u001b[0m\u001b[1;33m\u001b[0m\u001b[1;33m\u001b[0m\u001b[0m\n\u001b[0;32m      2\u001b[0m     \u001b[0mprint\u001b[0m\u001b[1;33m(\u001b[0m\u001b[0mx\u001b[0m\u001b[1;33m)\u001b[0m\u001b[1;33m\u001b[0m\u001b[1;33m\u001b[0m\u001b[0m\n\u001b[1;32m----> 3\u001b[1;33m     \u001b[1;32mfor\u001b[0m \u001b[0my\u001b[0m \u001b[1;32min\u001b[0m \u001b[0msales\u001b[0m\u001b[1;33m.\u001b[0m\u001b[0mtotal\u001b[0m\u001b[1;33m:\u001b[0m\u001b[1;33m\u001b[0m\u001b[1;33m\u001b[0m\u001b[0m\n\u001b[0m\u001b[0;32m      4\u001b[0m         \u001b[1;32mif\u001b[0m \u001b[0my\u001b[0m \u001b[1;32mis\u001b[0m \u001b[0mmax\u001b[0m\u001b[1;33m:\u001b[0m\u001b[1;33m\u001b[0m\u001b[1;33m\u001b[0m\u001b[0m\n\u001b[0;32m      5\u001b[0m             \u001b[0mprint\u001b[0m\u001b[1;33m(\u001b[0m\u001b[0my\u001b[0m\u001b[1;33m)\u001b[0m\u001b[1;33m\u001b[0m\u001b[1;33m\u001b[0m\u001b[0m\n",
      "\u001b[1;31mKeyboardInterrupt\u001b[0m: "
     ]
    }
   ],
   "source": [
    "for x in sales.category:\n",
    "    print(x)\n",
    "    for y in sales.total:\n",
    "        if y is max:\n",
    "            print(y)"
   ]
  },
  {
   "cell_type": "code",
   "execution_count": null,
   "id": "e6cb91fe",
   "metadata": {},
   "outputs": [],
   "source": []
  },
  {
   "cell_type": "code",
   "execution_count": null,
   "id": "1ce223b6",
   "metadata": {},
   "outputs": [],
   "source": []
  },
  {
   "cell_type": "markdown",
   "id": "73ed3553",
   "metadata": {},
   "source": [
    "## Which customer is giving maximum bussiness"
   ]
  },
  {
   "cell_type": "code",
   "execution_count": 20,
   "id": "8f59cd41",
   "metadata": {
    "scrolled": true
   },
   "outputs": [
    {
     "data": {
      "text/plain": [
       "64212"
      ]
     },
     "execution_count": 20,
     "metadata": {},
     "output_type": "execute_result"
    }
   ],
   "source": [
    "sales.full_name.nunique()"
   ]
  },
  {
   "cell_type": "code",
   "execution_count": 52,
   "id": "c78daaa0",
   "metadata": {},
   "outputs": [],
   "source": [
    "##pd.pivot_table(sales, index='full_name', values='total' ,aggfunc=sum, sort=True)"
   ]
  },
  {
   "cell_type": "code",
   "execution_count": 22,
   "id": "5d437212",
   "metadata": {},
   "outputs": [
    {
     "data": {
      "text/plain": [
       "full_name\n",
       "Dobbins, Everette     1900289.90\n",
       "Cobb, Joleen          1628440.10\n",
       "Bhatt, Graham         1568177.60\n",
       "Jauregui, Bianca      1368422.60\n",
       "Beebe, Hortencia      1295994.58\n",
       "                         ...    \n",
       "Enger, Jeremiah             0.00\n",
       "Meister, Bradford           0.00\n",
       "Petrucci, Kimberly          0.00\n",
       "Knisley, Sueann             0.00\n",
       "Scheidt, Johnathan          0.00\n",
       "Name: total, Length: 64212, dtype: float64"
      ]
     },
     "execution_count": 22,
     "metadata": {},
     "output_type": "execute_result"
    }
   ],
   "source": [
    "sales.groupby('full_name').total.sum().sort_values(ascending=False)"
   ]
  },
  {
   "cell_type": "code",
   "execution_count": 23,
   "id": "3b50131b",
   "metadata": {},
   "outputs": [],
   "source": [
    "cust=sales[sales['full_name']=='Dobbins, Everette']"
   ]
  },
  {
   "cell_type": "code",
   "execution_count": 55,
   "id": "ab6e0dab",
   "metadata": {},
   "outputs": [
    {
     "data": {
      "text/html": [
       "<div>\n",
       "<style scoped>\n",
       "    .dataframe tbody tr th:only-of-type {\n",
       "        vertical-align: middle;\n",
       "    }\n",
       "\n",
       "    .dataframe tbody tr th {\n",
       "        vertical-align: top;\n",
       "    }\n",
       "\n",
       "    .dataframe thead th {\n",
       "        text-align: right;\n",
       "    }\n",
       "</style>\n",
       "<table border=\"1\" class=\"dataframe\">\n",
       "  <thead>\n",
       "    <tr style=\"text-align: right;\">\n",
       "      <th></th>\n",
       "      <th>order_id</th>\n",
       "      <th>order_date</th>\n",
       "      <th>status</th>\n",
       "      <th>item_id</th>\n",
       "      <th>sku</th>\n",
       "      <th>qty_ordered</th>\n",
       "      <th>price</th>\n",
       "      <th>value</th>\n",
       "      <th>discount_amount</th>\n",
       "      <th>total</th>\n",
       "      <th>category</th>\n",
       "      <th>payment_method</th>\n",
       "      <th>bi_st</th>\n",
       "      <th>year</th>\n",
       "      <th>month</th>\n",
       "      <th>Gender</th>\n",
       "      <th>age</th>\n",
       "      <th>full_name</th>\n",
       "      <th>E Mail</th>\n",
       "      <th>Customer Since</th>\n",
       "      <th>SSN</th>\n",
       "      <th>Phone No.</th>\n",
       "      <th>Place Name</th>\n",
       "      <th>County</th>\n",
       "      <th>City</th>\n",
       "      <th>State</th>\n",
       "      <th>Zip</th>\n",
       "      <th>Region</th>\n",
       "      <th>Discount_Percent</th>\n",
       "    </tr>\n",
       "  </thead>\n",
       "  <tbody>\n",
       "    <tr>\n",
       "      <th>262916</th>\n",
       "      <td>100532250</td>\n",
       "      <td>2021-06-21</td>\n",
       "      <td>received</td>\n",
       "      <td>853739.0</td>\n",
       "      <td>MATAPP5A7AAB91AD66F</td>\n",
       "      <td>2.0</td>\n",
       "      <td>14204.0</td>\n",
       "      <td>14204.0</td>\n",
       "      <td>0.0</td>\n",
       "      <td>14204.0</td>\n",
       "      <td>Mobiles &amp; Tablets</td>\n",
       "      <td>bankalfalah</td>\n",
       "      <td>Valid</td>\n",
       "      <td>2021</td>\n",
       "      <td>Jun-2021</td>\n",
       "      <td>M</td>\n",
       "      <td>39.0</td>\n",
       "      <td>Dobbins, Everette</td>\n",
       "      <td>everette.dobbins@aol.com</td>\n",
       "      <td>6/12/1991</td>\n",
       "      <td>356-08-0619</td>\n",
       "      <td>228-279-2621</td>\n",
       "      <td>Noxapater</td>\n",
       "      <td>Winston</td>\n",
       "      <td>Noxapater</td>\n",
       "      <td>MS</td>\n",
       "      <td>39346</td>\n",
       "      <td>South</td>\n",
       "      <td>0.000000</td>\n",
       "    </tr>\n",
       "    <tr>\n",
       "      <th>262917</th>\n",
       "      <td>100532250</td>\n",
       "      <td>2021-06-21</td>\n",
       "      <td>received</td>\n",
       "      <td>853740.0</td>\n",
       "      <td>ENTSON5A69C1DD26B24</td>\n",
       "      <td>2.0</td>\n",
       "      <td>9583.3</td>\n",
       "      <td>9583.3</td>\n",
       "      <td>0.0</td>\n",
       "      <td>9583.3</td>\n",
       "      <td>Entertainment</td>\n",
       "      <td>bankalfalah</td>\n",
       "      <td>Valid</td>\n",
       "      <td>2021</td>\n",
       "      <td>Jun-2021</td>\n",
       "      <td>M</td>\n",
       "      <td>39.0</td>\n",
       "      <td>Dobbins, Everette</td>\n",
       "      <td>everette.dobbins@aol.com</td>\n",
       "      <td>6/12/1991</td>\n",
       "      <td>356-08-0619</td>\n",
       "      <td>228-279-2621</td>\n",
       "      <td>Noxapater</td>\n",
       "      <td>Winston</td>\n",
       "      <td>Noxapater</td>\n",
       "      <td>MS</td>\n",
       "      <td>39346</td>\n",
       "      <td>South</td>\n",
       "      <td>0.000000</td>\n",
       "    </tr>\n",
       "    <tr>\n",
       "      <th>262918</th>\n",
       "      <td>100532252</td>\n",
       "      <td>2021-06-21</td>\n",
       "      <td>received</td>\n",
       "      <td>853743.0</td>\n",
       "      <td>MATSAM5A9F892ECDF73</td>\n",
       "      <td>1.0</td>\n",
       "      <td>10169.9</td>\n",
       "      <td>0.0</td>\n",
       "      <td>0.0</td>\n",
       "      <td>0.0</td>\n",
       "      <td>Mobiles &amp; Tablets</td>\n",
       "      <td>bankalfalah</td>\n",
       "      <td>Valid</td>\n",
       "      <td>2021</td>\n",
       "      <td>Jun-2021</td>\n",
       "      <td>M</td>\n",
       "      <td>39.0</td>\n",
       "      <td>Dobbins, Everette</td>\n",
       "      <td>everette.dobbins@aol.com</td>\n",
       "      <td>6/12/1991</td>\n",
       "      <td>356-08-0619</td>\n",
       "      <td>228-279-2621</td>\n",
       "      <td>Noxapater</td>\n",
       "      <td>Winston</td>\n",
       "      <td>Noxapater</td>\n",
       "      <td>MS</td>\n",
       "      <td>39346</td>\n",
       "      <td>South</td>\n",
       "      <td>7.500005</td>\n",
       "    </tr>\n",
       "  </tbody>\n",
       "</table>\n",
       "</div>"
      ],
      "text/plain": [
       "         order_id  order_date    status   item_id                  sku  \\\n",
       "262916  100532250  2021-06-21  received  853739.0  MATAPP5A7AAB91AD66F   \n",
       "262917  100532250  2021-06-21  received  853740.0  ENTSON5A69C1DD26B24   \n",
       "262918  100532252  2021-06-21  received  853743.0  MATSAM5A9F892ECDF73   \n",
       "\n",
       "        qty_ordered    price    value  discount_amount    total  \\\n",
       "262916          2.0  14204.0  14204.0              0.0  14204.0   \n",
       "262917          2.0   9583.3   9583.3              0.0   9583.3   \n",
       "262918          1.0  10169.9      0.0              0.0      0.0   \n",
       "\n",
       "                 category payment_method  bi_st  year     month Gender   age  \\\n",
       "262916  Mobiles & Tablets    bankalfalah  Valid  2021  Jun-2021      M  39.0   \n",
       "262917      Entertainment    bankalfalah  Valid  2021  Jun-2021      M  39.0   \n",
       "262918  Mobiles & Tablets    bankalfalah  Valid  2021  Jun-2021      M  39.0   \n",
       "\n",
       "                full_name                    E Mail Customer Since  \\\n",
       "262916  Dobbins, Everette  everette.dobbins@aol.com      6/12/1991   \n",
       "262917  Dobbins, Everette  everette.dobbins@aol.com      6/12/1991   \n",
       "262918  Dobbins, Everette  everette.dobbins@aol.com      6/12/1991   \n",
       "\n",
       "                SSN    Phone No.  Place Name   County       City State    Zip  \\\n",
       "262916  356-08-0619  228-279-2621  Noxapater  Winston  Noxapater    MS  39346   \n",
       "262917  356-08-0619  228-279-2621  Noxapater  Winston  Noxapater    MS  39346   \n",
       "262918  356-08-0619  228-279-2621  Noxapater  Winston  Noxapater    MS  39346   \n",
       "\n",
       "       Region  Discount_Percent  \n",
       "262916  South          0.000000  \n",
       "262917  South          0.000000  \n",
       "262918  South          7.500005  "
      ]
     },
     "execution_count": 55,
     "metadata": {},
     "output_type": "execute_result"
    }
   ],
   "source": [
    "cust.head(3)"
   ]
  },
  {
   "cell_type": "code",
   "execution_count": 56,
   "id": "ef7b57a2",
   "metadata": {},
   "outputs": [
    {
     "data": {
      "text/plain": [
       "1900289.9000000001"
      ]
     },
     "execution_count": 56,
     "metadata": {},
     "output_type": "execute_result"
    }
   ],
   "source": [
    "cust.total.sum()"
   ]
  },
  {
   "cell_type": "code",
   "execution_count": null,
   "id": "c043659b",
   "metadata": {},
   "outputs": [],
   "source": []
  },
  {
   "cell_type": "code",
   "execution_count": null,
   "id": "9355c308",
   "metadata": {},
   "outputs": [],
   "source": []
  },
  {
   "cell_type": "markdown",
   "id": "5a6d2f8d",
   "metadata": {},
   "source": [
    "## Which is the category, the person who is giving maximum bussiness is shopping more"
   ]
  },
  {
   "cell_type": "code",
   "execution_count": 27,
   "id": "6c85f511",
   "metadata": {},
   "outputs": [
    {
     "data": {
      "text/html": [
       "<div>\n",
       "<style scoped>\n",
       "    .dataframe tbody tr th:only-of-type {\n",
       "        vertical-align: middle;\n",
       "    }\n",
       "\n",
       "    .dataframe tbody tr th {\n",
       "        vertical-align: top;\n",
       "    }\n",
       "\n",
       "    .dataframe thead th {\n",
       "        text-align: right;\n",
       "    }\n",
       "</style>\n",
       "<table border=\"1\" class=\"dataframe\">\n",
       "  <thead>\n",
       "    <tr style=\"text-align: right;\">\n",
       "      <th></th>\n",
       "      <th>total</th>\n",
       "    </tr>\n",
       "    <tr>\n",
       "      <th>category</th>\n",
       "      <th></th>\n",
       "    </tr>\n",
       "  </thead>\n",
       "  <tbody>\n",
       "    <tr>\n",
       "      <th>Appliances</th>\n",
       "      <td>12478.9</td>\n",
       "    </tr>\n",
       "    <tr>\n",
       "      <th>Beauty &amp; Grooming</th>\n",
       "      <td>766.0</td>\n",
       "    </tr>\n",
       "    <tr>\n",
       "      <th>Entertainment</th>\n",
       "      <td>88590.7</td>\n",
       "    </tr>\n",
       "    <tr>\n",
       "      <th>Home &amp; Living</th>\n",
       "      <td>1700.0</td>\n",
       "    </tr>\n",
       "    <tr>\n",
       "      <th>Men's Fashion</th>\n",
       "      <td>1598.8</td>\n",
       "    </tr>\n",
       "    <tr>\n",
       "      <th>Mobiles &amp; Tablets</th>\n",
       "      <td>1795155.5</td>\n",
       "    </tr>\n",
       "  </tbody>\n",
       "</table>\n",
       "</div>"
      ],
      "text/plain": [
       "                       total\n",
       "category                    \n",
       "Appliances           12478.9\n",
       "Beauty & Grooming      766.0\n",
       "Entertainment        88590.7\n",
       "Home & Living         1700.0\n",
       "Men's Fashion         1598.8\n",
       "Mobiles & Tablets  1795155.5"
      ]
     },
     "execution_count": 27,
     "metadata": {},
     "output_type": "execute_result"
    }
   ],
   "source": [
    "pd.pivot_table(cust, index='category', values='total', aggfunc=sum)"
   ]
  },
  {
   "cell_type": "code",
   "execution_count": 60,
   "id": "563aa918",
   "metadata": {},
   "outputs": [
    {
     "data": {
      "text/plain": [
       "Index(['Mobiles & Tablets', 'Entertainment', 'Appliances', 'Home & Living',\n",
       "       'Men's Fashion', 'Beauty & Grooming'],\n",
       "      dtype='object', name='category')"
      ]
     },
     "execution_count": 60,
     "metadata": {},
     "output_type": "execute_result"
    }
   ],
   "source": [
    "cust.groupby('category').total.sum().sort_values(ascending=False).index"
   ]
  },
  {
   "cell_type": "code",
   "execution_count": 29,
   "id": "c42f1830",
   "metadata": {},
   "outputs": [
    {
     "data": {
      "image/png": "[encoded data removed]",
      "text/plain": [
       "<Figure size 640x560 with 1 Axes>"
      ]
     },
     "metadata": {},
     "output_type": "display_data"
    }
   ],
   "source": [
    "def add_value_label(x_list,y_list):\n",
    "    for i in range(len(x_list)):\n",
    "        plt.text(i,y_list[i]/2,y_list[i], ha=\"center\", fontsize=15)\n",
    "\n",
    "\n",
    "plt.style.use('classic')\n",
    "plt.figure(figsize=(8,7))\n",
    "sns.barplot(y='total', x='category', data=cust, estimator=sum, ci=None,\n",
    "            order=cust.groupby('category').total.sum().sort_values(ascending=False).index)\n",
    "plt.xlabel('Category', fontsize=15)\n",
    "plt.ylabel('Total sales amount', fontsize=15)\n",
    "plt.xticks(rotation=45)\n",
    "plt.title('Shooping by Dobbins Everette')\n",
    "\n",
    "a=cust.groupby('category').total.sum().sort_values(ascending=False).index\n",
    "b=cust.groupby('category').total.sum().sort_values(ascending=False).values\n",
    "\n",
    "add_value_label(a,b)"
   ]
  },
  {
   "cell_type": "code",
   "execution_count": null,
   "id": "5b1012e9",
   "metadata": {},
   "outputs": [],
   "source": []
  },
  {
   "cell_type": "code",
   "execution_count": null,
   "id": "2390dad4",
   "metadata": {},
   "outputs": [],
   "source": []
  },
  {
   "cell_type": "markdown",
   "id": "fdfbebc3",
   "metadata": {},
   "source": [
    "## Which region has highest sales"
   ]
  },
  {
   "cell_type": "code",
   "execution_count": 62,
   "id": "e1a98425",
   "metadata": {},
   "outputs": [
    {
     "data": {
      "text/plain": [
       "4"
      ]
     },
     "execution_count": 62,
     "metadata": {},
     "output_type": "execute_result"
    }
   ],
   "source": [
    "sales.Region.nunique()"
   ]
  },
  {
   "cell_type": "code",
   "execution_count": 63,
   "id": "b7f909c3",
   "metadata": {},
   "outputs": [
    {
     "data": {
      "text/html": [
       "<div>\n",
       "<style scoped>\n",
       "    .dataframe tbody tr th:only-of-type {\n",
       "        vertical-align: middle;\n",
       "    }\n",
       "\n",
       "    .dataframe tbody tr th {\n",
       "        vertical-align: top;\n",
       "    }\n",
       "\n",
       "    .dataframe thead th {\n",
       "        text-align: right;\n",
       "    }\n",
       "</style>\n",
       "<table border=\"1\" class=\"dataframe\">\n",
       "  <thead>\n",
       "    <tr style=\"text-align: right;\">\n",
       "      <th></th>\n",
       "      <th>total</th>\n",
       "    </tr>\n",
       "    <tr>\n",
       "      <th>Region</th>\n",
       "      <th></th>\n",
       "    </tr>\n",
       "  </thead>\n",
       "  <tbody>\n",
       "    <tr>\n",
       "      <th>Midwest</th>\n",
       "      <td>6.292063e+07</td>\n",
       "    </tr>\n",
       "    <tr>\n",
       "      <th>Northeast</th>\n",
       "      <td>3.996425e+07</td>\n",
       "    </tr>\n",
       "    <tr>\n",
       "      <th>South</th>\n",
       "      <td>8.964785e+07</td>\n",
       "    </tr>\n",
       "    <tr>\n",
       "      <th>West</th>\n",
       "      <td>4.111747e+07</td>\n",
       "    </tr>\n",
       "  </tbody>\n",
       "</table>\n",
       "</div>"
      ],
      "text/plain": [
       "                  total\n",
       "Region                 \n",
       "Midwest    6.292063e+07\n",
       "Northeast  3.996425e+07\n",
       "South      8.964785e+07\n",
       "West       4.111747e+07"
      ]
     },
     "execution_count": 63,
     "metadata": {},
     "output_type": "execute_result"
    }
   ],
   "source": [
    "pd.pivot_table(sales, index='Region', values='total', aggfunc=sum)"
   ]
  },
  {
   "cell_type": "code",
   "execution_count": 32,
   "id": "c59f02ef",
   "metadata": {},
   "outputs": [
    {
     "data": {
      "image/png": "[encoded data removed]",
      "text/plain": [
       "<Figure size 640x480 with 1 Axes>"
      ]
     },
     "metadata": {},
     "output_type": "display_data"
    }
   ],
   "source": [
    "def add_value_label(x_list,y_list):\n",
    "    for i in range(len(x_list)):\n",
    "        plt.text(i,y_list[i]/2,y_list[i], ha=\"center\", fontsize=15)\n",
    "\n",
    "sns.barplot(x='Region', y='total', data=sales, estimator=sum, ci=None,\n",
    "            order=sales.groupby('Region').total.sum().sort_values(ascending=False).index)\n",
    "\n",
    "a=sales.groupby('Region').total.sum().sort_values(ascending=False).index\n",
    "b=sales.groupby('Region').total.sum().sort_values(ascending=False).values\n",
    "\n",
    "add_value_label(a,b)"
   ]
  },
  {
   "cell_type": "code",
   "execution_count": null,
   "id": "e59b7b91",
   "metadata": {},
   "outputs": [],
   "source": []
  },
  {
   "cell_type": "code",
   "execution_count": null,
   "id": "fe75aa31",
   "metadata": {},
   "outputs": [],
   "source": []
  },
  {
   "cell_type": "markdown",
   "id": "668b72e2",
   "metadata": {},
   "source": [
    "## Which County has highest sales"
   ]
  },
  {
   "cell_type": "code",
   "execution_count": 69,
   "id": "0b7f43e0",
   "metadata": {
    "scrolled": true
   },
   "outputs": [
    {
     "data": {
      "text/plain": [
       "2551"
      ]
     },
     "execution_count": 69,
     "metadata": {},
     "output_type": "execute_result"
    }
   ],
   "source": [
    "sales.County.nunique()"
   ]
  },
  {
   "cell_type": "code",
   "execution_count": 71,
   "id": "4e283af5",
   "metadata": {},
   "outputs": [],
   "source": [
    "##pd.pivot_table(sales, index='County', values='total', aggfunc=sum, sort=True)"
   ]
  },
  {
   "cell_type": "code",
   "execution_count": 73,
   "id": "fefcaf11",
   "metadata": {},
   "outputs": [
    {
     "data": {
      "text/plain": [
       "County\n",
       "Los Angeles    2.835745e+06\n",
       "Monroe         2.173749e+06\n",
       "Jefferson      2.145536e+06\n",
       "Winston        1.949392e+06\n",
       "Polk           1.848129e+06\n",
       "                   ...     \n",
       "Minneapolis    0.000000e+00\n",
       "Avondale       0.000000e+00\n",
       "Saldee         0.000000e+00\n",
       "Bryceland      0.000000e+00\n",
       "Blackford      0.000000e+00\n",
       "Name: total, Length: 2551, dtype: float64"
      ]
     },
     "execution_count": 73,
     "metadata": {},
     "output_type": "execute_result"
    }
   ],
   "source": [
    "sales.groupby('County').total.sum().sort_values(ascending=False)"
   ]
  },
  {
   "cell_type": "code",
   "execution_count": null,
   "id": "8f33b174",
   "metadata": {},
   "outputs": [],
   "source": []
  },
  {
   "cell_type": "code",
   "execution_count": null,
   "id": "0e2af0b2",
   "metadata": {},
   "outputs": [],
   "source": []
  },
  {
   "cell_type": "markdown",
   "id": "31c83526",
   "metadata": {},
   "source": [
    "## Within the county which State has maximum sale"
   ]
  },
  {
   "cell_type": "code",
   "execution_count": 74,
   "id": "3f5d46fb",
   "metadata": {},
   "outputs": [],
   "source": [
    "los_angeles=sales[sales['County']=='Los Angeles']"
   ]
  },
  {
   "cell_type": "code",
   "execution_count": 75,
   "id": "595cf9ad",
   "metadata": {},
   "outputs": [
    {
     "data": {
      "text/html": [
       "<div>\n",
       "<style scoped>\n",
       "    .dataframe tbody tr th:only-of-type {\n",
       "        vertical-align: middle;\n",
       "    }\n",
       "\n",
       "    .dataframe tbody tr th {\n",
       "        vertical-align: top;\n",
       "    }\n",
       "\n",
       "    .dataframe thead th {\n",
       "        text-align: right;\n",
       "    }\n",
       "</style>\n",
       "<table border=\"1\" class=\"dataframe\">\n",
       "  <thead>\n",
       "    <tr style=\"text-align: right;\">\n",
       "      <th></th>\n",
       "      <th>order_id</th>\n",
       "      <th>order_date</th>\n",
       "      <th>status</th>\n",
       "      <th>item_id</th>\n",
       "      <th>sku</th>\n",
       "      <th>qty_ordered</th>\n",
       "      <th>price</th>\n",
       "      <th>value</th>\n",
       "      <th>discount_amount</th>\n",
       "      <th>total</th>\n",
       "      <th>category</th>\n",
       "      <th>payment_method</th>\n",
       "      <th>bi_st</th>\n",
       "      <th>year</th>\n",
       "      <th>month</th>\n",
       "      <th>Gender</th>\n",
       "      <th>age</th>\n",
       "      <th>full_name</th>\n",
       "      <th>E Mail</th>\n",
       "      <th>Customer Since</th>\n",
       "      <th>SSN</th>\n",
       "      <th>Phone No.</th>\n",
       "      <th>Place Name</th>\n",
       "      <th>County</th>\n",
       "      <th>City</th>\n",
       "      <th>State</th>\n",
       "      <th>Zip</th>\n",
       "      <th>Region</th>\n",
       "      <th>Discount_Percent</th>\n",
       "    </tr>\n",
       "  </thead>\n",
       "  <tbody>\n",
       "    <tr>\n",
       "      <th>210</th>\n",
       "      <td>100354706</td>\n",
       "      <td>2020-10-01</td>\n",
       "      <td>canceled</td>\n",
       "      <td>574823.0</td>\n",
       "      <td>Anex_Anex_AG-174 Jucier Blender Grinder</td>\n",
       "      <td>2.0</td>\n",
       "      <td>445.0</td>\n",
       "      <td>445.0</td>\n",
       "      <td>0.0</td>\n",
       "      <td>445.0</td>\n",
       "      <td>Appliances</td>\n",
       "      <td>Payaxis</td>\n",
       "      <td>Gross</td>\n",
       "      <td>2020</td>\n",
       "      <td>Oct-2020</td>\n",
       "      <td>M</td>\n",
       "      <td>46.0</td>\n",
       "      <td>Henrich, Wallace</td>\n",
       "      <td>wallace.henrich@yahoo.com</td>\n",
       "      <td>11/10/2015</td>\n",
       "      <td>478-43-6707</td>\n",
       "      <td>209-649-0095</td>\n",
       "      <td>El Monte</td>\n",
       "      <td>Los Angeles</td>\n",
       "      <td>El Monte</td>\n",
       "      <td>CA</td>\n",
       "      <td>91734</td>\n",
       "      <td>West</td>\n",
       "      <td>0.0</td>\n",
       "    </tr>\n",
       "    <tr>\n",
       "      <th>211</th>\n",
       "      <td>100354706</td>\n",
       "      <td>2020-10-01</td>\n",
       "      <td>canceled</td>\n",
       "      <td>574824.0</td>\n",
       "      <td>ZA_qmobile_NoirE14G-Gold</td>\n",
       "      <td>3.0</td>\n",
       "      <td>1279.9</td>\n",
       "      <td>2559.8</td>\n",
       "      <td>0.0</td>\n",
       "      <td>2559.8</td>\n",
       "      <td>Mobiles &amp; Tablets</td>\n",
       "      <td>Payaxis</td>\n",
       "      <td>Gross</td>\n",
       "      <td>2020</td>\n",
       "      <td>Oct-2020</td>\n",
       "      <td>M</td>\n",
       "      <td>46.0</td>\n",
       "      <td>Henrich, Wallace</td>\n",
       "      <td>wallace.henrich@yahoo.com</td>\n",
       "      <td>11/10/2015</td>\n",
       "      <td>478-43-6707</td>\n",
       "      <td>209-649-0095</td>\n",
       "      <td>El Monte</td>\n",
       "      <td>Los Angeles</td>\n",
       "      <td>El Monte</td>\n",
       "      <td>CA</td>\n",
       "      <td>91734</td>\n",
       "      <td>West</td>\n",
       "      <td>0.0</td>\n",
       "    </tr>\n",
       "    <tr>\n",
       "      <th>212</th>\n",
       "      <td>100354706</td>\n",
       "      <td>2020-10-01</td>\n",
       "      <td>canceled</td>\n",
       "      <td>574825.0</td>\n",
       "      <td>Lenovo-K6Karate-Gold</td>\n",
       "      <td>2.0</td>\n",
       "      <td>1690.0</td>\n",
       "      <td>1690.0</td>\n",
       "      <td>0.0</td>\n",
       "      <td>1690.0</td>\n",
       "      <td>Mobiles &amp; Tablets</td>\n",
       "      <td>Payaxis</td>\n",
       "      <td>Gross</td>\n",
       "      <td>2020</td>\n",
       "      <td>Oct-2020</td>\n",
       "      <td>M</td>\n",
       "      <td>46.0</td>\n",
       "      <td>Henrich, Wallace</td>\n",
       "      <td>wallace.henrich@yahoo.com</td>\n",
       "      <td>11/10/2015</td>\n",
       "      <td>478-43-6707</td>\n",
       "      <td>209-649-0095</td>\n",
       "      <td>El Monte</td>\n",
       "      <td>Los Angeles</td>\n",
       "      <td>El Monte</td>\n",
       "      <td>CA</td>\n",
       "      <td>91734</td>\n",
       "      <td>West</td>\n",
       "      <td>0.0</td>\n",
       "    </tr>\n",
       "  </tbody>\n",
       "</table>\n",
       "</div>"
      ],
      "text/plain": [
       "      order_id  order_date    status   item_id  \\\n",
       "210  100354706  2020-10-01  canceled  574823.0   \n",
       "211  100354706  2020-10-01  canceled  574824.0   \n",
       "212  100354706  2020-10-01  canceled  574825.0   \n",
       "\n",
       "                                         sku  qty_ordered   price   value  \\\n",
       "210  Anex_Anex_AG-174 Jucier Blender Grinder          2.0   445.0   445.0   \n",
       "211                 ZA_qmobile_NoirE14G-Gold          3.0  1279.9  2559.8   \n",
       "212                     Lenovo-K6Karate-Gold          2.0  1690.0  1690.0   \n",
       "\n",
       "     discount_amount   total           category payment_method  bi_st  year  \\\n",
       "210              0.0   445.0         Appliances        Payaxis  Gross  2020   \n",
       "211              0.0  2559.8  Mobiles & Tablets        Payaxis  Gross  2020   \n",
       "212              0.0  1690.0  Mobiles & Tablets        Payaxis  Gross  2020   \n",
       "\n",
       "        month Gender   age         full_name                     E Mail  \\\n",
       "210  Oct-2020      M  46.0  Henrich, Wallace  wallace.henrich@yahoo.com   \n",
       "211  Oct-2020      M  46.0  Henrich, Wallace  wallace.henrich@yahoo.com   \n",
       "212  Oct-2020      M  46.0  Henrich, Wallace  wallace.henrich@yahoo.com   \n",
       "\n",
       "    Customer Since          SSN    Phone No.  Place Name       County  \\\n",
       "210     11/10/2015  478-43-6707  209-649-0095   El Monte  Los Angeles   \n",
       "211     11/10/2015  478-43-6707  209-649-0095   El Monte  Los Angeles   \n",
       "212     11/10/2015  478-43-6707  209-649-0095   El Monte  Los Angeles   \n",
       "\n",
       "         City State    Zip Region  Discount_Percent  \n",
       "210  El Monte    CA  91734   West               0.0  \n",
       "211  El Monte    CA  91734   West               0.0  \n",
       "212  El Monte    CA  91734   West               0.0  "
      ]
     },
     "execution_count": 75,
     "metadata": {},
     "output_type": "execute_result"
    }
   ],
   "source": [
    "los_angeles.head(3)"
   ]
  },
  {
   "cell_type": "code",
   "execution_count": 76,
   "id": "75f6c626",
   "metadata": {},
   "outputs": [
    {
     "data": {
      "text/plain": [
       "1"
      ]
     },
     "execution_count": 76,
     "metadata": {},
     "output_type": "execute_result"
    }
   ],
   "source": [
    "los_angeles.State.nunique()"
   ]
  },
  {
   "cell_type": "code",
   "execution_count": 77,
   "id": "0ab640d3",
   "metadata": {},
   "outputs": [
    {
     "data": {
      "text/html": [
       "<div>\n",
       "<style scoped>\n",
       "    .dataframe tbody tr th:only-of-type {\n",
       "        vertical-align: middle;\n",
       "    }\n",
       "\n",
       "    .dataframe tbody tr th {\n",
       "        vertical-align: top;\n",
       "    }\n",
       "\n",
       "    .dataframe thead th {\n",
       "        text-align: right;\n",
       "    }\n",
       "</style>\n",
       "<table border=\"1\" class=\"dataframe\">\n",
       "  <thead>\n",
       "    <tr style=\"text-align: right;\">\n",
       "      <th></th>\n",
       "      <th>total</th>\n",
       "    </tr>\n",
       "    <tr>\n",
       "      <th>State</th>\n",
       "      <th></th>\n",
       "    </tr>\n",
       "  </thead>\n",
       "  <tbody>\n",
       "    <tr>\n",
       "      <th>CA</th>\n",
       "      <td>2.835745e+06</td>\n",
       "    </tr>\n",
       "  </tbody>\n",
       "</table>\n",
       "</div>"
      ],
      "text/plain": [
       "              total\n",
       "State              \n",
       "CA     2.835745e+06"
      ]
     },
     "execution_count": 77,
     "metadata": {},
     "output_type": "execute_result"
    }
   ],
   "source": [
    "pd.pivot_table(los_angeles, index='State', values='total', aggfunc=sum)"
   ]
  },
  {
   "cell_type": "code",
   "execution_count": null,
   "id": "3a81babd",
   "metadata": {},
   "outputs": [],
   "source": []
  },
  {
   "cell_type": "code",
   "execution_count": null,
   "id": "258c109c",
   "metadata": {},
   "outputs": [],
   "source": []
  },
  {
   "cell_type": "markdown",
   "id": "5876992e",
   "metadata": {},
   "source": [
    "## Which state giving more business"
   ]
  },
  {
   "cell_type": "code",
   "execution_count": 78,
   "id": "2b54ca47",
   "metadata": {},
   "outputs": [
    {
     "data": {
      "text/plain": [
       "51"
      ]
     },
     "execution_count": 78,
     "metadata": {},
     "output_type": "execute_result"
    }
   ],
   "source": [
    "sales.State.nunique()"
   ]
  },
  {
   "cell_type": "code",
   "execution_count": 80,
   "id": "1939a017",
   "metadata": {
    "scrolled": true
   },
   "outputs": [
    {
     "data": {
      "text/plain": [
       "State\n",
       "TX    1.546746e+07\n",
       "CA    1.387618e+07\n",
       "NY    1.136510e+07\n",
       "PA    1.015904e+07\n",
       "IL    9.106895e+06\n",
       "FL    8.459037e+06\n",
       "VA    8.193937e+06\n",
       "OH    8.147443e+06\n",
       "MO    8.000870e+06\n",
       "KY    6.994809e+06\n",
       "MS    6.485483e+06\n",
       "NC    6.363723e+06\n",
       "IN    6.307449e+06\n",
       "IA    6.254494e+06\n",
       "MN    5.384620e+06\n",
       "WV    5.284802e+06\n",
       "MI    5.181664e+06\n",
       "GA    5.162799e+06\n",
       "NJ    5.130792e+06\n",
       "TN    4.530630e+06\n",
       "OK    4.244667e+06\n",
       "MA    4.180137e+06\n",
       "WI    4.067436e+06\n",
       "AL    3.802490e+06\n",
       "CO    3.772435e+06\n",
       "WA    3.765998e+06\n",
       "LA    3.729478e+06\n",
       "AR    3.708783e+06\n",
       "MT    3.276356e+06\n",
       "KS    3.260089e+06\n",
       "MD    3.123252e+06\n",
       "AZ    3.116258e+06\n",
       "ME    2.846749e+06\n",
       "NE    2.829867e+06\n",
       "VT    2.751958e+06\n",
       "OR    2.496124e+06\n",
       "ND    2.420395e+06\n",
       "SC    2.303708e+06\n",
       "NM    2.193450e+06\n",
       "AK    1.967323e+06\n",
       "SD    1.959410e+06\n",
       "UT    1.957998e+06\n",
       "CT    1.893172e+06\n",
       "ID    1.678923e+06\n",
       "NV    1.360255e+06\n",
       "NH    1.331460e+06\n",
       "DC    1.311284e+06\n",
       "WY    1.034336e+06\n",
       "HI    6.218324e+05\n",
       "DE    4.815116e+05\n",
       "RI    3.058381e+05\n",
       "Name: total, dtype: float64"
      ]
     },
     "execution_count": 80,
     "metadata": {},
     "output_type": "execute_result"
    }
   ],
   "source": [
    "sales.groupby('State').total.sum().sort_values(ascending=False)"
   ]
  },
  {
   "cell_type": "code",
   "execution_count": 83,
   "id": "7515b867",
   "metadata": {},
   "outputs": [
    {
     "data": {
      "text/plain": [
       "Index(['TX', 'CA', 'NY', 'PA', 'IL', 'FL', 'VA', 'OH', 'MO', 'KY', 'MS', 'NC',\n",
       "       'IN', 'IA', 'MN', 'WV', 'MI', 'GA', 'NJ', 'TN', 'OK', 'MA', 'WI', 'AL',\n",
       "       'CO', 'WA', 'LA', 'AR', 'MT', 'KS', 'MD', 'AZ', 'ME', 'NE', 'VT', 'OR',\n",
       "       'ND', 'SC', 'NM', 'AK', 'SD', 'UT', 'CT', 'ID', 'NV', 'NH', 'DC', 'WY',\n",
       "       'HI', 'DE', 'RI'],\n",
       "      dtype='object', name='State')"
      ]
     },
     "execution_count": 83,
     "metadata": {},
     "output_type": "execute_result"
    }
   ],
   "source": [
    "sales.groupby('State').total.sum().sort_values(ascending=False).index"
   ]
  },
  {
   "cell_type": "code",
   "execution_count": 36,
   "id": "cc155f21",
   "metadata": {},
   "outputs": [
    {
     "data": {
      "image/png": "[encoded data removed]",
      "text/plain": [
       "<Figure size 800x480 with 1 Axes>"
      ]
     },
     "metadata": {},
     "output_type": "display_data"
    }
   ],
   "source": [
    "def add_value_label(x_list,y_list):\n",
    "    for i in range(len(x_list)):\n",
    "        plt.annotate(y_list[i],(i,y_list[i]), ha='center')\n",
    "\n",
    "plt.figure(figsize=(10,6))\n",
    "sns.barplot(x='State', y='total', data=sales, estimator=sum, ci=None,\n",
    "            order=sales.groupby('State').total.sum().sort_values(ascending=False)[:5].index)\n",
    "plt.xlabel('States')\n",
    "plt.ylabel('Total sales')\n",
    "plt.xticks(rotation=90)\n",
    "plt.title('Total sales in States', fontsize=20, fontstyle='italic')\n",
    "\n",
    "a=sales.groupby('State').total.sum().sort_values(ascending=False)[:5].index\n",
    "b=sales.groupby('State').total.sum().sort_values(ascending=False)[:5].values\n",
    "add_value_label(a,b);"
   ]
  },
  {
   "cell_type": "code",
   "execution_count": null,
   "id": "a9d28c77",
   "metadata": {},
   "outputs": [],
   "source": []
  },
  {
   "cell_type": "code",
   "execution_count": null,
   "id": "2c5db0b0",
   "metadata": {},
   "outputs": [],
   "source": []
  },
  {
   "cell_type": "markdown",
   "id": "c8f15acc",
   "metadata": {},
   "source": [
    "## Within State which city has maximum sale"
   ]
  },
  {
   "cell_type": "code",
   "execution_count": 37,
   "id": "0bf8fb6b",
   "metadata": {},
   "outputs": [],
   "source": [
    "sales_tx=sales[sales['State']=='TX']"
   ]
  },
  {
   "cell_type": "code",
   "execution_count": 85,
   "id": "0097ddfe",
   "metadata": {},
   "outputs": [
    {
     "data": {
      "text/html": [
       "<div>\n",
       "<style scoped>\n",
       "    .dataframe tbody tr th:only-of-type {\n",
       "        vertical-align: middle;\n",
       "    }\n",
       "\n",
       "    .dataframe tbody tr th {\n",
       "        vertical-align: top;\n",
       "    }\n",
       "\n",
       "    .dataframe thead th {\n",
       "        text-align: right;\n",
       "    }\n",
       "</style>\n",
       "<table border=\"1\" class=\"dataframe\">\n",
       "  <thead>\n",
       "    <tr style=\"text-align: right;\">\n",
       "      <th></th>\n",
       "      <th>order_id</th>\n",
       "      <th>order_date</th>\n",
       "      <th>status</th>\n",
       "      <th>item_id</th>\n",
       "      <th>sku</th>\n",
       "      <th>qty_ordered</th>\n",
       "      <th>price</th>\n",
       "      <th>value</th>\n",
       "      <th>discount_amount</th>\n",
       "      <th>total</th>\n",
       "      <th>category</th>\n",
       "      <th>payment_method</th>\n",
       "      <th>bi_st</th>\n",
       "      <th>year</th>\n",
       "      <th>month</th>\n",
       "      <th>Gender</th>\n",
       "      <th>age</th>\n",
       "      <th>full_name</th>\n",
       "      <th>E Mail</th>\n",
       "      <th>Customer Since</th>\n",
       "      <th>SSN</th>\n",
       "      <th>Phone No.</th>\n",
       "      <th>Place Name</th>\n",
       "      <th>County</th>\n",
       "      <th>City</th>\n",
       "      <th>State</th>\n",
       "      <th>Zip</th>\n",
       "      <th>Region</th>\n",
       "      <th>Discount_Percent</th>\n",
       "    </tr>\n",
       "  </thead>\n",
       "  <tbody>\n",
       "    <tr>\n",
       "      <th>346</th>\n",
       "      <td>100354721</td>\n",
       "      <td>2020-10-01</td>\n",
       "      <td>complete</td>\n",
       "      <td>574860.0</td>\n",
       "      <td>NDF_Fry Seeds-long</td>\n",
       "      <td>4.0</td>\n",
       "      <td>21.3</td>\n",
       "      <td>63.9</td>\n",
       "      <td>0.0</td>\n",
       "      <td>63.9</td>\n",
       "      <td>Soghaat</td>\n",
       "      <td>Payaxis</td>\n",
       "      <td>Net</td>\n",
       "      <td>2020</td>\n",
       "      <td>Oct-2020</td>\n",
       "      <td>F</td>\n",
       "      <td>45.0</td>\n",
       "      <td>Grantham, Heidy</td>\n",
       "      <td>heidy.grantham@gmail.com</td>\n",
       "      <td>11/29/2003</td>\n",
       "      <td>620-85-6406</td>\n",
       "      <td>210-589-2683</td>\n",
       "      <td>Baytown</td>\n",
       "      <td>Harris</td>\n",
       "      <td>Baytown</td>\n",
       "      <td>TX</td>\n",
       "      <td>77522</td>\n",
       "      <td>South</td>\n",
       "      <td>0.0</td>\n",
       "    </tr>\n",
       "    <tr>\n",
       "      <th>347</th>\n",
       "      <td>100354721</td>\n",
       "      <td>2020-10-01</td>\n",
       "      <td>complete</td>\n",
       "      <td>574861.0</td>\n",
       "      <td>cr_PUMPKIN SEEDS LARGE</td>\n",
       "      <td>2.0</td>\n",
       "      <td>22.5</td>\n",
       "      <td>22.5</td>\n",
       "      <td>0.0</td>\n",
       "      <td>22.5</td>\n",
       "      <td>Soghaat</td>\n",
       "      <td>Payaxis</td>\n",
       "      <td>Net</td>\n",
       "      <td>2020</td>\n",
       "      <td>Oct-2020</td>\n",
       "      <td>F</td>\n",
       "      <td>45.0</td>\n",
       "      <td>Grantham, Heidy</td>\n",
       "      <td>heidy.grantham@gmail.com</td>\n",
       "      <td>11/29/2003</td>\n",
       "      <td>620-85-6406</td>\n",
       "      <td>210-589-2683</td>\n",
       "      <td>Baytown</td>\n",
       "      <td>Harris</td>\n",
       "      <td>Baytown</td>\n",
       "      <td>TX</td>\n",
       "      <td>77522</td>\n",
       "      <td>South</td>\n",
       "      <td>0.0</td>\n",
       "    </tr>\n",
       "    <tr>\n",
       "      <th>348</th>\n",
       "      <td>100357650</td>\n",
       "      <td>2020-10-17</td>\n",
       "      <td>order_refunded</td>\n",
       "      <td>580149.0</td>\n",
       "      <td>KABEDE59AC17AAD4BBD-2-3 Years</td>\n",
       "      <td>2.0</td>\n",
       "      <td>220.0</td>\n",
       "      <td>220.0</td>\n",
       "      <td>0.0</td>\n",
       "      <td>220.0</td>\n",
       "      <td>Kids &amp; Baby</td>\n",
       "      <td>Payaxis</td>\n",
       "      <td>Valid</td>\n",
       "      <td>2020</td>\n",
       "      <td>Oct-2020</td>\n",
       "      <td>F</td>\n",
       "      <td>45.0</td>\n",
       "      <td>Grantham, Heidy</td>\n",
       "      <td>heidy.grantham@gmail.com</td>\n",
       "      <td>11/29/2003</td>\n",
       "      <td>620-85-6406</td>\n",
       "      <td>210-589-2683</td>\n",
       "      <td>Baytown</td>\n",
       "      <td>Harris</td>\n",
       "      <td>Baytown</td>\n",
       "      <td>TX</td>\n",
       "      <td>77522</td>\n",
       "      <td>South</td>\n",
       "      <td>0.0</td>\n",
       "    </tr>\n",
       "  </tbody>\n",
       "</table>\n",
       "</div>"
      ],
      "text/plain": [
       "      order_id  order_date          status   item_id  \\\n",
       "346  100354721  2020-10-01        complete  574860.0   \n",
       "347  100354721  2020-10-01        complete  574861.0   \n",
       "348  100357650  2020-10-17  order_refunded  580149.0   \n",
       "\n",
       "                               sku  qty_ordered  price  value  \\\n",
       "346             NDF_Fry Seeds-long          4.0   21.3   63.9   \n",
       "347         cr_PUMPKIN SEEDS LARGE          2.0   22.5   22.5   \n",
       "348  KABEDE59AC17AAD4BBD-2-3 Years          2.0  220.0  220.0   \n",
       "\n",
       "     discount_amount  total     category payment_method  bi_st  year  \\\n",
       "346              0.0   63.9      Soghaat        Payaxis    Net  2020   \n",
       "347              0.0   22.5      Soghaat        Payaxis    Net  2020   \n",
       "348              0.0  220.0  Kids & Baby        Payaxis  Valid  2020   \n",
       "\n",
       "        month Gender   age        full_name                    E Mail  \\\n",
       "346  Oct-2020      F  45.0  Grantham, Heidy  heidy.grantham@gmail.com   \n",
       "347  Oct-2020      F  45.0  Grantham, Heidy  heidy.grantham@gmail.com   \n",
       "348  Oct-2020      F  45.0  Grantham, Heidy  heidy.grantham@gmail.com   \n",
       "\n",
       "    Customer Since          SSN    Phone No.  Place Name  County     City  \\\n",
       "346     11/29/2003  620-85-6406  210-589-2683    Baytown  Harris  Baytown   \n",
       "347     11/29/2003  620-85-6406  210-589-2683    Baytown  Harris  Baytown   \n",
       "348     11/29/2003  620-85-6406  210-589-2683    Baytown  Harris  Baytown   \n",
       "\n",
       "    State    Zip Region  Discount_Percent  \n",
       "346    TX  77522  South               0.0  \n",
       "347    TX  77522  South               0.0  \n",
       "348    TX  77522  South               0.0  "
      ]
     },
     "execution_count": 85,
     "metadata": {},
     "output_type": "execute_result"
    }
   ],
   "source": [
    "sales_tx.head(3)"
   ]
  },
  {
   "cell_type": "code",
   "execution_count": 86,
   "id": "3833090c",
   "metadata": {},
   "outputs": [
    {
     "data": {
      "text/plain": [
       "1188"
      ]
     },
     "execution_count": 86,
     "metadata": {},
     "output_type": "execute_result"
    }
   ],
   "source": [
    "sales_tx.City.nunique()"
   ]
  },
  {
   "cell_type": "code",
   "execution_count": 87,
   "id": "36a7fcf1",
   "metadata": {},
   "outputs": [
    {
     "data": {
      "text/plain": [
       "City\n",
       "Raymondville    0.000000e+00\n",
       "Bend            0.000000e+00\n",
       "Springlake      0.000000e+00\n",
       "Dayton          0.000000e+00\n",
       "Crosbyton       0.000000e+00\n",
       "                    ...     \n",
       "Sour Lake       6.299461e+05\n",
       "El Paso         6.305386e+05\n",
       "San Antonio     6.632424e+05\n",
       "Austin          6.909021e+05\n",
       "Houston         1.069884e+06\n",
       "Name: total, Length: 1188, dtype: float64"
      ]
     },
     "execution_count": 87,
     "metadata": {},
     "output_type": "execute_result"
    }
   ],
   "source": [
    "sales_tx.groupby('City').total.sum().sort_values(ascending=True)"
   ]
  },
  {
   "cell_type": "code",
   "execution_count": 88,
   "id": "d4b86603",
   "metadata": {},
   "outputs": [],
   "source": [
    "## Huston city has more sale around $1069884"
   ]
  },
  {
   "cell_type": "code",
   "execution_count": null,
   "id": "8c29b441",
   "metadata": {},
   "outputs": [],
   "source": []
  },
  {
   "cell_type": "markdown",
   "id": "e53310d0",
   "metadata": {},
   "source": [
    "## Within City which place has maximum sale"
   ]
  },
  {
   "cell_type": "code",
   "execution_count": 89,
   "id": "01728983",
   "metadata": {},
   "outputs": [],
   "source": [
    "sales_houston=sales_tx[sales_tx['City']=='Houston']"
   ]
  },
  {
   "cell_type": "code",
   "execution_count": 90,
   "id": "ec11f479",
   "metadata": {},
   "outputs": [
    {
     "data": {
      "text/html": [
       "<div>\n",
       "<style scoped>\n",
       "    .dataframe tbody tr th:only-of-type {\n",
       "        vertical-align: middle;\n",
       "    }\n",
       "\n",
       "    .dataframe tbody tr th {\n",
       "        vertical-align: top;\n",
       "    }\n",
       "\n",
       "    .dataframe thead th {\n",
       "        text-align: right;\n",
       "    }\n",
       "</style>\n",
       "<table border=\"1\" class=\"dataframe\">\n",
       "  <thead>\n",
       "    <tr style=\"text-align: right;\">\n",
       "      <th></th>\n",
       "      <th>order_id</th>\n",
       "      <th>order_date</th>\n",
       "      <th>status</th>\n",
       "      <th>item_id</th>\n",
       "      <th>sku</th>\n",
       "      <th>qty_ordered</th>\n",
       "      <th>price</th>\n",
       "      <th>value</th>\n",
       "      <th>discount_amount</th>\n",
       "      <th>total</th>\n",
       "      <th>category</th>\n",
       "      <th>payment_method</th>\n",
       "      <th>bi_st</th>\n",
       "      <th>year</th>\n",
       "      <th>month</th>\n",
       "      <th>Gender</th>\n",
       "      <th>age</th>\n",
       "      <th>full_name</th>\n",
       "      <th>E Mail</th>\n",
       "      <th>Customer Since</th>\n",
       "      <th>SSN</th>\n",
       "      <th>Phone No.</th>\n",
       "      <th>Place Name</th>\n",
       "      <th>County</th>\n",
       "      <th>City</th>\n",
       "      <th>State</th>\n",
       "      <th>Zip</th>\n",
       "      <th>Region</th>\n",
       "      <th>Discount_Percent</th>\n",
       "    </tr>\n",
       "  </thead>\n",
       "  <tbody>\n",
       "    <tr>\n",
       "      <th>2019</th>\n",
       "      <td>100354838</td>\n",
       "      <td>2020-10-01</td>\n",
       "      <td>complete</td>\n",
       "      <td>575078.0</td>\n",
       "      <td>Fpakistan_FP041</td>\n",
       "      <td>2.0</td>\n",
       "      <td>87.4</td>\n",
       "      <td>87.4</td>\n",
       "      <td>0.0</td>\n",
       "      <td>87.4</td>\n",
       "      <td>Home &amp; Living</td>\n",
       "      <td>cod</td>\n",
       "      <td>Net</td>\n",
       "      <td>2020</td>\n",
       "      <td>Oct-2020</td>\n",
       "      <td>M</td>\n",
       "      <td>26.0</td>\n",
       "      <td>Pando, Reynaldo</td>\n",
       "      <td>reynaldo.pando@aol.com</td>\n",
       "      <td>10/10/2013</td>\n",
       "      <td>049-15-5023</td>\n",
       "      <td>210-541-3813</td>\n",
       "      <td>Houston</td>\n",
       "      <td>Harris</td>\n",
       "      <td>Houston</td>\n",
       "      <td>TX</td>\n",
       "      <td>77033</td>\n",
       "      <td>South</td>\n",
       "      <td>0.0</td>\n",
       "    </tr>\n",
       "    <tr>\n",
       "      <th>9494</th>\n",
       "      <td>100355803</td>\n",
       "      <td>2020-10-06</td>\n",
       "      <td>complete</td>\n",
       "      <td>576859.0</td>\n",
       "      <td>sanaulla_MAH17L2 2A</td>\n",
       "      <td>2.0</td>\n",
       "      <td>169.0</td>\n",
       "      <td>169.0</td>\n",
       "      <td>0.0</td>\n",
       "      <td>169.0</td>\n",
       "      <td>Women's Fashion</td>\n",
       "      <td>cod</td>\n",
       "      <td>Net</td>\n",
       "      <td>2020</td>\n",
       "      <td>Oct-2020</td>\n",
       "      <td>F</td>\n",
       "      <td>51.0</td>\n",
       "      <td>Folks, Karma</td>\n",
       "      <td>karma.folks@ibm.com</td>\n",
       "      <td>4/5/2015</td>\n",
       "      <td>656-36-8224</td>\n",
       "      <td>210-699-4648</td>\n",
       "      <td>Houston</td>\n",
       "      <td>Harris</td>\n",
       "      <td>Houston</td>\n",
       "      <td>TX</td>\n",
       "      <td>77269</td>\n",
       "      <td>South</td>\n",
       "      <td>0.0</td>\n",
       "    </tr>\n",
       "    <tr>\n",
       "      <th>9495</th>\n",
       "      <td>100431603</td>\n",
       "      <td>2021-01-02</td>\n",
       "      <td>complete</td>\n",
       "      <td>705575.0</td>\n",
       "      <td>WOFGUL59C243394F6ED</td>\n",
       "      <td>2.0</td>\n",
       "      <td>245.0</td>\n",
       "      <td>245.0</td>\n",
       "      <td>0.0</td>\n",
       "      <td>245.0</td>\n",
       "      <td>Women's Fashion</td>\n",
       "      <td>cod</td>\n",
       "      <td>Net</td>\n",
       "      <td>2021</td>\n",
       "      <td>Jan-2021</td>\n",
       "      <td>F</td>\n",
       "      <td>51.0</td>\n",
       "      <td>Folks, Karma</td>\n",
       "      <td>karma.folks@ibm.com</td>\n",
       "      <td>4/5/2015</td>\n",
       "      <td>656-36-8224</td>\n",
       "      <td>210-699-4648</td>\n",
       "      <td>Houston</td>\n",
       "      <td>Harris</td>\n",
       "      <td>Houston</td>\n",
       "      <td>TX</td>\n",
       "      <td>77269</td>\n",
       "      <td>South</td>\n",
       "      <td>0.0</td>\n",
       "    </tr>\n",
       "  </tbody>\n",
       "</table>\n",
       "</div>"
      ],
      "text/plain": [
       "       order_id  order_date    status   item_id                  sku  \\\n",
       "2019  100354838  2020-10-01  complete  575078.0      Fpakistan_FP041   \n",
       "9494  100355803  2020-10-06  complete  576859.0  sanaulla_MAH17L2 2A   \n",
       "9495  100431603  2021-01-02  complete  705575.0  WOFGUL59C243394F6ED   \n",
       "\n",
       "      qty_ordered  price  value  discount_amount  total         category  \\\n",
       "2019          2.0   87.4   87.4              0.0   87.4    Home & Living   \n",
       "9494          2.0  169.0  169.0              0.0  169.0  Women's Fashion   \n",
       "9495          2.0  245.0  245.0              0.0  245.0  Women's Fashion   \n",
       "\n",
       "     payment_method bi_st  year     month Gender   age        full_name  \\\n",
       "2019            cod   Net  2020  Oct-2020      M  26.0  Pando, Reynaldo   \n",
       "9494            cod   Net  2020  Oct-2020      F  51.0     Folks, Karma   \n",
       "9495            cod   Net  2021  Jan-2021      F  51.0     Folks, Karma   \n",
       "\n",
       "                      E Mail Customer Since          SSN    Phone No.   \\\n",
       "2019  reynaldo.pando@aol.com     10/10/2013  049-15-5023  210-541-3813   \n",
       "9494     karma.folks@ibm.com       4/5/2015  656-36-8224  210-699-4648   \n",
       "9495     karma.folks@ibm.com       4/5/2015  656-36-8224  210-699-4648   \n",
       "\n",
       "     Place Name  County     City State    Zip Region  Discount_Percent  \n",
       "2019    Houston  Harris  Houston    TX  77033  South               0.0  \n",
       "9494    Houston  Harris  Houston    TX  77269  South               0.0  \n",
       "9495    Houston  Harris  Houston    TX  77269  South               0.0  "
      ]
     },
     "execution_count": 90,
     "metadata": {},
     "output_type": "execute_result"
    }
   ],
   "source": [
    "sales_houston.head(3)"
   ]
  },
  {
   "cell_type": "code",
   "execution_count": 91,
   "id": "e8939a8b",
   "metadata": {},
   "outputs": [
    {
     "data": {
      "text/plain": [
       "array(['Houston'], dtype=object)"
      ]
     },
     "execution_count": 91,
     "metadata": {},
     "output_type": "execute_result"
    }
   ],
   "source": [
    "sales_houston['Place Name'].unique()"
   ]
  },
  {
   "cell_type": "code",
   "execution_count": 92,
   "id": "5313e0cc",
   "metadata": {},
   "outputs": [],
   "source": [
    "## so the sales is same as houston city"
   ]
  },
  {
   "cell_type": "code",
   "execution_count": null,
   "id": "82b875f9",
   "metadata": {},
   "outputs": [],
   "source": []
  },
  {
   "cell_type": "code",
   "execution_count": null,
   "id": "b0e10938",
   "metadata": {},
   "outputs": [],
   "source": []
  },
  {
   "cell_type": "markdown",
   "id": "d00830e6",
   "metadata": {},
   "source": [
    "## Analysis on order status"
   ]
  },
  {
   "cell_type": "code",
   "execution_count": 93,
   "id": "afc35a6d",
   "metadata": {},
   "outputs": [
    {
     "data": {
      "text/plain": [
       "array(['received', 'complete', 'order_refunded', 'canceled', 'refund',\n",
       "       'cod', 'paid', 'processing', 'closed', 'pending', 'pending_paypal',\n",
       "       'payment_review', 'holded'], dtype=object)"
      ]
     },
     "execution_count": 93,
     "metadata": {},
     "output_type": "execute_result"
    }
   ],
   "source": [
    "sales.status.unique()"
   ]
  },
  {
   "cell_type": "code",
   "execution_count": null,
   "id": "a384d05d",
   "metadata": {},
   "outputs": [],
   "source": []
  },
  {
   "cell_type": "code",
   "execution_count": 94,
   "id": "5784b243",
   "metadata": {},
   "outputs": [],
   "source": [
    "## check the count of each order status"
   ]
  },
  {
   "cell_type": "code",
   "execution_count": 95,
   "id": "1f5232e2",
   "metadata": {},
   "outputs": [
    {
     "data": {
      "text/plain": [
       "canceled          112166\n",
       "complete           88968\n",
       "received           51775\n",
       "order_refunded     25713\n",
       "refund              3820\n",
       "cod                 2851\n",
       "paid                 756\n",
       "closed               176\n",
       "payment_review        57\n",
       "pending               48\n",
       "processing            33\n",
       "holded                25\n",
       "pending_paypal         4\n",
       "Name: status, dtype: int64"
      ]
     },
     "execution_count": 95,
     "metadata": {},
     "output_type": "execute_result"
    }
   ],
   "source": [
    "sales.status.value_counts()"
   ]
  },
  {
   "cell_type": "code",
   "execution_count": 96,
   "id": "cb57d782",
   "metadata": {},
   "outputs": [
    {
     "data": {
      "text/plain": [
       "Index(['canceled', 'complete', 'received', 'order_refunded', 'refund', 'cod',\n",
       "       'paid', 'closed', 'payment_review', 'pending', 'processing', 'holded',\n",
       "       'pending_paypal'],\n",
       "      dtype='object')"
      ]
     },
     "execution_count": 96,
     "metadata": {},
     "output_type": "execute_result"
    }
   ],
   "source": [
    "sales.status.value_counts().indexa"
   ]
  },
  {
   "cell_type": "code",
   "execution_count": 38,
   "id": "dd1f158c",
   "metadata": {},
   "outputs": [
    {
     "data": {
      "image/png": "[encoded data removed]",
      "text/plain": [
       "<Figure size 640x480 with 1 Axes>"
      ]
     },
     "metadata": {},
     "output_type": "display_data"
    }
   ],
   "source": [
    "ax=sns.countplot(x='status', data=sales,\n",
    "            order=sales.status.value_counts().index)\n",
    "plt.xticks(rotation=45)\n",
    "\n",
    "value_label=sales.status.value_counts().values\n",
    "ax.bar_label(container=ax.containers[0], labels=value_label);"
   ]
  },
  {
   "cell_type": "code",
   "execution_count": 102,
   "id": "b0213d93",
   "metadata": {},
   "outputs": [],
   "source": [
    "## concluded that the order is cancelled by customers most of the time"
   ]
  },
  {
   "cell_type": "code",
   "execution_count": null,
   "id": "75003161",
   "metadata": {},
   "outputs": [],
   "source": []
  },
  {
   "cell_type": "code",
   "execution_count": null,
   "id": "40975892",
   "metadata": {},
   "outputs": [],
   "source": []
  },
  {
   "cell_type": "markdown",
   "id": "b57bfa03",
   "metadata": {},
   "source": [
    "## In which category the order is getting cancelled most of the time"
   ]
  },
  {
   "cell_type": "code",
   "execution_count": 39,
   "id": "51ef023a",
   "metadata": {},
   "outputs": [],
   "source": [
    "cancel_order=sales[sales['status']=='canceled']"
   ]
  },
  {
   "cell_type": "code",
   "execution_count": 104,
   "id": "e6f4b905",
   "metadata": {},
   "outputs": [
    {
     "data": {
      "text/html": [
       "<div>\n",
       "<style scoped>\n",
       "    .dataframe tbody tr th:only-of-type {\n",
       "        vertical-align: middle;\n",
       "    }\n",
       "\n",
       "    .dataframe tbody tr th {\n",
       "        vertical-align: top;\n",
       "    }\n",
       "\n",
       "    .dataframe thead th {\n",
       "        text-align: right;\n",
       "    }\n",
       "</style>\n",
       "<table border=\"1\" class=\"dataframe\">\n",
       "  <thead>\n",
       "    <tr style=\"text-align: right;\">\n",
       "      <th></th>\n",
       "      <th>order_id</th>\n",
       "      <th>order_date</th>\n",
       "      <th>status</th>\n",
       "      <th>item_id</th>\n",
       "      <th>sku</th>\n",
       "      <th>qty_ordered</th>\n",
       "      <th>price</th>\n",
       "      <th>value</th>\n",
       "      <th>discount_amount</th>\n",
       "      <th>total</th>\n",
       "      <th>category</th>\n",
       "      <th>payment_method</th>\n",
       "      <th>bi_st</th>\n",
       "      <th>year</th>\n",
       "      <th>month</th>\n",
       "      <th>Gender</th>\n",
       "      <th>age</th>\n",
       "      <th>full_name</th>\n",
       "      <th>E Mail</th>\n",
       "      <th>Customer Since</th>\n",
       "      <th>SSN</th>\n",
       "      <th>Phone No.</th>\n",
       "      <th>Place Name</th>\n",
       "      <th>County</th>\n",
       "      <th>City</th>\n",
       "      <th>State</th>\n",
       "      <th>Zip</th>\n",
       "      <th>Region</th>\n",
       "      <th>Discount_Percent</th>\n",
       "    </tr>\n",
       "  </thead>\n",
       "  <tbody>\n",
       "    <tr>\n",
       "      <th>7</th>\n",
       "      <td>100354677</td>\n",
       "      <td>2020-10-01</td>\n",
       "      <td>canceled</td>\n",
       "      <td>574769.0</td>\n",
       "      <td>GFE_19_USBLEDLight</td>\n",
       "      <td>2.0</td>\n",
       "      <td>49.0</td>\n",
       "      <td>49.0</td>\n",
       "      <td>0.0</td>\n",
       "      <td>49.0</td>\n",
       "      <td>Mobiles &amp; Tablets</td>\n",
       "      <td>Payaxis</td>\n",
       "      <td>Gross</td>\n",
       "      <td>2020</td>\n",
       "      <td>Oct-2020</td>\n",
       "      <td>M</td>\n",
       "      <td>28.0</td>\n",
       "      <td>Eaker, Lee</td>\n",
       "      <td>lee.eaker@gmail.com</td>\n",
       "      <td>2/4/1981</td>\n",
       "      <td>185-86-4345</td>\n",
       "      <td>239-335-6755</td>\n",
       "      <td>Graham</td>\n",
       "      <td>Bradford</td>\n",
       "      <td>Graham</td>\n",
       "      <td>FL</td>\n",
       "      <td>32042</td>\n",
       "      <td>South</td>\n",
       "      <td>0.0</td>\n",
       "    </tr>\n",
       "    <tr>\n",
       "      <th>8</th>\n",
       "      <td>100354677</td>\n",
       "      <td>2020-10-01</td>\n",
       "      <td>canceled</td>\n",
       "      <td>574770.0</td>\n",
       "      <td>oasis_Kingston-32GB-DTIG4</td>\n",
       "      <td>2.0</td>\n",
       "      <td>135.0</td>\n",
       "      <td>135.0</td>\n",
       "      <td>0.0</td>\n",
       "      <td>135.0</td>\n",
       "      <td>Computing</td>\n",
       "      <td>Payaxis</td>\n",
       "      <td>Gross</td>\n",
       "      <td>2020</td>\n",
       "      <td>Oct-2020</td>\n",
       "      <td>M</td>\n",
       "      <td>28.0</td>\n",
       "      <td>Eaker, Lee</td>\n",
       "      <td>lee.eaker@gmail.com</td>\n",
       "      <td>2/4/1981</td>\n",
       "      <td>185-86-4345</td>\n",
       "      <td>239-335-6755</td>\n",
       "      <td>Graham</td>\n",
       "      <td>Bradford</td>\n",
       "      <td>Graham</td>\n",
       "      <td>FL</td>\n",
       "      <td>32042</td>\n",
       "      <td>South</td>\n",
       "      <td>0.0</td>\n",
       "    </tr>\n",
       "    <tr>\n",
       "      <th>9</th>\n",
       "      <td>100354677</td>\n",
       "      <td>2020-10-01</td>\n",
       "      <td>canceled</td>\n",
       "      <td>574771.0</td>\n",
       "      <td>Geepas_GSB5420</td>\n",
       "      <td>2.0</td>\n",
       "      <td>549.9</td>\n",
       "      <td>549.9</td>\n",
       "      <td>0.0</td>\n",
       "      <td>549.9</td>\n",
       "      <td>Appliances</td>\n",
       "      <td>Payaxis</td>\n",
       "      <td>Gross</td>\n",
       "      <td>2020</td>\n",
       "      <td>Oct-2020</td>\n",
       "      <td>M</td>\n",
       "      <td>28.0</td>\n",
       "      <td>Eaker, Lee</td>\n",
       "      <td>lee.eaker@gmail.com</td>\n",
       "      <td>2/4/1981</td>\n",
       "      <td>185-86-4345</td>\n",
       "      <td>239-335-6755</td>\n",
       "      <td>Graham</td>\n",
       "      <td>Bradford</td>\n",
       "      <td>Graham</td>\n",
       "      <td>FL</td>\n",
       "      <td>32042</td>\n",
       "      <td>South</td>\n",
       "      <td>0.0</td>\n",
       "    </tr>\n",
       "  </tbody>\n",
       "</table>\n",
       "</div>"
      ],
      "text/plain": [
       "    order_id  order_date    status   item_id                        sku  \\\n",
       "7  100354677  2020-10-01  canceled  574769.0         GFE_19_USBLEDLight   \n",
       "8  100354677  2020-10-01  canceled  574770.0  oasis_Kingston-32GB-DTIG4   \n",
       "9  100354677  2020-10-01  canceled  574771.0             Geepas_GSB5420   \n",
       "\n",
       "   qty_ordered  price  value  discount_amount  total           category  \\\n",
       "7          2.0   49.0   49.0              0.0   49.0  Mobiles & Tablets   \n",
       "8          2.0  135.0  135.0              0.0  135.0          Computing   \n",
       "9          2.0  549.9  549.9              0.0  549.9         Appliances   \n",
       "\n",
       "  payment_method  bi_st  year     month Gender   age   full_name  \\\n",
       "7        Payaxis  Gross  2020  Oct-2020      M  28.0  Eaker, Lee   \n",
       "8        Payaxis  Gross  2020  Oct-2020      M  28.0  Eaker, Lee   \n",
       "9        Payaxis  Gross  2020  Oct-2020      M  28.0  Eaker, Lee   \n",
       "\n",
       "                E Mail Customer Since          SSN    Phone No.  Place Name  \\\n",
       "7  lee.eaker@gmail.com       2/4/1981  185-86-4345  239-335-6755     Graham   \n",
       "8  lee.eaker@gmail.com       2/4/1981  185-86-4345  239-335-6755     Graham   \n",
       "9  lee.eaker@gmail.com       2/4/1981  185-86-4345  239-335-6755     Graham   \n",
       "\n",
       "     County    City State    Zip Region  Discount_Percent  \n",
       "7  Bradford  Graham    FL  32042  South               0.0  \n",
       "8  Bradford  Graham    FL  32042  South               0.0  \n",
       "9  Bradford  Graham    FL  32042  South               0.0  "
      ]
     },
     "execution_count": 104,
     "metadata": {},
     "output_type": "execute_result"
    }
   ],
   "source": [
    "cancel_order.head(3)"
   ]
  },
  {
   "cell_type": "code",
   "execution_count": 105,
   "id": "05f1d6ed",
   "metadata": {},
   "outputs": [
    {
     "data": {
      "text/plain": [
       "Mobiles & Tablets     30271\n",
       "Others                17312\n",
       "Appliances            13559\n",
       "Men's Fashion         11342\n",
       "Women's Fashion        8204\n",
       "Entertainment          7661\n",
       "Beauty & Grooming      5025\n",
       "Superstore             4760\n",
       "Home & Living          4095\n",
       "Computing              3561\n",
       "Soghaat                2536\n",
       "Kids & Baby            1908\n",
       "Health & Sports        1478\n",
       "School & Education      328\n",
       "Books                   126\n",
       "Name: category, dtype: int64"
      ]
     },
     "execution_count": 105,
     "metadata": {},
     "output_type": "execute_result"
    }
   ],
   "source": [
    "cancel_order.category.value_counts()"
   ]
  },
  {
   "cell_type": "code",
   "execution_count": 41,
   "id": "f88a8998",
   "metadata": {},
   "outputs": [
    {
     "data": {
      "image/png": "[encoded data removed]",
      "text/plain": [
       "<Figure size 640x480 with 1 Axes>"
      ]
     },
     "metadata": {},
     "output_type": "display_data"
    }
   ],
   "source": [
    "cancel_order.category.value_counts().index\n",
    "ax=sns.countplot(y='category', data=cancel_order,\n",
    "              order=cancel_order.category.value_counts().index)\n",
    "plt.xticks(rotation=45)\n",
    "\n",
    "value_label=cancel_order.status.value_counts().values\n",
    "ax.bar_label(container=ax.containers[0], labels=value_label);"
   ]
  },
  {
   "cell_type": "code",
   "execution_count": null,
   "id": "b13e6595",
   "metadata": {},
   "outputs": [],
   "source": []
  },
  {
   "cell_type": "code",
   "execution_count": null,
   "id": "b84d7122",
   "metadata": {},
   "outputs": [],
   "source": []
  },
  {
   "cell_type": "code",
   "execution_count": 107,
   "id": "ed673508",
   "metadata": {},
   "outputs": [],
   "source": [
    "## Which region, county, state, city the order getting canceled"
   ]
  },
  {
   "cell_type": "code",
   "execution_count": 85,
   "id": "a9c85662",
   "metadata": {},
   "outputs": [
    {
     "data": {
      "text/plain": [
       "South        40929\n",
       "Midwest      31004\n",
       "West         20299\n",
       "Northeast    19934\n",
       "Name: Region, dtype: int64"
      ]
     },
     "execution_count": 85,
     "metadata": {},
     "output_type": "execute_result"
    }
   ],
   "source": [
    "cancel_order.Region.value_counts()"
   ]
  },
  {
   "cell_type": "code",
   "execution_count": 42,
   "id": "fc189db7",
   "metadata": {},
   "outputs": [
    {
     "data": {
      "image/png": "[encoded data removed]",
      "text/plain": [
       "<Figure size 640x480 with 1 Axes>"
      ]
     },
     "metadata": {},
     "output_type": "display_data"
    }
   ],
   "source": [
    "\n",
    "ax=sns.countplot(x='Region', data=cancel_order,\n",
    "              order=cancel_order.Region.value_counts().index)\n",
    "\n",
    "value_label=cancel_order.Region.value_counts().values\n",
    "ax.bar_label(container=ax.containers[0], labels=value_label);"
   ]
  },
  {
   "cell_type": "code",
   "execution_count": null,
   "id": "6c7c85de",
   "metadata": {},
   "outputs": [],
   "source": []
  },
  {
   "cell_type": "code",
   "execution_count": 86,
   "id": "14818ff2",
   "metadata": {},
   "outputs": [
    {
     "data": {
      "text/plain": [
       "Jefferson            1511\n",
       "Los Angeles          1199\n",
       "Washington           1035\n",
       "Montgomery            992\n",
       "Polk                  894\n",
       "                     ... \n",
       "Ben Arnold              1\n",
       "Ridgeville              1\n",
       "Culver                  1\n",
       "Five Forks              1\n",
       "Sebastians Branch       1\n",
       "Name: County, Length: 2282, dtype: int64"
      ]
     },
     "execution_count": 86,
     "metadata": {},
     "output_type": "execute_result"
    }
   ],
   "source": [
    "cancel_order.County.value_counts()"
   ]
  },
  {
   "cell_type": "code",
   "execution_count": null,
   "id": "d7542ecf",
   "metadata": {},
   "outputs": [],
   "source": []
  },
  {
   "cell_type": "code",
   "execution_count": 87,
   "id": "4d0e88eb",
   "metadata": {
    "scrolled": true
   },
   "outputs": [
    {
     "data": {
      "text/plain": [
       "TX    7014\n",
       "CA    6378\n",
       "NY    5896\n",
       "PA    5784\n",
       "IL    4357\n",
       "FL    4279\n",
       "OH    3871\n",
       "MN    3302\n",
       "VA    3276\n",
       "MO    3273\n",
       "IA    3261\n",
       "KY    3148\n",
       "NC    3132\n",
       "IN    2881\n",
       "MI    2690\n",
       "WV    2437\n",
       "GA    2292\n",
       "OK    2287\n",
       "CO    2267\n",
       "WI    2126\n",
       "NJ    2032\n",
       "MA    1957\n",
       "AR    1919\n",
       "TN    1852\n",
       "LA    1850\n",
       "KS    1850\n",
       "AL    1849\n",
       "WA    1735\n",
       "MD    1586\n",
       "SC    1570\n",
       "NE    1494\n",
       "MS    1493\n",
       "MT    1348\n",
       "AZ    1348\n",
       "OR    1300\n",
       "ME    1239\n",
       "VT    1140\n",
       "NM    1139\n",
       "CT    1125\n",
       "AK    1065\n",
       "SD    1056\n",
       "UT    1047\n",
       "ID    1012\n",
       "ND     843\n",
       "WY     763\n",
       "DC     695\n",
       "NV     631\n",
       "NH     600\n",
       "HI     266\n",
       "DE     250\n",
       "RI     161\n",
       "Name: State, dtype: int64"
      ]
     },
     "execution_count": 87,
     "metadata": {},
     "output_type": "execute_result"
    }
   ],
   "source": [
    "cancel_order.State.value_counts()"
   ]
  },
  {
   "cell_type": "code",
   "execution_count": 109,
   "id": "0a5c745f",
   "metadata": {},
   "outputs": [
    {
     "data": {
      "text/plain": [
       "Washington        764\n",
       "Kittanning        692\n",
       "Sedgwick          591\n",
       "New York City     552\n",
       "Houston           452\n",
       "                 ... \n",
       "Manton              1\n",
       "Justice             1\n",
       "East Worcester      1\n",
       "Powersville         1\n",
       "Valera              1\n",
       "Name: City, Length: 11526, dtype: int64"
      ]
     },
     "execution_count": 109,
     "metadata": {},
     "output_type": "execute_result"
    }
   ],
   "source": [
    "cancel_order.City.value_counts()"
   ]
  },
  {
   "cell_type": "code",
   "execution_count": null,
   "id": "75a7bc14",
   "metadata": {},
   "outputs": [],
   "source": []
  },
  {
   "cell_type": "code",
   "execution_count": 110,
   "id": "57588d2e",
   "metadata": {},
   "outputs": [],
   "source": [
    "## try to understand reason behind such huge cancelation\n",
    "## for that lets have look oon dicount_amount column of datadrame"
   ]
  },
  {
   "cell_type": "code",
   "execution_count": 111,
   "id": "bcc3c844",
   "metadata": {},
   "outputs": [
    {
     "data": {
      "text/plain": [
       "71.89875479013557"
      ]
     },
     "execution_count": 111,
     "metadata": {},
     "output_type": "execute_result"
    }
   ],
   "source": [
    "cancel_order.discount_amount.mean()"
   ]
  },
  {
   "cell_type": "code",
   "execution_count": 112,
   "id": "6b742ce0",
   "metadata": {},
   "outputs": [],
   "source": [
    "## average dicount is just $71 may be this is the main reason"
   ]
  },
  {
   "cell_type": "code",
   "execution_count": null,
   "id": "8a8c4981",
   "metadata": {},
   "outputs": [],
   "source": []
  },
  {
   "cell_type": "code",
   "execution_count": null,
   "id": "58f5c832",
   "metadata": {},
   "outputs": [],
   "source": []
  },
  {
   "cell_type": "markdown",
   "id": "9295d99e",
   "metadata": {},
   "source": [
    "## Filterout the customer who cancels his/her order most of the times"
   ]
  },
  {
   "cell_type": "code",
   "execution_count": 113,
   "id": "3c73dec4",
   "metadata": {},
   "outputs": [
    {
     "data": {
      "text/plain": [
       "Bailes, Eulah         685\n",
       "Melo, Liz             590\n",
       "Braddy, Percy         421\n",
       "Beebe, Hortencia      387\n",
       "Bhatt, Graham         222\n",
       "                     ... \n",
       "Rix, Franklin           1\n",
       "Barge, Stephen          1\n",
       "Rivas, Deshawn          1\n",
       "Chittenden, Leigha      1\n",
       "Nowak, Shaina           1\n",
       "Name: full_name, Length: 30661, dtype: int64"
      ]
     },
     "execution_count": 113,
     "metadata": {},
     "output_type": "execute_result"
    }
   ],
   "source": [
    "cancel_order.full_name.value_counts()"
   ]
  },
  {
   "cell_type": "code",
   "execution_count": 114,
   "id": "a04c015c",
   "metadata": {},
   "outputs": [],
   "source": [
    "## \"Bailes Eulah\" canceled his order most of the time"
   ]
  },
  {
   "cell_type": "code",
   "execution_count": 115,
   "id": "60a4eae3",
   "metadata": {},
   "outputs": [],
   "source": [
    "## lets see in which category he is cancelling his order"
   ]
  },
  {
   "cell_type": "code",
   "execution_count": 43,
   "id": "1b91dcf4",
   "metadata": {},
   "outputs": [],
   "source": [
    "bailes_canc=cancel_order[cancel_order['full_name']=='Bailes, Eulah']"
   ]
  },
  {
   "cell_type": "code",
   "execution_count": 117,
   "id": "8b4451d3",
   "metadata": {},
   "outputs": [
    {
     "data": {
      "text/html": [
       "<div>\n",
       "<style scoped>\n",
       "    .dataframe tbody tr th:only-of-type {\n",
       "        vertical-align: middle;\n",
       "    }\n",
       "\n",
       "    .dataframe tbody tr th {\n",
       "        vertical-align: top;\n",
       "    }\n",
       "\n",
       "    .dataframe thead th {\n",
       "        text-align: right;\n",
       "    }\n",
       "</style>\n",
       "<table border=\"1\" class=\"dataframe\">\n",
       "  <thead>\n",
       "    <tr style=\"text-align: right;\">\n",
       "      <th></th>\n",
       "      <th>order_id</th>\n",
       "      <th>order_date</th>\n",
       "      <th>status</th>\n",
       "      <th>item_id</th>\n",
       "      <th>sku</th>\n",
       "      <th>qty_ordered</th>\n",
       "      <th>price</th>\n",
       "      <th>value</th>\n",
       "      <th>discount_amount</th>\n",
       "      <th>total</th>\n",
       "      <th>category</th>\n",
       "      <th>payment_method</th>\n",
       "      <th>bi_st</th>\n",
       "      <th>year</th>\n",
       "      <th>month</th>\n",
       "      <th>Gender</th>\n",
       "      <th>age</th>\n",
       "      <th>full_name</th>\n",
       "      <th>E Mail</th>\n",
       "      <th>Customer Since</th>\n",
       "      <th>SSN</th>\n",
       "      <th>Phone No.</th>\n",
       "      <th>Place Name</th>\n",
       "      <th>County</th>\n",
       "      <th>City</th>\n",
       "      <th>State</th>\n",
       "      <th>Zip</th>\n",
       "      <th>Region</th>\n",
       "      <th>Discount_Percent</th>\n",
       "    </tr>\n",
       "  </thead>\n",
       "  <tbody>\n",
       "    <tr>\n",
       "      <th>187578</th>\n",
       "      <td>100460154</td>\n",
       "      <td>2021-03-24</td>\n",
       "      <td>canceled</td>\n",
       "      <td>755277.0</td>\n",
       "      <td>MATQMO5A83E7751D666</td>\n",
       "      <td>2.0</td>\n",
       "      <td>845.0</td>\n",
       "      <td>845.0</td>\n",
       "      <td>0.0</td>\n",
       "      <td>845.0</td>\n",
       "      <td>Mobiles &amp; Tablets</td>\n",
       "      <td>Easypay</td>\n",
       "      <td>Gross</td>\n",
       "      <td>2021</td>\n",
       "      <td>Mar-2021</td>\n",
       "      <td>F</td>\n",
       "      <td>52.0</td>\n",
       "      <td>Bailes, Eulah</td>\n",
       "      <td>eulah.bailes@gmail.com</td>\n",
       "      <td>2/8/2017</td>\n",
       "      <td>077-02-1900</td>\n",
       "      <td>215-203-6895</td>\n",
       "      <td>Kittanning</td>\n",
       "      <td>Armstrong</td>\n",
       "      <td>Kittanning</td>\n",
       "      <td>PA</td>\n",
       "      <td>16201</td>\n",
       "      <td>Northeast</td>\n",
       "      <td>0.0</td>\n",
       "    </tr>\n",
       "    <tr>\n",
       "      <th>187579</th>\n",
       "      <td>100465097</td>\n",
       "      <td>2021-03-31</td>\n",
       "      <td>canceled</td>\n",
       "      <td>763158.0</td>\n",
       "      <td>MATQMO5A83E7751D666</td>\n",
       "      <td>2.0</td>\n",
       "      <td>845.0</td>\n",
       "      <td>845.0</td>\n",
       "      <td>0.0</td>\n",
       "      <td>845.0</td>\n",
       "      <td>Mobiles &amp; Tablets</td>\n",
       "      <td>Easypay</td>\n",
       "      <td>Gross</td>\n",
       "      <td>2021</td>\n",
       "      <td>Mar-2021</td>\n",
       "      <td>F</td>\n",
       "      <td>52.0</td>\n",
       "      <td>Bailes, Eulah</td>\n",
       "      <td>eulah.bailes@gmail.com</td>\n",
       "      <td>2/8/2017</td>\n",
       "      <td>077-02-1900</td>\n",
       "      <td>215-203-6895</td>\n",
       "      <td>Kittanning</td>\n",
       "      <td>Armstrong</td>\n",
       "      <td>Kittanning</td>\n",
       "      <td>PA</td>\n",
       "      <td>16201</td>\n",
       "      <td>Northeast</td>\n",
       "      <td>0.0</td>\n",
       "    </tr>\n",
       "    <tr>\n",
       "      <th>187580</th>\n",
       "      <td>100465098</td>\n",
       "      <td>2021-03-31</td>\n",
       "      <td>canceled</td>\n",
       "      <td>763159.0</td>\n",
       "      <td>MATRON5A45DB4964F49</td>\n",
       "      <td>2.0</td>\n",
       "      <td>62.5</td>\n",
       "      <td>62.5</td>\n",
       "      <td>0.0</td>\n",
       "      <td>62.5</td>\n",
       "      <td>Mobiles &amp; Tablets</td>\n",
       "      <td>Easypay</td>\n",
       "      <td>Gross</td>\n",
       "      <td>2021</td>\n",
       "      <td>Mar-2021</td>\n",
       "      <td>F</td>\n",
       "      <td>52.0</td>\n",
       "      <td>Bailes, Eulah</td>\n",
       "      <td>eulah.bailes@gmail.com</td>\n",
       "      <td>2/8/2017</td>\n",
       "      <td>077-02-1900</td>\n",
       "      <td>215-203-6895</td>\n",
       "      <td>Kittanning</td>\n",
       "      <td>Armstrong</td>\n",
       "      <td>Kittanning</td>\n",
       "      <td>PA</td>\n",
       "      <td>16201</td>\n",
       "      <td>Northeast</td>\n",
       "      <td>0.0</td>\n",
       "    </tr>\n",
       "  </tbody>\n",
       "</table>\n",
       "</div>"
      ],
      "text/plain": [
       "         order_id  order_date    status   item_id                  sku  \\\n",
       "187578  100460154  2021-03-24  canceled  755277.0  MATQMO5A83E7751D666   \n",
       "187579  100465097  2021-03-31  canceled  763158.0  MATQMO5A83E7751D666   \n",
       "187580  100465098  2021-03-31  canceled  763159.0  MATRON5A45DB4964F49   \n",
       "\n",
       "        qty_ordered  price  value  discount_amount  total           category  \\\n",
       "187578          2.0  845.0  845.0              0.0  845.0  Mobiles & Tablets   \n",
       "187579          2.0  845.0  845.0              0.0  845.0  Mobiles & Tablets   \n",
       "187580          2.0   62.5   62.5              0.0   62.5  Mobiles & Tablets   \n",
       "\n",
       "       payment_method  bi_st  year     month Gender   age      full_name  \\\n",
       "187578        Easypay  Gross  2021  Mar-2021      F  52.0  Bailes, Eulah   \n",
       "187579        Easypay  Gross  2021  Mar-2021      F  52.0  Bailes, Eulah   \n",
       "187580        Easypay  Gross  2021  Mar-2021      F  52.0  Bailes, Eulah   \n",
       "\n",
       "                        E Mail Customer Since          SSN    Phone No.   \\\n",
       "187578  eulah.bailes@gmail.com       2/8/2017  077-02-1900  215-203-6895   \n",
       "187579  eulah.bailes@gmail.com       2/8/2017  077-02-1900  215-203-6895   \n",
       "187580  eulah.bailes@gmail.com       2/8/2017  077-02-1900  215-203-6895   \n",
       "\n",
       "        Place Name     County        City State    Zip     Region  \\\n",
       "187578  Kittanning  Armstrong  Kittanning    PA  16201  Northeast   \n",
       "187579  Kittanning  Armstrong  Kittanning    PA  16201  Northeast   \n",
       "187580  Kittanning  Armstrong  Kittanning    PA  16201  Northeast   \n",
       "\n",
       "        Discount_Percent  \n",
       "187578               0.0  \n",
       "187579               0.0  \n",
       "187580               0.0  "
      ]
     },
     "execution_count": 117,
     "metadata": {},
     "output_type": "execute_result"
    }
   ],
   "source": [
    "bailes_canc.head(3)"
   ]
  },
  {
   "cell_type": "code",
   "execution_count": 118,
   "id": "79b96164",
   "metadata": {},
   "outputs": [
    {
     "data": {
      "text/plain": [
       "Men's Fashion        396\n",
       "Mobiles & Tablets    271\n",
       "Soghaat               13\n",
       "Others                 3\n",
       "Entertainment          2\n",
       "Name: category, dtype: int64"
      ]
     },
     "execution_count": 118,
     "metadata": {},
     "output_type": "execute_result"
    }
   ],
   "source": [
    "bailes_canc.category.value_counts()"
   ]
  },
  {
   "cell_type": "code",
   "execution_count": 44,
   "id": "b1a24af1",
   "metadata": {},
   "outputs": [
    {
     "data": {
      "image/png": "[encoded data removed]",
      "text/plain": [
       "<Figure size 640x480 with 1 Axes>"
      ]
     },
     "metadata": {},
     "output_type": "display_data"
    }
   ],
   "source": [
    "ax=sns.countplot(y='category', data=bailes_canc,\n",
    "             order=bailes_canc.category.value_counts().index)\n",
    "\n",
    "value_label=bailes_canc.category.value_counts().values\n",
    "ax.bar_label(container=ax.containers[0], labels=value_label);"
   ]
  },
  {
   "cell_type": "code",
   "execution_count": null,
   "id": "c0525c92",
   "metadata": {},
   "outputs": [],
   "source": []
  },
  {
   "cell_type": "code",
   "execution_count": 8,
   "id": "8a0cf952",
   "metadata": {},
   "outputs": [
    {
     "data": {
      "image/png": "[encoded data removed]",
      "text/plain": [
       "<Figure size 432x288 with 1 Axes>"
      ]
     },
     "metadata": {
      "needs_background": "light"
     },
     "output_type": "display_data"
    }
   ],
   "source": [
    "product=['bat','stump','bails','balls']\n",
    "price=[250,150,400,200]\n",
    "plt.bar(x=product, height=price)\n",
    "for x, y in zip(product, price):\n",
    "    label=y\n",
    "    plt.annotate(label,(x,y));"
   ]
  },
  {
   "cell_type": "code",
   "execution_count": null,
   "id": "5b5ad0d1",
   "metadata": {},
   "outputs": [],
   "source": []
  }
 ],
 "metadata": {
  "kernelspec": {
   "display_name": "Python 3 (ipykernel)",
   "language": "python",
   "name": "python3"
  },
  "language_info": {
   "codemirror_mode": {
    "name": "ipython",
    "version": 3
   },
   "file_extension": ".py",
   "mimetype": "text/x-python",
   "name": "python",
   "nbconvert_exporter": "python",
   "pygments_lexer": "ipython3",
   "version": "3.9.7"
  }
 },
 "nbformat": 4,
 "nbformat_minor": 5
}
